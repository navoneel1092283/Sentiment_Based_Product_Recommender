{
 "cells": [
  {
   "cell_type": "markdown",
   "metadata": {},
   "source": [
    "# Problem Statement: Sentiment Based Product Recommendation System"
   ]
  },
  {
   "cell_type": "code",
   "execution_count": 1,
   "metadata": {
    "id": "ctbw6qSGGHwo"
   },
   "outputs": [],
   "source": [
    "# importing the necessary libraries\n",
    "import warnings\n",
    "warnings.filterwarnings('ignore')\n",
    "import string\n",
    "from nltk.corpus import stopwords\n",
    "from nltk.stem import WordNetLemmatizer\n",
    "import numpy as np\n",
    "import pandas as pd\n",
    "import matplotlib.pyplot as plt\n",
    "import joblib\n",
    "from sklearn.linear_model import LogisticRegression\n",
    "from sklearn.naive_bayes import MultinomialNB\n",
    "from sklearn.model_selection import GridSearchCV\n",
    "from sklearn import metrics\n",
    "import matplotlib.pyplot as plt\n",
    "from sklearn.model_selection import train_test_split\n",
    "from sklearn.feature_extraction.text import TfidfVectorizer\n",
    "from imblearn.over_sampling import SMOTE\n",
    "import xgboost as xgb\n",
    "from xgboost import XGBClassifier\n",
    "from sklearn.metrics.pairwise import pairwise_distances\n",
    "from collections import Counter\n",
    "from sklearn.preprocessing import MinMaxScaler"
   ]
  },
  {
   "cell_type": "markdown",
   "metadata": {
    "id": "9zRfuK0hGHw-"
   },
   "source": [
    "# 1. Developing the Sentiment Analyzer"
   ]
  },
  {
   "cell_type": "code",
   "execution_count": 2,
   "metadata": {
    "id": "Vj7lFNoQGHxA"
   },
   "outputs": [],
   "source": [
    "# reading the dataset\n",
    "df = pd.read_csv('sample30.csv')"
   ]
  },
  {
   "cell_type": "code",
   "execution_count": 3,
   "metadata": {
    "colab": {
     "base_uri": "https://localhost:8080/",
     "height": 568
    },
    "id": "E6AB1GwPGHxB",
    "outputId": "56d10fe7-44bb-49e9-ff8b-6e25187bdcbc",
    "scrolled": true
   },
   "outputs": [
    {
     "data": {
      "text/html": [
       "<div>\n",
       "<style scoped>\n",
       "    .dataframe tbody tr th:only-of-type {\n",
       "        vertical-align: middle;\n",
       "    }\n",
       "\n",
       "    .dataframe tbody tr th {\n",
       "        vertical-align: top;\n",
       "    }\n",
       "\n",
       "    .dataframe thead th {\n",
       "        text-align: right;\n",
       "    }\n",
       "</style>\n",
       "<table border=\"1\" class=\"dataframe\">\n",
       "  <thead>\n",
       "    <tr style=\"text-align: right;\">\n",
       "      <th></th>\n",
       "      <th>id</th>\n",
       "      <th>brand</th>\n",
       "      <th>categories</th>\n",
       "      <th>manufacturer</th>\n",
       "      <th>name</th>\n",
       "      <th>reviews_date</th>\n",
       "      <th>reviews_didPurchase</th>\n",
       "      <th>reviews_doRecommend</th>\n",
       "      <th>reviews_rating</th>\n",
       "      <th>reviews_text</th>\n",
       "      <th>reviews_title</th>\n",
       "      <th>reviews_userCity</th>\n",
       "      <th>reviews_userProvince</th>\n",
       "      <th>reviews_username</th>\n",
       "      <th>user_sentiment</th>\n",
       "    </tr>\n",
       "  </thead>\n",
       "  <tbody>\n",
       "    <tr>\n",
       "      <th>0</th>\n",
       "      <td>AV13O1A8GV-KLJ3akUyj</td>\n",
       "      <td>Universal Music</td>\n",
       "      <td>Movies, Music &amp; Books,Music,R&amp;b,Movies &amp; TV,Mo...</td>\n",
       "      <td>Universal Music Group / Cash Money</td>\n",
       "      <td>Pink Friday: Roman Reloaded Re-Up (w/dvd)</td>\n",
       "      <td>2012-11-30T06:21:45.000Z</td>\n",
       "      <td>NaN</td>\n",
       "      <td>NaN</td>\n",
       "      <td>5</td>\n",
       "      <td>i love this album. it's very good. more to the...</td>\n",
       "      <td>Just Awesome</td>\n",
       "      <td>Los Angeles</td>\n",
       "      <td>NaN</td>\n",
       "      <td>joshua</td>\n",
       "      <td>Positive</td>\n",
       "    </tr>\n",
       "    <tr>\n",
       "      <th>1</th>\n",
       "      <td>AV14LG0R-jtxr-f38QfS</td>\n",
       "      <td>Lundberg</td>\n",
       "      <td>Food,Packaged Foods,Snacks,Crackers,Snacks, Co...</td>\n",
       "      <td>Lundberg</td>\n",
       "      <td>Lundberg Organic Cinnamon Toast Rice Cakes</td>\n",
       "      <td>2017-07-09T00:00:00.000Z</td>\n",
       "      <td>True</td>\n",
       "      <td>NaN</td>\n",
       "      <td>5</td>\n",
       "      <td>Good flavor. This review was collected as part...</td>\n",
       "      <td>Good</td>\n",
       "      <td>NaN</td>\n",
       "      <td>NaN</td>\n",
       "      <td>dorothy w</td>\n",
       "      <td>Positive</td>\n",
       "    </tr>\n",
       "    <tr>\n",
       "      <th>2</th>\n",
       "      <td>AV14LG0R-jtxr-f38QfS</td>\n",
       "      <td>Lundberg</td>\n",
       "      <td>Food,Packaged Foods,Snacks,Crackers,Snacks, Co...</td>\n",
       "      <td>Lundberg</td>\n",
       "      <td>Lundberg Organic Cinnamon Toast Rice Cakes</td>\n",
       "      <td>2017-07-09T00:00:00.000Z</td>\n",
       "      <td>True</td>\n",
       "      <td>NaN</td>\n",
       "      <td>5</td>\n",
       "      <td>Good flavor.</td>\n",
       "      <td>Good</td>\n",
       "      <td>NaN</td>\n",
       "      <td>NaN</td>\n",
       "      <td>dorothy w</td>\n",
       "      <td>Positive</td>\n",
       "    </tr>\n",
       "    <tr>\n",
       "      <th>3</th>\n",
       "      <td>AV16khLE-jtxr-f38VFn</td>\n",
       "      <td>K-Y</td>\n",
       "      <td>Personal Care,Medicine Cabinet,Lubricant/Sperm...</td>\n",
       "      <td>K-Y</td>\n",
       "      <td>K-Y Love Sensuality Pleasure Gel</td>\n",
       "      <td>2016-01-06T00:00:00.000Z</td>\n",
       "      <td>False</td>\n",
       "      <td>False</td>\n",
       "      <td>1</td>\n",
       "      <td>I read through the reviews on here before look...</td>\n",
       "      <td>Disappointed</td>\n",
       "      <td>NaN</td>\n",
       "      <td>NaN</td>\n",
       "      <td>rebecca</td>\n",
       "      <td>Negative</td>\n",
       "    </tr>\n",
       "    <tr>\n",
       "      <th>4</th>\n",
       "      <td>AV16khLE-jtxr-f38VFn</td>\n",
       "      <td>K-Y</td>\n",
       "      <td>Personal Care,Medicine Cabinet,Lubricant/Sperm...</td>\n",
       "      <td>K-Y</td>\n",
       "      <td>K-Y Love Sensuality Pleasure Gel</td>\n",
       "      <td>2016-12-21T00:00:00.000Z</td>\n",
       "      <td>False</td>\n",
       "      <td>False</td>\n",
       "      <td>1</td>\n",
       "      <td>My husband bought this gel for us. The gel cau...</td>\n",
       "      <td>Irritation</td>\n",
       "      <td>NaN</td>\n",
       "      <td>NaN</td>\n",
       "      <td>walker557</td>\n",
       "      <td>Negative</td>\n",
       "    </tr>\n",
       "  </tbody>\n",
       "</table>\n",
       "</div>"
      ],
      "text/plain": [
       "                     id            brand  \\\n",
       "0  AV13O1A8GV-KLJ3akUyj  Universal Music   \n",
       "1  AV14LG0R-jtxr-f38QfS         Lundberg   \n",
       "2  AV14LG0R-jtxr-f38QfS         Lundberg   \n",
       "3  AV16khLE-jtxr-f38VFn              K-Y   \n",
       "4  AV16khLE-jtxr-f38VFn              K-Y   \n",
       "\n",
       "                                          categories  \\\n",
       "0  Movies, Music & Books,Music,R&b,Movies & TV,Mo...   \n",
       "1  Food,Packaged Foods,Snacks,Crackers,Snacks, Co...   \n",
       "2  Food,Packaged Foods,Snacks,Crackers,Snacks, Co...   \n",
       "3  Personal Care,Medicine Cabinet,Lubricant/Sperm...   \n",
       "4  Personal Care,Medicine Cabinet,Lubricant/Sperm...   \n",
       "\n",
       "                         manufacturer  \\\n",
       "0  Universal Music Group / Cash Money   \n",
       "1                            Lundberg   \n",
       "2                            Lundberg   \n",
       "3                                 K-Y   \n",
       "4                                 K-Y   \n",
       "\n",
       "                                         name              reviews_date  \\\n",
       "0   Pink Friday: Roman Reloaded Re-Up (w/dvd)  2012-11-30T06:21:45.000Z   \n",
       "1  Lundberg Organic Cinnamon Toast Rice Cakes  2017-07-09T00:00:00.000Z   \n",
       "2  Lundberg Organic Cinnamon Toast Rice Cakes  2017-07-09T00:00:00.000Z   \n",
       "3            K-Y Love Sensuality Pleasure Gel  2016-01-06T00:00:00.000Z   \n",
       "4            K-Y Love Sensuality Pleasure Gel  2016-12-21T00:00:00.000Z   \n",
       "\n",
       "  reviews_didPurchase reviews_doRecommend  reviews_rating  \\\n",
       "0                 NaN                 NaN               5   \n",
       "1                True                 NaN               5   \n",
       "2                True                 NaN               5   \n",
       "3               False               False               1   \n",
       "4               False               False               1   \n",
       "\n",
       "                                        reviews_text reviews_title  \\\n",
       "0  i love this album. it's very good. more to the...  Just Awesome   \n",
       "1  Good flavor. This review was collected as part...          Good   \n",
       "2                                       Good flavor.          Good   \n",
       "3  I read through the reviews on here before look...  Disappointed   \n",
       "4  My husband bought this gel for us. The gel cau...    Irritation   \n",
       "\n",
       "  reviews_userCity reviews_userProvince reviews_username user_sentiment  \n",
       "0      Los Angeles                  NaN           joshua       Positive  \n",
       "1              NaN                  NaN        dorothy w       Positive  \n",
       "2              NaN                  NaN        dorothy w       Positive  \n",
       "3              NaN                  NaN          rebecca       Negative  \n",
       "4              NaN                  NaN        walker557       Negative  "
      ]
     },
     "execution_count": 3,
     "metadata": {},
     "output_type": "execute_result"
    }
   ],
   "source": [
    "# displaying top 5 rows of the dataset\n",
    "df.head()"
   ]
  },
  {
   "cell_type": "markdown",
   "metadata": {},
   "source": [
    "## Exploratory Data Analysis (EDA)"
   ]
  },
  {
   "cell_type": "code",
   "execution_count": 4,
   "metadata": {
    "colab": {
     "base_uri": "https://localhost:8080/"
    },
    "id": "1_nz9b_AGHxG",
    "outputId": "c7c6cc6b-d89e-4ed7-dfce-818bb6d4e80a"
   },
   "outputs": [
    {
     "data": {
      "text/plain": [
       "id                          0\n",
       "brand                       0\n",
       "categories                  0\n",
       "manufacturer              141\n",
       "name                        0\n",
       "reviews_date               46\n",
       "reviews_didPurchase     14068\n",
       "reviews_doRecommend      2570\n",
       "reviews_rating              0\n",
       "reviews_text                0\n",
       "reviews_title             190\n",
       "reviews_userCity        28071\n",
       "reviews_userProvince    29830\n",
       "reviews_username           63\n",
       "user_sentiment              1\n",
       "dtype: int64"
      ]
     },
     "execution_count": 4,
     "metadata": {},
     "output_type": "execute_result"
    }
   ],
   "source": [
    "# checking for null values in the dataset\n",
    "df.isnull().sum(axis = 0)"
   ]
  },
  {
   "cell_type": "code",
   "execution_count": 5,
   "metadata": {
    "id": "eIiGJfhDGHxI"
   },
   "outputs": [],
   "source": [
    "# removing the instance (1 instance) with null value of label, user_sentiment\n",
    "df = df[df['user_sentiment'].notna()]"
   ]
  },
  {
   "cell_type": "code",
   "execution_count": 6,
   "metadata": {},
   "outputs": [
    {
     "data": {
      "text/plain": [
       "Positive    26632\n",
       "Negative     3367\n",
       "Name: user_sentiment, dtype: int64"
      ]
     },
     "execution_count": 6,
     "metadata": {},
     "output_type": "execute_result"
    }
   ],
   "source": [
    "# exploring the classes of the label, user_sentiment\n",
    "df['user_sentiment'].value_counts()"
   ]
  },
  {
   "cell_type": "code",
   "execution_count": 7,
   "metadata": {
    "colab": {
     "base_uri": "https://localhost:8080/",
     "height": 336
    },
    "id": "DrlwDgpbI8mg",
    "outputId": "1d3bd9bc-49f3-4dbb-bf64-62067bd5a497"
   },
   "outputs": [
    {
     "data": {
      "image/png": "[encoded data removed]",
      "text/plain": [
       "<Figure size 432x288 with 1 Axes>"
      ]
     },
     "metadata": {
      "needs_background": "light"
     },
     "output_type": "display_data"
    }
   ],
   "source": [
    "# Class Distribution of the label, user_sentiment\n",
    "neg_label = Counter(df['user_sentiment'])['Negative']\n",
    "pos_label = Counter(df['user_sentiment'])['Positive']\n",
    "\n",
    "fig = plt.figure()\n",
    "ax = fig.add_axes([0,0,1,1])\n",
    "classes = ['negative', 'positive']\n",
    "frequencies = [neg_label, pos_label]\n",
    "ax.bar(classes, frequencies)\n",
    "plt.show()"
   ]
  },
  {
   "cell_type": "markdown",
   "metadata": {
    "id": "w-Wu8wBcGHxK"
   },
   "source": [
    "## The module, text_process for text pre-processing which includes text lower-casing, removal of punctuations & stopwords and finally verb-form lemmatization of each word in every review"
   ]
  },
  {
   "cell_type": "code",
   "execution_count": 8,
   "metadata": {
    "id": "LLmuPrPAGHxL"
   },
   "outputs": [],
   "source": [
    "def text_process(msg):\n",
    "    # 1. all lower case\n",
    "    # 2. remove punctuation and stopwords\n",
    "    # 3. lemmatization\n",
    "    msg = msg.lower()\n",
    "    nopunct = [char for char in msg if char not in string.punctuation]\n",
    "    nopunct = ''.join(nopunct)\n",
    "    a = ''\n",
    "    list_of_words = nopunct.split()\n",
    "    for i in range(len(list_of_words)):\n",
    "        if list_of_words[i] not in stopwords.words('english'):\n",
    "            b = WordNetLemmatizer().lemmatize(list_of_words[i], pos=\"v\")\n",
    "            a = a + b + ' '\n",
    "    a = a.rstrip()\n",
    "    return a"
   ]
  },
  {
   "cell_type": "code",
   "execution_count": 9,
   "metadata": {
    "id": "ybXYOoARGHxN"
   },
   "outputs": [],
   "source": [
    "df['reviews_text'] = df['reviews_text'].apply(text_process)"
   ]
  },
  {
   "cell_type": "code",
   "execution_count": 10,
   "metadata": {
    "id": "TiN2cHHIGHxN"
   },
   "outputs": [],
   "source": [
    "# labelling the positive user sentiments as 1 and negative ones as 0\n",
    "df['user_sentiment'] = df['user_sentiment'].map({'Positive':1, 'Negative':0})"
   ]
  },
  {
   "cell_type": "code",
   "execution_count": 11,
   "metadata": {
    "id": "XTCxHEk_GHxO"
   },
   "outputs": [],
   "source": [
    "# splitting the features, X as the text reviews and y as the labels (here user-sentiments)\n",
    "X = df['reviews_text']\n",
    "y = df['user_sentiment']"
   ]
  },
  {
   "cell_type": "code",
   "execution_count": 12,
   "metadata": {
    "id": "Qi7zxYG9GHxP"
   },
   "outputs": [],
   "source": [
    "# 80-20 splitting into training and test data\n",
    "X_train, X_test, y_train, y_test = train_test_split(X, y, test_size=0.2, random_state=1234)"
   ]
  },
  {
   "cell_type": "code",
   "execution_count": 13,
   "metadata": {
    "id": "uy8EcoQnGHxQ"
   },
   "outputs": [],
   "source": [
    "# tf-idf vectorization of the Training Data and transforming the test data\n",
    "vectorizer = TfidfVectorizer()\n",
    "tfidf_train = vectorizer.fit_transform(X_train.values.astype('U'))\n",
    "tfidf_test = vectorizer.transform(X_test.values.astype('U'))"
   ]
  },
  {
   "cell_type": "code",
   "execution_count": 14,
   "metadata": {
    "colab": {
     "base_uri": "https://localhost:8080/"
    },
    "id": "5tF0-L7yGHxQ",
    "outputId": "19331da7-de62-4622-ecba-369cd03bcff3"
   },
   "outputs": [
    {
     "data": {
      "text/plain": [
       "1    21285\n",
       "0     2714\n",
       "Name: user_sentiment, dtype: int64"
      ]
     },
     "execution_count": 14,
     "metadata": {},
     "output_type": "execute_result"
    }
   ],
   "source": [
    "# getting the class label distribution in the training data\n",
    "y_train.value_counts()"
   ]
  },
  {
   "cell_type": "markdown",
   "metadata": {
    "id": "oYH_UNE-GHxR"
   },
   "source": [
    "## 1.1 Training the Logistic Regression Model for Text Classification"
   ]
  },
  {
   "cell_type": "code",
   "execution_count": 15,
   "metadata": {
    "id": "LvimbQJvGHxS"
   },
   "outputs": [],
   "source": [
    "# instantiating the Logistic Regression Classifier with more class weight for label, 0 (minority class)\n",
    "clf = LogisticRegression(class_weight = {0: 0.6, 1: 0.4}, random_state = 1234)\n",
    "# performing 5-fold Grid Search Cross Validation for tuning the hyper-parameter, C\n",
    "parameters = {'C':[0.01, 0.1, 1, 10, 100]}\n",
    "folds = 5\n",
    "grid_search = GridSearchCV(param_grid = parameters, \n",
    "                           estimator = clf, \n",
    "                           cv = folds,\n",
    "                           verbose = 3,\n",
    "                           return_train_score = True)"
   ]
  },
  {
   "cell_type": "code",
   "execution_count": 16,
   "metadata": {
    "colab": {
     "base_uri": "https://localhost:8080/"
    },
    "id": "6OqgZhnFGHxU",
    "outputId": "adb89706-c82f-49fc-adc1-8ac2cebd4944"
   },
   "outputs": [
    {
     "name": "stdout",
     "output_type": "stream",
     "text": [
      "Fitting 5 folds for each of 5 candidates, totalling 25 fits\n",
      "[CV 1/5] END .........................................C=0.01; total time=   0.0s\n",
      "[CV 2/5] END .........................................C=0.01; total time=   0.0s\n",
      "[CV 3/5] END .........................................C=0.01; total time=   0.0s\n",
      "[CV 4/5] END .........................................C=0.01; total time=   0.0s\n",
      "[CV 5/5] END .........................................C=0.01; total time=   0.0s\n",
      "[CV 1/5] END ..........................................C=0.1; total time=   0.3s\n",
      "[CV 2/5] END ..........................................C=0.1; total time=   0.1s\n",
      "[CV 3/5] END ..........................................C=0.1; total time=   0.0s\n",
      "[CV 4/5] END ..........................................C=0.1; total time=   0.1s\n",
      "[CV 5/5] END ..........................................C=0.1; total time=   0.0s\n",
      "[CV 1/5] END ............................................C=1; total time=   0.2s\n",
      "[CV 2/5] END ............................................C=1; total time=   0.2s\n",
      "[CV 3/5] END ............................................C=1; total time=   0.2s\n",
      "[CV 4/5] END ............................................C=1; total time=   0.2s\n",
      "[CV 5/5] END ............................................C=1; total time=   0.2s\n",
      "[CV 1/5] END ...........................................C=10; total time=   0.5s\n",
      "[CV 2/5] END ...........................................C=10; total time=   0.3s\n",
      "[CV 3/5] END ...........................................C=10; total time=   0.3s\n",
      "[CV 4/5] END ...........................................C=10; total time=   0.4s\n",
      "[CV 5/5] END ...........................................C=10; total time=   0.4s\n",
      "[CV 1/5] END ..........................................C=100; total time=   0.4s\n",
      "[CV 2/5] END ..........................................C=100; total time=   0.3s\n",
      "[CV 3/5] END ..........................................C=100; total time=   0.5s\n",
      "[CV 4/5] END ..........................................C=100; total time=   0.5s\n",
      "[CV 5/5] END ..........................................C=100; total time=   0.5s\n"
     ]
    }
   ],
   "source": [
    "grid_search = grid_search.fit(tfidf_train, y_train)"
   ]
  },
  {
   "cell_type": "code",
   "execution_count": 17,
   "metadata": {
    "colab": {
     "base_uri": "https://localhost:8080/"
    },
    "id": "itceoe2MGHxW",
    "outputId": "5401baad-3686-467e-fbdb-f1b21294cf2a"
   },
   "outputs": [
    {
     "data": {
      "text/plain": [
       "{'C': 10}"
      ]
     },
     "execution_count": 17,
     "metadata": {},
     "output_type": "execute_result"
    }
   ],
   "source": [
    "# getting the best value of hyper-parameter, C\n",
    "grid_search.best_params_"
   ]
  },
  {
   "cell_type": "code",
   "execution_count": 18,
   "metadata": {
    "id": "gI8ARRj7GHxX"
   },
   "outputs": [],
   "source": [
    "# re-training the Logistic Regression Model on the Training Set with the best value of hyper-parameter, C\n",
    "lr_model = LogisticRegression(C = 10, class_weight = {0: 0.6, 1: 0.4}, random_state = 1234).fit(tfidf_train, y_train)"
   ]
  },
  {
   "cell_type": "code",
   "execution_count": 19,
   "metadata": {
    "id": "mCb8g7L7GHxY"
   },
   "outputs": [],
   "source": [
    "# getting the predicted probabilities and predictions for the Training Set\n",
    "y_train_prob = lr_model.predict_proba(tfidf_train)\n",
    "y_train_pred = lr_model.predict(tfidf_train)"
   ]
  },
  {
   "cell_type": "code",
   "execution_count": 20,
   "metadata": {
    "id": "RTw9IyrVGHxZ"
   },
   "outputs": [],
   "source": [
    "# custom thresholding on the Training Set\n",
    "y_train_df = pd.DataFrame({'label':y_train, 'predicted':y_train_pred, 'probability':y_train_prob[:,1]})\n",
    "numbers = [float(x)/100 for x in range(100)]\n",
    "for i in numbers:\n",
    "    y_train_df[i] = y_train_df['probability'].map(lambda x: 1 if x >= i else 0)"
   ]
  },
  {
   "cell_type": "code",
   "execution_count": 21,
   "metadata": {
    "id": "lcaaOVWVGHxa"
   },
   "outputs": [],
   "source": [
    "# Calculation of accuracy, sensitivity and specificity for various probability cutoffs.\n",
    "cutoff_df = pd.DataFrame(columns = ['prob','accuracy','sensi','speci'])\n",
    "\n",
    "# TP = confusion[1,1] # true positive \n",
    "# TN = confusion[0,0] # true negatives\n",
    "# FP = confusion[0,1] # false positives\n",
    "# FN = confusion[1,0] # false negatives\n",
    "\n",
    "for i in numbers:\n",
    "    cm1 = metrics.confusion_matrix(y_train_df['label'], y_train_df[i])\n",
    "    total1 = sum(sum(cm1))\n",
    "    accuracy = (cm1[0,0]+cm1[1,1])/total1\n",
    "    \n",
    "    speci = cm1[0,0]/(cm1[0,0]+cm1[0,1])\n",
    "    sensi = cm1[1,1]/(cm1[1,0]+cm1[1,1])\n",
    "    cutoff_df.loc[i] = [i, accuracy, sensi, speci]"
   ]
  },
  {
   "cell_type": "code",
   "execution_count": 22,
   "metadata": {
    "colab": {
     "base_uri": "https://localhost:8080/",
     "height": 497
    },
    "id": "1wlvmCk3GHxd",
    "outputId": "489ded08-79df-4c87-d7cd-70b4c47d5e9e",
    "scrolled": false
   },
   "outputs": [
    {
     "data": {
      "image/png": "[encoded data removed]",
      "text/plain": [
       "<Figure size 864x576 with 1 Axes>"
      ]
     },
     "metadata": {
      "needs_background": "light"
     },
     "output_type": "display_data"
    }
   ],
   "source": [
    "# plotting the Accuracy, Sensitivity and Specificity Curves at different thresholds\n",
    "fig = plt.figure(figsize=[12,8])\n",
    "plt.vlines(x=0.69, ymax=1.2, ymin=0, colors=\"r\", linestyles=\"--\")\n",
    "plt.hlines(y=0.97, xmax=1, xmin=0, colors=\"r\", linestyles=\"--\")\n",
    "plt.plot(cutoff_df['accuracy'])\n",
    "plt.plot(cutoff_df['sensi'])\n",
    "plt.plot(cutoff_df['speci'])\n",
    "plt.legend(['Accuracy', 'Sensitivity', 'Specificity'], loc='center right')\n",
    "plt.xlabel('Threshold')\n",
    "plt.show()"
   ]
  },
  {
   "cell_type": "markdown",
   "metadata": {
    "id": "mgascwwXGHxf"
   },
   "source": [
    "### taking the threshold of 0.69 to be 0.75 as number of false positives needs to be minimized, hence Specificity needs to be increased"
   ]
  },
  {
   "cell_type": "code",
   "execution_count": 23,
   "metadata": {
    "id": "sTJlM4ggGHxg"
   },
   "outputs": [],
   "source": [
    "y_train_pred = [1 if predict_prob >= 0.75 else 0 for predict_prob in y_train_prob[:,1]]"
   ]
  },
  {
   "cell_type": "code",
   "execution_count": 24,
   "metadata": {
    "id": "1aaIahkMGHxh"
   },
   "outputs": [],
   "source": [
    "# getting the predicted probabilities and predictions for the Test Set with 0.75 threshold\n",
    "y_test_prob = lr_model.predict_proba(tfidf_test)\n",
    "y_test_pred = [1 if predict_prob >= 0.75 else 0 for predict_prob in y_test_prob[:,1]]"
   ]
  },
  {
   "cell_type": "code",
   "execution_count": 25,
   "metadata": {
    "id": "B0_Oz0q9GHxi"
   },
   "outputs": [],
   "source": [
    "# computing the accuracy and AUC score for the Training Set and Test Set\n",
    "training_accuracy = metrics.accuracy_score(y_train, y_train_pred)\n",
    "\n",
    "fpr, tpr, thresholds = metrics.roc_curve(y_train, y_train_prob[:, 1])\n",
    "roc_auc = metrics.auc(fpr, tpr)\n",
    "\n",
    "training_auc = roc_auc\n",
    "\n",
    "\n",
    "test_accuracy = metrics.accuracy_score(y_test, y_test_pred)\n",
    "\n",
    "fpr, tpr, thresholds = metrics.roc_curve(y_test, y_test_prob[:,1])\n",
    "roc_auc = metrics.auc(fpr, tpr)\n",
    "\n",
    "test_auc = roc_auc"
   ]
  },
  {
   "cell_type": "code",
   "execution_count": 26,
   "metadata": {
    "colab": {
     "base_uri": "https://localhost:8080/"
    },
    "id": "gGrbTG2uGHxj",
    "outputId": "174002dc-5b51-403f-e56f-2b185c26f6fb"
   },
   "outputs": [
    {
     "name": "stdout",
     "output_type": "stream",
     "text": [
      "Training Accuracy:  0.9504562690112088\n",
      "Test Accuracy:  0.9165\n",
      "\n",
      "\n",
      "Training AUC:  0.992533153162791\n",
      "Test AUC:  0.9595525363652271\n"
     ]
    }
   ],
   "source": [
    "print(\"Training Accuracy: \", training_accuracy)\n",
    "print(\"Test Accuracy: \", test_accuracy)\n",
    "print(\"\\n\")\n",
    "print(\"Training AUC: \", training_auc)\n",
    "print(\"Test AUC: \", test_auc)"
   ]
  },
  {
   "cell_type": "markdown",
   "metadata": {
    "id": "HCalAfE9GHxl"
   },
   "source": [
    "### computing the Confusion Matrix, Precision, Recall and F1-Score for both Training Set and Test Set"
   ]
  },
  {
   "cell_type": "code",
   "execution_count": 27,
   "metadata": {
    "colab": {
     "base_uri": "https://localhost:8080/"
    },
    "id": "UR72JD1wGHxm",
    "outputId": "c3d493ac-8cf9-4b38-d272-2bb4c844cc3b"
   },
   "outputs": [
    {
     "name": "stdout",
     "output_type": "stream",
     "text": [
      "Training Precision:  0.9968354430379747\n",
      "Training Recall:  0.9471458773784355\n",
      "Training F1-Score:  0.9713556096268279\n",
      "Training Confusion Matrix: \n",
      "[[ 2650    64]\n",
      " [ 1125 20160]]\n",
      "\n",
      "\n",
      "Testing Precision:  0.9819013524264121\n",
      "Testing Recall:  0.9233214886852441\n",
      "Testing F1-Score:  0.9517108433734941\n",
      "Testing Confusion Matrix: \n",
      "[[ 562   91]\n",
      " [ 410 4937]]\n",
      "\n",
      "\n"
     ]
    }
   ],
   "source": [
    "confusion = metrics.confusion_matrix(y_train, y_train_pred)\n",
    "TP = confusion[1,1] # true positive \n",
    "TN = confusion[0,0] # true negatives\n",
    "FP = confusion[0,1] # false positives\n",
    "FN = confusion[1,0] # false negatives\n",
    "\n",
    "precision = TP/(TP+FP)\n",
    "recall = TP/(TP+FN)\n",
    "f1 = (2*precision*recall)/(precision+recall)\n",
    "\n",
    "print('Training Precision: ', precision)\n",
    "print('Training Recall: ', recall)\n",
    "print('Training F1-Score: ', f1)\n",
    "print('Training Confusion Matrix: ')\n",
    "print(confusion)\n",
    "print('\\n')\n",
    "\n",
    "confusion = metrics.confusion_matrix(y_test, y_test_pred)\n",
    "TP = confusion[1,1] # true positive \n",
    "TN = confusion[0,0] # true negatives\n",
    "FP = confusion[0,1] # false positives\n",
    "FN = confusion[1,0] # false negatives\n",
    "\n",
    "precision = TP/(TP+FP)\n",
    "recall = TP/(TP+FN)\n",
    "f1 = (2*precision*recall)/(precision+recall)\n",
    "\n",
    "print('Testing Precision: ', precision)\n",
    "print('Testing Recall: ', recall)\n",
    "print('Testing F1-Score: ', f1)\n",
    "print('Testing Confusion Matrix: ')\n",
    "print(confusion)\n",
    "print('\\n')"
   ]
  },
  {
   "cell_type": "code",
   "execution_count": 28,
   "metadata": {
    "colab": {
     "base_uri": "https://localhost:8080/",
     "height": 350
    },
    "id": "TihQlyWnGHxo",
    "outputId": "e05647e6-1727-4e90-cf50-f0ccf05ff6ca"
   },
   "outputs": [
    {
     "data": {
      "image/png": "[encoded data removed]",
      "text/plain": [
       "<Figure size 360x360 with 1 Axes>"
      ]
     },
     "metadata": {
      "needs_background": "light"
     },
     "output_type": "display_data"
    }
   ],
   "source": [
    "# displaying the ROC Curve\n",
    "fpr, tpr, thresholds = metrics.roc_curve(y_test, y_test_prob[:,1],\n",
    "                                         drop_intermediate = False)\n",
    "auc_score = metrics.roc_auc_score(y_test, y_test_prob[:,1])\n",
    "plt.figure(figsize=(5, 5))\n",
    "plt.plot( fpr, tpr, label='ROC curve (area = %0.2f)' % auc_score)\n",
    "plt.plot([0, 1], [0, 1], 'k--')\n",
    "plt.xlim([0.0, 1.0])\n",
    "plt.ylim([0.0, 1.05])\n",
    "plt.xlabel('False Positive Rate or [1 - True Negative Rate]')\n",
    "plt.ylabel('True Positive Rate')\n",
    "plt.title('Receiver operating characteristic')\n",
    "plt.legend(loc=\"lower right\")\n",
    "plt.show()"
   ]
  },
  {
   "cell_type": "code",
   "execution_count": 29,
   "metadata": {
    "colab": {
     "base_uri": "https://localhost:8080/"
    },
    "id": "HD1H7cxnGHxq",
    "outputId": "5a09684c-f9de-496e-82d1-b6581c6eacd7"
   },
   "outputs": [
    {
     "data": {
      "text/plain": [
       "1    21285\n",
       "0     2714\n",
       "Name: user_sentiment, dtype: int64"
      ]
     },
     "execution_count": 29,
     "metadata": {},
     "output_type": "execute_result"
    }
   ],
   "source": [
    "# getting the class label distribution in the training data\n",
    "y_train.value_counts()"
   ]
  },
  {
   "cell_type": "markdown",
   "metadata": {
    "id": "AuNoeURfGHxs"
   },
   "source": [
    "## 1.2 Training the Multinomial Naive Bayes Model for Text Classification"
   ]
  },
  {
   "cell_type": "markdown",
   "metadata": {
    "id": "km85b-gNGHxr"
   },
   "source": [
    "### Applying Synthetic Minority Over-sampling Technique (SMOTe) on Training Data"
   ]
  },
  {
   "cell_type": "code",
   "execution_count": 30,
   "metadata": {
    "colab": {
     "base_uri": "https://localhost:8080/"
    },
    "id": "VZtpZFaCGHxr",
    "outputId": "df68638a-7b6c-4e83-eb13-a7021e153984"
   },
   "outputs": [
    {
     "data": {
      "text/plain": [
       "Counter({1: 21285, 0: 21285})"
      ]
     },
     "execution_count": 30,
     "metadata": {},
     "output_type": "execute_result"
    }
   ],
   "source": [
    "smote = SMOTE(random_state = 1234)\n",
    "tfidf_train_smote, y_train_smote = smote.fit_resample(tfidf_train, y_train)\n",
    "# getting the class label distribution in the training data after SMOTe\n",
    "Counter(y_train_smote)"
   ]
  },
  {
   "cell_type": "code",
   "execution_count": 31,
   "metadata": {
    "id": "ZkkqBWf5GHxt"
   },
   "outputs": [],
   "source": [
    "# training the Multinomial Naive Bayes Model on the SMOTe over-sampled Training Data\n",
    "nb_clf = MultinomialNB().fit(tfidf_train_smote, y_train_smote)"
   ]
  },
  {
   "cell_type": "code",
   "execution_count": 32,
   "metadata": {
    "id": "fmI092VbGHxt"
   },
   "outputs": [],
   "source": [
    "# getting the predicted probability and predictions for the SMOTe over-sampled Training Data\n",
    "y_train_prob = nb_clf.predict_proba(tfidf_train_smote)\n",
    "y_train_pred = nb_clf.predict(tfidf_train_smote)"
   ]
  },
  {
   "cell_type": "code",
   "execution_count": 33,
   "metadata": {
    "id": "Xk_BrLi7GHxu"
   },
   "outputs": [],
   "source": [
    "# custom thresholding on the Training Set\n",
    "y_train_df = pd.DataFrame({'label':y_train_smote, 'predicted':y_train_pred, 'probability':y_train_prob[:,1]})\n",
    "numbers = [float(x)/100 for x in range(100)]\n",
    "for i in numbers:\n",
    "    y_train_df[i] = y_train_df['probability'].map(lambda x: 1 if x >= i else 0)"
   ]
  },
  {
   "cell_type": "code",
   "execution_count": 34,
   "metadata": {
    "id": "xpdPZMahGHxv"
   },
   "outputs": [],
   "source": [
    "# Calculation of accuracy, sensitivity and specificity for various probability cutoffs.\n",
    "cutoff_df = pd.DataFrame(columns = ['prob','accuracy','sensi','speci'])\n",
    "from sklearn import metrics\n",
    "\n",
    "# TP = confusion[1,1] # true positive \n",
    "# TN = confusion[0,0] # true negatives\n",
    "# FP = confusion[0,1] # false positives\n",
    "# FN = confusion[1,0] # false negatives\n",
    "\n",
    "for i in numbers:\n",
    "    cm1 = metrics.confusion_matrix(y_train_df['label'], y_train_df[i])\n",
    "    total1=sum(sum(cm1))\n",
    "    accuracy = (cm1[0,0]+cm1[1,1])/total1\n",
    "    \n",
    "    speci = cm1[0,0]/(cm1[0,0]+cm1[0,1])\n",
    "    sensi = cm1[1,1]/(cm1[1,0]+cm1[1,1])\n",
    "    cutoff_df.loc[i] =[i,accuracy,sensi,speci]"
   ]
  },
  {
   "cell_type": "code",
   "execution_count": 35,
   "metadata": {
    "colab": {
     "base_uri": "https://localhost:8080/",
     "height": 497
    },
    "id": "XnhCD8grGHxw",
    "outputId": "27c510eb-3794-4b44-bdf5-a7d7a49448e8"
   },
   "outputs": [
    {
     "data": {
      "image/png": "[encoded data removed]",
      "text/plain": [
       "<Figure size 864x576 with 1 Axes>"
      ]
     },
     "metadata": {
      "needs_background": "light"
     },
     "output_type": "display_data"
    }
   ],
   "source": [
    "# plotting the Accuracy, Sensitivity and Specificity Curves at different thresholds\n",
    "fig = plt.figure(figsize=[12,8])\n",
    "plt.vlines(x=0.48, ymax=1.2, ymin=0, colors=\"r\", linestyles=\"--\")\n",
    "plt.hlines(y=0.91, xmax=1, xmin=0, colors=\"r\", linestyles=\"--\")\n",
    "plt.plot(cutoff_df['accuracy'])\n",
    "plt.plot(cutoff_df['sensi'])\n",
    "plt.plot(cutoff_df['speci'])\n",
    "plt.legend(['Accuracy', 'Sensitivity', 'Specificity'], loc='center right')\n",
    "plt.xlabel('Threshold')\n",
    "plt.show()"
   ]
  },
  {
   "cell_type": "markdown",
   "metadata": {
    "id": "henU9NCaGHxx"
   },
   "source": [
    "### taking the threshold of 0.48 to be 0.55 as number of false positives needs to be minimized, hence Specificity needs to be increased"
   ]
  },
  {
   "cell_type": "code",
   "execution_count": 36,
   "metadata": {
    "id": "dvArtgGXGHxy"
   },
   "outputs": [],
   "source": [
    "y_train_pred = [1 if predict_prob >= 0.55 else 0 for predict_prob in y_train_prob[:,1]]"
   ]
  },
  {
   "cell_type": "code",
   "execution_count": 37,
   "metadata": {
    "id": "C1y7e3aDGHxz"
   },
   "outputs": [],
   "source": [
    "# getting the predicted probabilities and predictions for the Test Set with 0.55 threshold\n",
    "y_test_prob = nb_clf.predict_proba(tfidf_test)\n",
    "y_test_pred = [1 if predict_prob >= 0.55 else 0 for predict_prob in y_test_prob[:,1]]"
   ]
  },
  {
   "cell_type": "code",
   "execution_count": 38,
   "metadata": {
    "id": "nKg7UEJ_GHxz"
   },
   "outputs": [],
   "source": [
    "# computing the accuracy and AUC score for the Training Set and Test Set\n",
    "training_accuracy = metrics.accuracy_score(y_train_smote, y_train_pred)\n",
    "\n",
    "fpr, tpr, thresholds = metrics.roc_curve(y_train_smote, y_train_prob[:, 1])\n",
    "roc_auc = metrics.auc(fpr, tpr)\n",
    "\n",
    "training_auc = roc_auc\n",
    "\n",
    "\n",
    "test_accuracy = metrics.accuracy_score(y_test, y_test_pred)\n",
    "\n",
    "fpr, tpr, thresholds = metrics.roc_curve(y_test, y_test_prob[:,1])\n",
    "roc_auc = metrics.auc(fpr, tpr)\n",
    "\n",
    "test_auc = roc_auc"
   ]
  },
  {
   "cell_type": "code",
   "execution_count": 39,
   "metadata": {
    "colab": {
     "base_uri": "https://localhost:8080/"
    },
    "id": "XcI0C9xrGHx1",
    "outputId": "b5a9bbb9-ef5a-491c-ac46-59a142b0f12d"
   },
   "outputs": [
    {
     "name": "stdout",
     "output_type": "stream",
     "text": [
      "Training Accuracy:  0.9079633544749823\n",
      "Test Accuracy:  0.8113333333333334\n",
      "\n",
      "\n",
      "Training AUC:  0.9625894411829479\n",
      "Test AUC:  0.866451712127795\n"
     ]
    }
   ],
   "source": [
    "print(\"Training Accuracy: \", training_accuracy)\n",
    "print(\"Test Accuracy: \", test_accuracy)\n",
    "print(\"\\n\")\n",
    "print(\"Training AUC: \", training_auc)\n",
    "print(\"Test AUC: \", test_auc)"
   ]
  },
  {
   "cell_type": "markdown",
   "metadata": {
    "id": "xNNV6ZE9GHx2"
   },
   "source": [
    "### computing the Confusion Matrix, Precision, Recall and F1-Score for both Training Set and Test Set"
   ]
  },
  {
   "cell_type": "code",
   "execution_count": 40,
   "metadata": {
    "colab": {
     "base_uri": "https://localhost:8080/"
    },
    "id": "nPN8LZaPGHx2",
    "outputId": "5f5efe15-1dd0-46a0-d88a-a7b2a1891638"
   },
   "outputs": [
    {
     "name": "stdout",
     "output_type": "stream",
     "text": [
      "Training Precision:  0.9587405568175815\n",
      "Training Recall:  0.852619215409913\n",
      "Training F1-Score:  0.9025712438454269\n",
      "Training Confusion Matrix: \n",
      "[[20504   781]\n",
      " [ 3137 18148]]\n",
      "\n",
      "\n",
      "Testing Precision:  0.9624753127057275\n",
      "Testing Recall:  0.8202730503085842\n",
      "Testing F1-Score:  0.885702746365105\n",
      "Testing Confusion Matrix: \n",
      "[[ 482  171]\n",
      " [ 961 4386]]\n",
      "\n",
      "\n"
     ]
    }
   ],
   "source": [
    "confusion = metrics.confusion_matrix(y_train_smote, y_train_pred)\n",
    "TP = confusion[1,1] # true positive \n",
    "TN = confusion[0,0] # true negatives\n",
    "FP = confusion[0,1] # false positives\n",
    "FN = confusion[1,0] # false negatives\n",
    "\n",
    "precision = TP/(TP+FP)\n",
    "recall = TP/(TP+FN)\n",
    "f1 = (2*precision*recall)/(precision+recall)\n",
    "\n",
    "print('Training Precision: ', precision)\n",
    "print('Training Recall: ', recall)\n",
    "print('Training F1-Score: ', f1)\n",
    "print('Training Confusion Matrix: ')\n",
    "print(confusion)\n",
    "print('\\n')\n",
    "\n",
    "confusion = metrics.confusion_matrix(y_test, y_test_pred)\n",
    "TP = confusion[1,1] # true positive \n",
    "TN = confusion[0,0] # true negatives\n",
    "FP = confusion[0,1] # false positives\n",
    "FN = confusion[1,0] # false negatives\n",
    "\n",
    "precision = TP/(TP+FP)\n",
    "recall = TP/(TP+FN)\n",
    "f1 = (2*precision*recall)/(precision+recall)\n",
    "\n",
    "print('Testing Precision: ', precision)\n",
    "print('Testing Recall: ', recall)\n",
    "print('Testing F1-Score: ', f1)\n",
    "print('Testing Confusion Matrix: ')\n",
    "print(confusion)\n",
    "print('\\n')"
   ]
  },
  {
   "cell_type": "code",
   "execution_count": 41,
   "metadata": {
    "colab": {
     "base_uri": "https://localhost:8080/",
     "height": 350
    },
    "id": "eG_JAVWtGHx3",
    "outputId": "2cd203cd-9b43-4792-828b-8bee61a39cb7"
   },
   "outputs": [
    {
     "data": {
      "image/png": "[encoded data removed]",
      "text/plain": [
       "<Figure size 360x360 with 1 Axes>"
      ]
     },
     "metadata": {
      "needs_background": "light"
     },
     "output_type": "display_data"
    }
   ],
   "source": [
    "# displaying the ROC Curve\n",
    "fpr, tpr, thresholds = metrics.roc_curve(y_test, y_test_prob[:,1],\n",
    "                                         drop_intermediate = False)\n",
    "auc_score = metrics.roc_auc_score(y_test, y_test_prob[:,1])\n",
    "plt.figure(figsize=(5, 5))\n",
    "plt.plot( fpr, tpr, label='ROC curve (area = %0.2f)' % auc_score)\n",
    "plt.plot([0, 1], [0, 1], 'k--')\n",
    "plt.xlim([0.0, 1.0])\n",
    "plt.ylim([0.0, 1.05])\n",
    "plt.xlabel('False Positive Rate or [1 - True Negative Rate]')\n",
    "plt.ylabel('True Positive Rate')\n",
    "plt.title('Receiver operating characteristic')\n",
    "plt.legend(loc=\"lower right\")\n",
    "plt.show()"
   ]
  },
  {
   "cell_type": "markdown",
   "metadata": {
    "id": "cIx_vkNkGHx4"
   },
   "source": [
    "## 1.3 Training the XGBoost Model for Text Classification"
   ]
  },
  {
   "cell_type": "code",
   "execution_count": 42,
   "metadata": {
    "id": "vgefNUwvGHx4"
   },
   "outputs": [],
   "source": [
    "# instantiating the XGBoost Classifier with eval_metric as logloss and considered is the SMOTe Over-sampled Training Data\n",
    "clf = XGBClassifier(eval_metric = 'logloss', random_state = 1234)\n",
    "# performing 5-fold Grid Search Cross Validation for tuning the hyper-parameters, learning rate and subsample\n",
    "parameters = {'learning_rate': [0.2, 0.6], \n",
    "             'subsample': [0.3, 0.6, 0.9]}\n",
    "folds = 5\n",
    "grid_search = GridSearchCV(param_grid = parameters, \n",
    "                           estimator = clf, \n",
    "                           cv = folds,\n",
    "                           verbose = 3,\n",
    "                           return_train_score = True)"
   ]
  },
  {
   "cell_type": "code",
   "execution_count": 43,
   "metadata": {
    "colab": {
     "base_uri": "https://localhost:8080/"
    },
    "id": "wLItrel5GHx5",
    "outputId": "77e28010-c0a4-4706-e9b9-f19e37addc7b"
   },
   "outputs": [
    {
     "name": "stdout",
     "output_type": "stream",
     "text": [
      "Fitting 5 folds for each of 6 candidates, totalling 30 fits\n",
      "[CV 1/5] END ...............learning_rate=0.2, subsample=0.3; total time=   7.9s\n",
      "[CV 2/5] END ...............learning_rate=0.2, subsample=0.3; total time=   7.1s\n",
      "[CV 3/5] END ...............learning_rate=0.2, subsample=0.3; total time=   6.6s\n",
      "[CV 4/5] END ...............learning_rate=0.2, subsample=0.3; total time=   7.1s\n",
      "[CV 5/5] END ...............learning_rate=0.2, subsample=0.3; total time=   6.3s\n",
      "[CV 1/5] END ...............learning_rate=0.2, subsample=0.6; total time=  10.7s\n",
      "[CV 2/5] END ...............learning_rate=0.2, subsample=0.6; total time=  10.0s\n",
      "[CV 3/5] END ...............learning_rate=0.2, subsample=0.6; total time=   9.9s\n",
      "[CV 4/5] END ...............learning_rate=0.2, subsample=0.6; total time=  10.3s\n",
      "[CV 5/5] END ...............learning_rate=0.2, subsample=0.6; total time=   9.9s\n",
      "[CV 1/5] END ...............learning_rate=0.2, subsample=0.9; total time=  13.1s\n",
      "[CV 2/5] END ...............learning_rate=0.2, subsample=0.9; total time=  12.4s\n",
      "[CV 3/5] END ...............learning_rate=0.2, subsample=0.9; total time=  12.3s\n",
      "[CV 4/5] END ...............learning_rate=0.2, subsample=0.9; total time=  13.0s\n",
      "[CV 5/5] END ...............learning_rate=0.2, subsample=0.9; total time=  12.4s\n",
      "[CV 1/5] END ...............learning_rate=0.6, subsample=0.3; total time=   6.3s\n",
      "[CV 2/5] END ...............learning_rate=0.6, subsample=0.3; total time=   6.7s\n",
      "[CV 3/5] END ...............learning_rate=0.6, subsample=0.3; total time=   6.6s\n",
      "[CV 4/5] END ...............learning_rate=0.6, subsample=0.3; total time=   6.8s\n",
      "[CV 5/5] END ...............learning_rate=0.6, subsample=0.3; total time=   6.5s\n",
      "[CV 1/5] END ...............learning_rate=0.6, subsample=0.6; total time=  10.4s\n",
      "[CV 2/5] END ...............learning_rate=0.6, subsample=0.6; total time=   9.5s\n",
      "[CV 3/5] END ...............learning_rate=0.6, subsample=0.6; total time=   9.6s\n",
      "[CV 4/5] END ...............learning_rate=0.6, subsample=0.6; total time=  11.3s\n",
      "[CV 5/5] END ...............learning_rate=0.6, subsample=0.6; total time=   9.8s\n",
      "[CV 1/5] END ...............learning_rate=0.6, subsample=0.9; total time=  13.1s\n",
      "[CV 2/5] END ...............learning_rate=0.6, subsample=0.9; total time=  11.6s\n",
      "[CV 3/5] END ...............learning_rate=0.6, subsample=0.9; total time=  13.3s\n",
      "[CV 4/5] END ...............learning_rate=0.6, subsample=0.9; total time=  13.3s\n",
      "[CV 5/5] END ...............learning_rate=0.6, subsample=0.9; total time=  12.3s\n"
     ]
    }
   ],
   "source": [
    "grid_search = grid_search.fit(tfidf_train_smote, y_train_smote)"
   ]
  },
  {
   "cell_type": "code",
   "execution_count": 44,
   "metadata": {
    "colab": {
     "base_uri": "https://localhost:8080/"
    },
    "id": "2DuMMTF0GHx5",
    "outputId": "e6740c81-d20d-4d6b-e342-db8410513e82"
   },
   "outputs": [
    {
     "data": {
      "text/plain": [
       "{'learning_rate': 0.6, 'subsample': 0.9}"
      ]
     },
     "execution_count": 44,
     "metadata": {},
     "output_type": "execute_result"
    }
   ],
   "source": [
    "# getting the best values of hyper-parameters, learning rate and subsample\n",
    "grid_search.best_params_"
   ]
  },
  {
   "cell_type": "code",
   "execution_count": 45,
   "metadata": {
    "id": "RlCGysX_GHx6"
   },
   "outputs": [],
   "source": [
    "# re-training the XGBoost Model on the SMOTe Over-sampled Training Set with the best values of hyper-parameters\n",
    "xgb_model = XGBClassifier(eval_metric = 'logloss', \n",
    "                          learning_rate = 0.6, \n",
    "                          subsample = 0.9, \n",
    "                          random_state = 1234).fit(tfidf_train_smote, y_train_smote)"
   ]
  },
  {
   "cell_type": "code",
   "execution_count": 46,
   "metadata": {
    "id": "TfgCq0umGHx7"
   },
   "outputs": [],
   "source": [
    "# getting the predicted probabilities and predictions for the Training Set\n",
    "y_train_prob = xgb_model.predict_proba(tfidf_train_smote)\n",
    "y_train_pred = xgb_model.predict(tfidf_train_smote)"
   ]
  },
  {
   "cell_type": "code",
   "execution_count": 47,
   "metadata": {
    "id": "jVU3WhEjGHx8"
   },
   "outputs": [],
   "source": [
    "# custom thresholding on the Training Set\n",
    "y_train_df = pd.DataFrame({'label':y_train_smote, 'predicted':y_train_pred, 'probability':y_train_prob[:,1]})\n",
    "numbers = [float(x)/100 for x in range(100)]\n",
    "for i in numbers:\n",
    "    y_train_df[i] = y_train_df['probability'].map(lambda x: 1 if x >= i else 0)"
   ]
  },
  {
   "cell_type": "code",
   "execution_count": 48,
   "metadata": {
    "id": "rPG65YJYGHx8"
   },
   "outputs": [],
   "source": [
    "# Calculation of accuracy, sensitivity and specificity for various probability cutoffs.\n",
    "cutoff_df = pd.DataFrame(columns = ['prob','accuracy','sensi','speci'])\n",
    "from sklearn import metrics\n",
    "\n",
    "# TP = confusion[1,1] # true positive \n",
    "# TN = confusion[0,0] # true negatives\n",
    "# FP = confusion[0,1] # false positives\n",
    "# FN = confusion[1,0] # false negatives\n",
    "\n",
    "for i in numbers:\n",
    "    cm1 = metrics.confusion_matrix(y_train_df['label'], y_train_df[i])\n",
    "    total1=sum(sum(cm1))\n",
    "    accuracy = (cm1[0,0]+cm1[1,1])/total1\n",
    "    \n",
    "    speci = cm1[0,0]/(cm1[0,0]+cm1[0,1])\n",
    "    sensi = cm1[1,1]/(cm1[1,0]+cm1[1,1])\n",
    "    cutoff_df.loc[i] =[i,accuracy,sensi,speci]"
   ]
  },
  {
   "cell_type": "code",
   "execution_count": 49,
   "metadata": {
    "colab": {
     "base_uri": "https://localhost:8080/",
     "height": 497
    },
    "id": "ZSEauMh-GHx9",
    "outputId": "9078b408-5fcf-4976-bd8f-0728f5eafc01"
   },
   "outputs": [
    {
     "data": {
      "image/png": "[encoded data removed]",
      "text/plain": [
       "<Figure size 864x576 with 1 Axes>"
      ]
     },
     "metadata": {
      "needs_background": "light"
     },
     "output_type": "display_data"
    }
   ],
   "source": [
    "# plotting the Accuracy, Sensitivity and Specificity Curves at different thresholds\n",
    "fig = plt.figure(figsize=[12,8])\n",
    "plt.vlines(x=0.37, ymax=1.2, ymin=0, colors=\"r\", linestyles=\"--\")\n",
    "plt.hlines(y=0.98, xmax=1, xmin=0, colors=\"r\", linestyles=\"--\")\n",
    "plt.plot(cutoff_df['accuracy'])\n",
    "plt.plot(cutoff_df['sensi'])\n",
    "plt.plot(cutoff_df['speci'])\n",
    "plt.legend(['Accuracy', 'Sensitivity', 'Specificity'], loc='center right')\n",
    "plt.xlabel('Threshold')\n",
    "plt.show()"
   ]
  },
  {
   "cell_type": "markdown",
   "metadata": {
    "id": "wwBzSoSXGHx-"
   },
   "source": [
    "### taking the threshold of 0.37 to be 0.45 as number of false positives needs to be minimized, hence Specificity needs to be increased"
   ]
  },
  {
   "cell_type": "code",
   "execution_count": 50,
   "metadata": {
    "id": "MAUgBYReGHx-"
   },
   "outputs": [],
   "source": [
    "y_train_pred = [1 if predict_prob >= 0.45 else 0 for predict_prob in y_train_prob[:,1]]"
   ]
  },
  {
   "cell_type": "code",
   "execution_count": 51,
   "metadata": {
    "id": "1dJDMRnlGHx-"
   },
   "outputs": [],
   "source": [
    "# getting the predicted probabilities and predictions for the Test Set with 0.45 threshold\n",
    "y_test_prob = xgb_model.predict_proba(tfidf_test)\n",
    "y_test_pred = [1 if predict_prob >= 0.45 else 0 for predict_prob in y_test_prob[:,1]]"
   ]
  },
  {
   "cell_type": "code",
   "execution_count": 52,
   "metadata": {
    "id": "wb6ep-GxGHx_"
   },
   "outputs": [],
   "source": [
    "# computing the accuracy and AUC score for the Training Set and Test Set\n",
    "training_accuracy = metrics.accuracy_score(y_train_smote, y_train_pred)\n",
    "\n",
    "fpr, tpr, thresholds = metrics.roc_curve(y_train_smote, y_train_prob[:, 1])\n",
    "roc_auc = metrics.auc(fpr, tpr)\n",
    "\n",
    "training_auc = roc_auc\n",
    "\n",
    "\n",
    "test_accuracy = metrics.accuracy_score(y_test, y_test_pred)\n",
    "\n",
    "fpr, tpr, thresholds = metrics.roc_curve(y_test, y_test_prob[:,1])\n",
    "roc_auc = metrics.auc(fpr, tpr)\n",
    "\n",
    "test_auc = roc_auc"
   ]
  },
  {
   "cell_type": "code",
   "execution_count": 53,
   "metadata": {
    "colab": {
     "base_uri": "https://localhost:8080/"
    },
    "id": "m0ELlXuCGHx_",
    "outputId": "ebcdf2a3-db5b-4bff-b150-c8ce6db138c4"
   },
   "outputs": [
    {
     "name": "stdout",
     "output_type": "stream",
     "text": [
      "Training Accuracy:  0.982006107587503\n",
      "Test Accuracy:  0.9338333333333333\n",
      "\n",
      "\n",
      "Training AUC:  0.9980687459790005\n",
      "Test AUC:  0.9527516252619508\n"
     ]
    }
   ],
   "source": [
    "print(\"Training Accuracy: \", training_accuracy)\n",
    "print(\"Test Accuracy: \", test_accuracy)\n",
    "print(\"\\n\")\n",
    "print(\"Training AUC: \", training_auc)\n",
    "print(\"Test AUC: \", test_auc)"
   ]
  },
  {
   "cell_type": "markdown",
   "metadata": {
    "id": "BgAsE7TlGHyA"
   },
   "source": [
    "### computing the Confusion Matrix, Precision, Recall and F1-Score for both Training Set and Test Set"
   ]
  },
  {
   "cell_type": "code",
   "execution_count": 54,
   "metadata": {
    "colab": {
     "base_uri": "https://localhost:8080/"
    },
    "id": "_qWjpqCFGHyA",
    "outputId": "f0a0667d-1144-4d76-f815-1dd50f7cf4f6"
   },
   "outputs": [
    {
     "name": "stdout",
     "output_type": "stream",
     "text": [
      "Training Precision:  0.9888968310698117\n",
      "Training Recall:  0.974958891237961\n",
      "Training F1-Score:  0.981878400757038\n",
      "Training Confusion Matrix: \n",
      "[[21052   233]\n",
      " [  533 20752]]\n",
      "\n",
      "\n",
      "Testing Precision:  0.9714285714285714\n",
      "Testing Recall:  0.9538058724518421\n",
      "Testing F1-Score:  0.9625365669529112\n",
      "Testing Confusion Matrix: \n",
      "[[ 503  150]\n",
      " [ 247 5100]]\n",
      "\n",
      "\n"
     ]
    }
   ],
   "source": [
    "confusion = metrics.confusion_matrix(y_train_smote, y_train_pred)\n",
    "TP = confusion[1,1] # true positive \n",
    "TN = confusion[0,0] # true negatives\n",
    "FP = confusion[0,1] # false positives\n",
    "FN = confusion[1,0] # false negatives\n",
    "\n",
    "precision = TP/(TP+FP)\n",
    "recall = TP/(TP+FN)\n",
    "f1 = (2*precision*recall)/(precision+recall)\n",
    "\n",
    "print('Training Precision: ', precision)\n",
    "print('Training Recall: ', recall)\n",
    "print('Training F1-Score: ', f1)\n",
    "print('Training Confusion Matrix: ')\n",
    "print(confusion)\n",
    "print('\\n')\n",
    "\n",
    "confusion = metrics.confusion_matrix(y_test, y_test_pred)\n",
    "TP = confusion[1,1] # true positive \n",
    "TN = confusion[0,0] # true negatives\n",
    "FP = confusion[0,1] # false positives\n",
    "FN = confusion[1,0] # false negatives\n",
    "\n",
    "precision = TP/(TP+FP)\n",
    "recall = TP/(TP+FN)\n",
    "f1 = (2*precision*recall)/(precision+recall)\n",
    "\n",
    "print('Testing Precision: ', precision)\n",
    "print('Testing Recall: ', recall)\n",
    "print('Testing F1-Score: ', f1)\n",
    "print('Testing Confusion Matrix: ')\n",
    "print(confusion)\n",
    "print('\\n')"
   ]
  },
  {
   "cell_type": "code",
   "execution_count": 55,
   "metadata": {
    "colab": {
     "base_uri": "https://localhost:8080/",
     "height": 350
    },
    "id": "hPd7QvNqGHyB",
    "outputId": "96e9d8c4-ae5e-405c-af00-b422ec21e6b4"
   },
   "outputs": [
    {
     "data": {
      "image/png": "[encoded data removed]",
      "text/plain": [
       "<Figure size 360x360 with 1 Axes>"
      ]
     },
     "metadata": {
      "needs_background": "light"
     },
     "output_type": "display_data"
    }
   ],
   "source": [
    "# displaying the ROC Curve\n",
    "fpr, tpr, thresholds = metrics.roc_curve(y_test, y_test_prob[:,1],\n",
    "                                         drop_intermediate = False)\n",
    "auc_score = metrics.roc_auc_score(y_test, y_test_prob[:,1])\n",
    "plt.figure(figsize=(5, 5))\n",
    "plt.plot( fpr, tpr, label='ROC curve (area = %0.2f)' % auc_score)\n",
    "plt.plot([0, 1], [0, 1], 'k--')\n",
    "plt.xlim([0.0, 1.0])\n",
    "plt.ylim([0.0, 1.05])\n",
    "plt.xlabel('False Positive Rate or [1 - True Negative Rate]')\n",
    "plt.ylabel('True Positive Rate')\n",
    "plt.title('Receiver operating characteristic')\n",
    "plt.legend(loc=\"lower right\")\n",
    "plt.show()"
   ]
  },
  {
   "cell_type": "markdown",
   "metadata": {
    "id": "FoGTh32iGHyC"
   },
   "source": [
    "## Clealy, Logistic Regression performed the best among the 3 models considered here (especially in terms of Precision and AUC Score). So, it is finalized as the Sentiment Analyzer"
   ]
  },
  {
   "cell_type": "code",
   "execution_count": 56,
   "metadata": {
    "colab": {
     "base_uri": "https://localhost:8080/"
    },
    "id": "Ao1-lJQEGHyD",
    "outputId": "ac5f3b36-d2fe-4700-edce-08defe5d5046"
   },
   "outputs": [
    {
     "data": {
      "text/plain": [
       "['tfidf_vectorizer.pkl']"
      ]
     },
     "execution_count": 56,
     "metadata": {},
     "output_type": "execute_result"
    }
   ],
   "source": [
    "# saving the tf-idf vectorizer model object\n",
    "joblib.dump(vectorizer, 'tfidf_vectorizer.pkl')"
   ]
  },
  {
   "cell_type": "code",
   "execution_count": 57,
   "metadata": {
    "colab": {
     "base_uri": "https://localhost:8080/"
    },
    "id": "PFZtjVchGHyE",
    "outputId": "2c3d57ec-be85-4b2d-f767-d7a86134510b"
   },
   "outputs": [
    {
     "data": {
      "text/plain": [
       "['lr_model.pkl']"
      ]
     },
     "execution_count": 57,
     "metadata": {},
     "output_type": "execute_result"
    }
   ],
   "source": [
    "# saving the logistic regression model object\n",
    "joblib.dump(lr_model, 'lr_model.pkl')"
   ]
  },
  {
   "cell_type": "code",
   "execution_count": 58,
   "metadata": {
    "id": "fLuPFoaf1MZx"
   },
   "outputs": [],
   "source": [
    "# saving the predicted sentiments by the model for the whole dataset (for speeding up Flask Application in Heroku Deployment)\n",
    "tfidf_text = vectorizer.transform([review for review in df['reviews_text'].values.astype('U')])\n",
    "df['predicted_user_sentiment'] = lr_model.predict(tfidf_text)"
   ]
  },
  {
   "cell_type": "code",
   "execution_count": 59,
   "metadata": {
    "id": "0gF3wIrh1MZy"
   },
   "outputs": [],
   "source": [
    "# saving the final dataframe containing predicted sentiments\n",
    "df.to_csv('sample30_final.csv', index = False)"
   ]
  },
  {
   "cell_type": "markdown",
   "metadata": {
    "id": "VYL75skOGHyG"
   },
   "source": [
    "# 2. Developing the Recommendation System"
   ]
  },
  {
   "cell_type": "code",
   "execution_count": 60,
   "metadata": {
    "id": "3yDNwa3lGHyP"
   },
   "outputs": [],
   "source": [
    "# re-loading the whole dataset\n",
    "df = pd.read_csv('sample30.csv')"
   ]
  },
  {
   "cell_type": "code",
   "execution_count": 61,
   "metadata": {
    "colab": {
     "base_uri": "https://localhost:8080/",
     "height": 568
    },
    "id": "sFfLl1rLGHyP",
    "outputId": "eaf2ffb6-282d-41e4-c890-e2d88bee4f2a"
   },
   "outputs": [
    {
     "data": {
      "text/html": [
       "<div>\n",
       "<style scoped>\n",
       "    .dataframe tbody tr th:only-of-type {\n",
       "        vertical-align: middle;\n",
       "    }\n",
       "\n",
       "    .dataframe tbody tr th {\n",
       "        vertical-align: top;\n",
       "    }\n",
       "\n",
       "    .dataframe thead th {\n",
       "        text-align: right;\n",
       "    }\n",
       "</style>\n",
       "<table border=\"1\" class=\"dataframe\">\n",
       "  <thead>\n",
       "    <tr style=\"text-align: right;\">\n",
       "      <th></th>\n",
       "      <th>id</th>\n",
       "      <th>brand</th>\n",
       "      <th>categories</th>\n",
       "      <th>manufacturer</th>\n",
       "      <th>name</th>\n",
       "      <th>reviews_date</th>\n",
       "      <th>reviews_didPurchase</th>\n",
       "      <th>reviews_doRecommend</th>\n",
       "      <th>reviews_rating</th>\n",
       "      <th>reviews_text</th>\n",
       "      <th>reviews_title</th>\n",
       "      <th>reviews_userCity</th>\n",
       "      <th>reviews_userProvince</th>\n",
       "      <th>reviews_username</th>\n",
       "      <th>user_sentiment</th>\n",
       "    </tr>\n",
       "  </thead>\n",
       "  <tbody>\n",
       "    <tr>\n",
       "      <th>0</th>\n",
       "      <td>AV13O1A8GV-KLJ3akUyj</td>\n",
       "      <td>Universal Music</td>\n",
       "      <td>Movies, Music &amp; Books,Music,R&amp;b,Movies &amp; TV,Mo...</td>\n",
       "      <td>Universal Music Group / Cash Money</td>\n",
       "      <td>Pink Friday: Roman Reloaded Re-Up (w/dvd)</td>\n",
       "      <td>2012-11-30T06:21:45.000Z</td>\n",
       "      <td>NaN</td>\n",
       "      <td>NaN</td>\n",
       "      <td>5</td>\n",
       "      <td>i love this album. it's very good. more to the...</td>\n",
       "      <td>Just Awesome</td>\n",
       "      <td>Los Angeles</td>\n",
       "      <td>NaN</td>\n",
       "      <td>joshua</td>\n",
       "      <td>Positive</td>\n",
       "    </tr>\n",
       "    <tr>\n",
       "      <th>1</th>\n",
       "      <td>AV14LG0R-jtxr-f38QfS</td>\n",
       "      <td>Lundberg</td>\n",
       "      <td>Food,Packaged Foods,Snacks,Crackers,Snacks, Co...</td>\n",
       "      <td>Lundberg</td>\n",
       "      <td>Lundberg Organic Cinnamon Toast Rice Cakes</td>\n",
       "      <td>2017-07-09T00:00:00.000Z</td>\n",
       "      <td>True</td>\n",
       "      <td>NaN</td>\n",
       "      <td>5</td>\n",
       "      <td>Good flavor. This review was collected as part...</td>\n",
       "      <td>Good</td>\n",
       "      <td>NaN</td>\n",
       "      <td>NaN</td>\n",
       "      <td>dorothy w</td>\n",
       "      <td>Positive</td>\n",
       "    </tr>\n",
       "    <tr>\n",
       "      <th>2</th>\n",
       "      <td>AV14LG0R-jtxr-f38QfS</td>\n",
       "      <td>Lundberg</td>\n",
       "      <td>Food,Packaged Foods,Snacks,Crackers,Snacks, Co...</td>\n",
       "      <td>Lundberg</td>\n",
       "      <td>Lundberg Organic Cinnamon Toast Rice Cakes</td>\n",
       "      <td>2017-07-09T00:00:00.000Z</td>\n",
       "      <td>True</td>\n",
       "      <td>NaN</td>\n",
       "      <td>5</td>\n",
       "      <td>Good flavor.</td>\n",
       "      <td>Good</td>\n",
       "      <td>NaN</td>\n",
       "      <td>NaN</td>\n",
       "      <td>dorothy w</td>\n",
       "      <td>Positive</td>\n",
       "    </tr>\n",
       "    <tr>\n",
       "      <th>3</th>\n",
       "      <td>AV16khLE-jtxr-f38VFn</td>\n",
       "      <td>K-Y</td>\n",
       "      <td>Personal Care,Medicine Cabinet,Lubricant/Sperm...</td>\n",
       "      <td>K-Y</td>\n",
       "      <td>K-Y Love Sensuality Pleasure Gel</td>\n",
       "      <td>2016-01-06T00:00:00.000Z</td>\n",
       "      <td>False</td>\n",
       "      <td>False</td>\n",
       "      <td>1</td>\n",
       "      <td>I read through the reviews on here before look...</td>\n",
       "      <td>Disappointed</td>\n",
       "      <td>NaN</td>\n",
       "      <td>NaN</td>\n",
       "      <td>rebecca</td>\n",
       "      <td>Negative</td>\n",
       "    </tr>\n",
       "    <tr>\n",
       "      <th>4</th>\n",
       "      <td>AV16khLE-jtxr-f38VFn</td>\n",
       "      <td>K-Y</td>\n",
       "      <td>Personal Care,Medicine Cabinet,Lubricant/Sperm...</td>\n",
       "      <td>K-Y</td>\n",
       "      <td>K-Y Love Sensuality Pleasure Gel</td>\n",
       "      <td>2016-12-21T00:00:00.000Z</td>\n",
       "      <td>False</td>\n",
       "      <td>False</td>\n",
       "      <td>1</td>\n",
       "      <td>My husband bought this gel for us. The gel cau...</td>\n",
       "      <td>Irritation</td>\n",
       "      <td>NaN</td>\n",
       "      <td>NaN</td>\n",
       "      <td>walker557</td>\n",
       "      <td>Negative</td>\n",
       "    </tr>\n",
       "  </tbody>\n",
       "</table>\n",
       "</div>"
      ],
      "text/plain": [
       "                     id            brand  \\\n",
       "0  AV13O1A8GV-KLJ3akUyj  Universal Music   \n",
       "1  AV14LG0R-jtxr-f38QfS         Lundberg   \n",
       "2  AV14LG0R-jtxr-f38QfS         Lundberg   \n",
       "3  AV16khLE-jtxr-f38VFn              K-Y   \n",
       "4  AV16khLE-jtxr-f38VFn              K-Y   \n",
       "\n",
       "                                          categories  \\\n",
       "0  Movies, Music & Books,Music,R&b,Movies & TV,Mo...   \n",
       "1  Food,Packaged Foods,Snacks,Crackers,Snacks, Co...   \n",
       "2  Food,Packaged Foods,Snacks,Crackers,Snacks, Co...   \n",
       "3  Personal Care,Medicine Cabinet,Lubricant/Sperm...   \n",
       "4  Personal Care,Medicine Cabinet,Lubricant/Sperm...   \n",
       "\n",
       "                         manufacturer  \\\n",
       "0  Universal Music Group / Cash Money   \n",
       "1                            Lundberg   \n",
       "2                            Lundberg   \n",
       "3                                 K-Y   \n",
       "4                                 K-Y   \n",
       "\n",
       "                                         name              reviews_date  \\\n",
       "0   Pink Friday: Roman Reloaded Re-Up (w/dvd)  2012-11-30T06:21:45.000Z   \n",
       "1  Lundberg Organic Cinnamon Toast Rice Cakes  2017-07-09T00:00:00.000Z   \n",
       "2  Lundberg Organic Cinnamon Toast Rice Cakes  2017-07-09T00:00:00.000Z   \n",
       "3            K-Y Love Sensuality Pleasure Gel  2016-01-06T00:00:00.000Z   \n",
       "4            K-Y Love Sensuality Pleasure Gel  2016-12-21T00:00:00.000Z   \n",
       "\n",
       "  reviews_didPurchase reviews_doRecommend  reviews_rating  \\\n",
       "0                 NaN                 NaN               5   \n",
       "1                True                 NaN               5   \n",
       "2                True                 NaN               5   \n",
       "3               False               False               1   \n",
       "4               False               False               1   \n",
       "\n",
       "                                        reviews_text reviews_title  \\\n",
       "0  i love this album. it's very good. more to the...  Just Awesome   \n",
       "1  Good flavor. This review was collected as part...          Good   \n",
       "2                                       Good flavor.          Good   \n",
       "3  I read through the reviews on here before look...  Disappointed   \n",
       "4  My husband bought this gel for us. The gel cau...    Irritation   \n",
       "\n",
       "  reviews_userCity reviews_userProvince reviews_username user_sentiment  \n",
       "0      Los Angeles                  NaN           joshua       Positive  \n",
       "1              NaN                  NaN        dorothy w       Positive  \n",
       "2              NaN                  NaN        dorothy w       Positive  \n",
       "3              NaN                  NaN          rebecca       Negative  \n",
       "4              NaN                  NaN        walker557       Negative  "
      ]
     },
     "execution_count": 61,
     "metadata": {},
     "output_type": "execute_result"
    }
   ],
   "source": [
    "# displaying the first 5 rows of the dataset\n",
    "df.head()"
   ]
  },
  {
   "cell_type": "code",
   "execution_count": 62,
   "metadata": {
    "id": "ax_lMXCDGHyQ"
   },
   "outputs": [],
   "source": [
    "# considering the columns containing usernames (reviews_username), product names (name) and ratings (reviews_rating) \n",
    "ratings = df.loc[:, ['reviews_username', 'name', 'reviews_rating']]"
   ]
  },
  {
   "cell_type": "code",
   "execution_count": 63,
   "metadata": {
    "colab": {
     "base_uri": "https://localhost:8080/",
     "height": 195
    },
    "id": "FsQwLJVVGHyR",
    "outputId": "2f4867a9-703b-46eb-ecd0-6d3952fab2dd"
   },
   "outputs": [
    {
     "data": {
      "text/html": [
       "<div>\n",
       "<style scoped>\n",
       "    .dataframe tbody tr th:only-of-type {\n",
       "        vertical-align: middle;\n",
       "    }\n",
       "\n",
       "    .dataframe tbody tr th {\n",
       "        vertical-align: top;\n",
       "    }\n",
       "\n",
       "    .dataframe thead th {\n",
       "        text-align: right;\n",
       "    }\n",
       "</style>\n",
       "<table border=\"1\" class=\"dataframe\">\n",
       "  <thead>\n",
       "    <tr style=\"text-align: right;\">\n",
       "      <th></th>\n",
       "      <th>reviews_username</th>\n",
       "      <th>name</th>\n",
       "      <th>reviews_rating</th>\n",
       "    </tr>\n",
       "  </thead>\n",
       "  <tbody>\n",
       "    <tr>\n",
       "      <th>0</th>\n",
       "      <td>joshua</td>\n",
       "      <td>Pink Friday: Roman Reloaded Re-Up (w/dvd)</td>\n",
       "      <td>5</td>\n",
       "    </tr>\n",
       "    <tr>\n",
       "      <th>1</th>\n",
       "      <td>dorothy w</td>\n",
       "      <td>Lundberg Organic Cinnamon Toast Rice Cakes</td>\n",
       "      <td>5</td>\n",
       "    </tr>\n",
       "    <tr>\n",
       "      <th>2</th>\n",
       "      <td>dorothy w</td>\n",
       "      <td>Lundberg Organic Cinnamon Toast Rice Cakes</td>\n",
       "      <td>5</td>\n",
       "    </tr>\n",
       "    <tr>\n",
       "      <th>3</th>\n",
       "      <td>rebecca</td>\n",
       "      <td>K-Y Love Sensuality Pleasure Gel</td>\n",
       "      <td>1</td>\n",
       "    </tr>\n",
       "    <tr>\n",
       "      <th>4</th>\n",
       "      <td>walker557</td>\n",
       "      <td>K-Y Love Sensuality Pleasure Gel</td>\n",
       "      <td>1</td>\n",
       "    </tr>\n",
       "  </tbody>\n",
       "</table>\n",
       "</div>"
      ],
      "text/plain": [
       "  reviews_username                                        name  reviews_rating\n",
       "0           joshua   Pink Friday: Roman Reloaded Re-Up (w/dvd)               5\n",
       "1        dorothy w  Lundberg Organic Cinnamon Toast Rice Cakes               5\n",
       "2        dorothy w  Lundberg Organic Cinnamon Toast Rice Cakes               5\n",
       "3          rebecca            K-Y Love Sensuality Pleasure Gel               1\n",
       "4        walker557            K-Y Love Sensuality Pleasure Gel               1"
      ]
     },
     "execution_count": 63,
     "metadata": {},
     "output_type": "execute_result"
    }
   ],
   "source": [
    "# displaying top 5 rows of the ratings dataframe\n",
    "ratings.head()"
   ]
  },
  {
   "cell_type": "code",
   "execution_count": 64,
   "metadata": {
    "colab": {
     "base_uri": "https://localhost:8080/"
    },
    "id": "bDapXzjaGHyR",
    "outputId": "38735978-2d6c-4406-ebc0-b7e9cdd70c35"
   },
   "outputs": [
    {
     "data": {
      "text/plain": [
       "(30000, 3)"
      ]
     },
     "execution_count": 64,
     "metadata": {},
     "output_type": "execute_result"
    }
   ],
   "source": [
    "# displaying the shape of the ratings dataset\n",
    "ratings.shape"
   ]
  },
  {
   "cell_type": "markdown",
   "metadata": {
    "id": "JZIvFPVXGHyS"
   },
   "source": [
    "### To avoid repeated (user_id, product_id) pairs, they are grouped by and aggregated by the mean of the ratings"
   ]
  },
  {
   "cell_type": "code",
   "execution_count": 65,
   "metadata": {
    "id": "jq_BavzAGHyS"
   },
   "outputs": [],
   "source": [
    "grouped_ratings = ratings.groupby(['reviews_username', 'name'])['reviews_rating'].mean()\n",
    "ratings = grouped_ratings.reset_index()"
   ]
  },
  {
   "cell_type": "code",
   "execution_count": 66,
   "metadata": {
    "colab": {
     "base_uri": "https://localhost:8080/",
     "height": 195
    },
    "id": "_fY4sfwGGHyT",
    "outputId": "446e556e-8d95-4d2a-a0d5-12c1fdc5d94c"
   },
   "outputs": [
    {
     "data": {
      "text/html": [
       "<div>\n",
       "<style scoped>\n",
       "    .dataframe tbody tr th:only-of-type {\n",
       "        vertical-align: middle;\n",
       "    }\n",
       "\n",
       "    .dataframe tbody tr th {\n",
       "        vertical-align: top;\n",
       "    }\n",
       "\n",
       "    .dataframe thead th {\n",
       "        text-align: right;\n",
       "    }\n",
       "</style>\n",
       "<table border=\"1\" class=\"dataframe\">\n",
       "  <thead>\n",
       "    <tr style=\"text-align: right;\">\n",
       "      <th></th>\n",
       "      <th>reviews_username</th>\n",
       "      <th>name</th>\n",
       "      <th>reviews_rating</th>\n",
       "    </tr>\n",
       "  </thead>\n",
       "  <tbody>\n",
       "    <tr>\n",
       "      <th>0</th>\n",
       "      <td>00dog3</td>\n",
       "      <td>Chex Muddy Buddies Brownie Supreme Snack Mix</td>\n",
       "      <td>4.0</td>\n",
       "    </tr>\n",
       "    <tr>\n",
       "      <th>1</th>\n",
       "      <td>00sab00</td>\n",
       "      <td>Mike Dave Need Wedding Dates (dvd + Digital)</td>\n",
       "      <td>1.0</td>\n",
       "    </tr>\n",
       "    <tr>\n",
       "      <th>2</th>\n",
       "      <td>00sab00</td>\n",
       "      <td>My Big Fat Greek Wedding 2 (blu-Ray + Dvd + Di...</td>\n",
       "      <td>3.0</td>\n",
       "    </tr>\n",
       "    <tr>\n",
       "      <th>3</th>\n",
       "      <td>01impala</td>\n",
       "      <td>Godzilla 3d Includes Digital Copy Ultraviolet ...</td>\n",
       "      <td>3.0</td>\n",
       "    </tr>\n",
       "    <tr>\n",
       "      <th>4</th>\n",
       "      <td>02dakota</td>\n",
       "      <td>Godzilla 3d Includes Digital Copy Ultraviolet ...</td>\n",
       "      <td>5.0</td>\n",
       "    </tr>\n",
       "  </tbody>\n",
       "</table>\n",
       "</div>"
      ],
      "text/plain": [
       "  reviews_username                                               name  \\\n",
       "0           00dog3       Chex Muddy Buddies Brownie Supreme Snack Mix   \n",
       "1          00sab00       Mike Dave Need Wedding Dates (dvd + Digital)   \n",
       "2          00sab00  My Big Fat Greek Wedding 2 (blu-Ray + Dvd + Di...   \n",
       "3         01impala  Godzilla 3d Includes Digital Copy Ultraviolet ...   \n",
       "4         02dakota  Godzilla 3d Includes Digital Copy Ultraviolet ...   \n",
       "\n",
       "   reviews_rating  \n",
       "0             4.0  \n",
       "1             1.0  \n",
       "2             3.0  \n",
       "3             3.0  \n",
       "4             5.0  "
      ]
     },
     "execution_count": 66,
     "metadata": {},
     "output_type": "execute_result"
    }
   ],
   "source": [
    "# displaying the first 5 rows of the modified ratings dataframe\n",
    "ratings.head()"
   ]
  },
  {
   "cell_type": "code",
   "execution_count": 67,
   "metadata": {
    "colab": {
     "base_uri": "https://localhost:8080/"
    },
    "id": "oeXzMqfeGHyT",
    "outputId": "ff9f62c3-a5cf-4626-f1f1-b780def18ea1"
   },
   "outputs": [
    {
     "data": {
      "text/plain": [
       "(27588, 3)"
      ]
     },
     "execution_count": 67,
     "metadata": {},
     "output_type": "execute_result"
    }
   ],
   "source": [
    "# displaying the shape of the ratings dataset\n",
    "ratings.shape"
   ]
  },
  {
   "cell_type": "markdown",
   "metadata": {
    "id": "8RaoNe1HGHyU"
   },
   "source": [
    "### The decrease in the number of rows from 30000 to 27588 indicates that there were indeed repeated (user_id, product_id) pairs"
   ]
  },
  {
   "cell_type": "code",
   "execution_count": 68,
   "metadata": {
    "id": "PclqClutGHyU"
   },
   "outputs": [],
   "source": [
    "# 70-30 splitting into training and test data\n",
    "train, test = train_test_split(ratings, test_size=0.30, random_state=1234)"
   ]
  },
  {
   "cell_type": "markdown",
   "metadata": {
    "id": "OPZohXPIGHyV"
   },
   "source": [
    "## Building the User-User Recommendation System"
   ]
  },
  {
   "cell_type": "code",
   "execution_count": 69,
   "metadata": {
    "colab": {
     "base_uri": "https://localhost:8080/",
     "height": 442
    },
    "id": "JK4kruIoGHyY",
    "outputId": "419a814b-923b-4bbe-ae2a-6644904ff1ee"
   },
   "outputs": [
    {
     "data": {
      "text/html": [
       "<div>\n",
       "<style scoped>\n",
       "    .dataframe tbody tr th:only-of-type {\n",
       "        vertical-align: middle;\n",
       "    }\n",
       "\n",
       "    .dataframe tbody tr th {\n",
       "        vertical-align: top;\n",
       "    }\n",
       "\n",
       "    .dataframe thead th {\n",
       "        text-align: right;\n",
       "    }\n",
       "</style>\n",
       "<table border=\"1\" class=\"dataframe\">\n",
       "  <thead>\n",
       "    <tr style=\"text-align: right;\">\n",
       "      <th>name</th>\n",
       "      <th>0.6 Cu. Ft. Letter A4 Size Waterproof 30 Min. Fire File Chest</th>\n",
       "      <th>100:Complete First Season (blu-Ray)</th>\n",
       "      <th>2017-2018 Brownline174 Duraflex 14-Month Planner 8 1/2 X 11 Black</th>\n",
       "      <th>2x Ultra Era with Oxi Booster, 50fl oz</th>\n",
       "      <th>42 Dual Drop Leaf Table with 2 Madrid Chairs\"</th>\n",
       "      <th>4C Grated Parmesan Cheese 100% Natural 8oz Shaker</th>\n",
       "      <th>5302050 15/16 FCT/HOSE ADAPTOR</th>\n",
       "      <th>Africa's Best No-Lye Dual Conditioning Relaxer System Super</th>\n",
       "      <th>Alberto VO5 Salon Series Smooth Plus Sleek Shampoo</th>\n",
       "      <th>Alex Cross (dvdvideo)</th>\n",
       "      <th>...</th>\n",
       "      <th>Wagan Smartac 80watt Inverter With Usb</th>\n",
       "      <th>Walkers Stem Ginger Shortbread</th>\n",
       "      <th>Way Basics 3-Shelf Eco Narrow Bookcase Storage Shelf, Espresso - Formaldehyde Free - Lifetime Guarantee</th>\n",
       "      <th>WeatherTech 40647 14-15 Outlander Cargo Liners Behind 2nd Row, Black</th>\n",
       "      <th>Wedding Wishes Wedding Guest Book</th>\n",
       "      <th>Weleda Everon Lip Balm</th>\n",
       "      <th>Wilton Black Dots Standard Baking Cups</th>\n",
       "      <th>Windex Original Glass Cleaner Refill 67.6oz (2 Liter)</th>\n",
       "      <th>Yes To Carrots Nourishing Body Wash</th>\n",
       "      <th>Yes To Grapefruit Rejuvenating Body Wash</th>\n",
       "    </tr>\n",
       "    <tr>\n",
       "      <th>reviews_username</th>\n",
       "      <th></th>\n",
       "      <th></th>\n",
       "      <th></th>\n",
       "      <th></th>\n",
       "      <th></th>\n",
       "      <th></th>\n",
       "      <th></th>\n",
       "      <th></th>\n",
       "      <th></th>\n",
       "      <th></th>\n",
       "      <th></th>\n",
       "      <th></th>\n",
       "      <th></th>\n",
       "      <th></th>\n",
       "      <th></th>\n",
       "      <th></th>\n",
       "      <th></th>\n",
       "      <th></th>\n",
       "      <th></th>\n",
       "      <th></th>\n",
       "      <th></th>\n",
       "    </tr>\n",
       "  </thead>\n",
       "  <tbody>\n",
       "    <tr>\n",
       "      <th>00dog3</th>\n",
       "      <td>NaN</td>\n",
       "      <td>NaN</td>\n",
       "      <td>NaN</td>\n",
       "      <td>NaN</td>\n",
       "      <td>NaN</td>\n",
       "      <td>NaN</td>\n",
       "      <td>NaN</td>\n",
       "      <td>NaN</td>\n",
       "      <td>NaN</td>\n",
       "      <td>NaN</td>\n",
       "      <td>...</td>\n",
       "      <td>NaN</td>\n",
       "      <td>NaN</td>\n",
       "      <td>NaN</td>\n",
       "      <td>NaN</td>\n",
       "      <td>NaN</td>\n",
       "      <td>NaN</td>\n",
       "      <td>NaN</td>\n",
       "      <td>NaN</td>\n",
       "      <td>NaN</td>\n",
       "      <td>NaN</td>\n",
       "    </tr>\n",
       "    <tr>\n",
       "      <th>00sab00</th>\n",
       "      <td>NaN</td>\n",
       "      <td>NaN</td>\n",
       "      <td>NaN</td>\n",
       "      <td>NaN</td>\n",
       "      <td>NaN</td>\n",
       "      <td>NaN</td>\n",
       "      <td>NaN</td>\n",
       "      <td>NaN</td>\n",
       "      <td>NaN</td>\n",
       "      <td>NaN</td>\n",
       "      <td>...</td>\n",
       "      <td>NaN</td>\n",
       "      <td>NaN</td>\n",
       "      <td>NaN</td>\n",
       "      <td>NaN</td>\n",
       "      <td>NaN</td>\n",
       "      <td>NaN</td>\n",
       "      <td>NaN</td>\n",
       "      <td>NaN</td>\n",
       "      <td>NaN</td>\n",
       "      <td>NaN</td>\n",
       "    </tr>\n",
       "    <tr>\n",
       "      <th>01impala</th>\n",
       "      <td>NaN</td>\n",
       "      <td>NaN</td>\n",
       "      <td>NaN</td>\n",
       "      <td>NaN</td>\n",
       "      <td>NaN</td>\n",
       "      <td>NaN</td>\n",
       "      <td>NaN</td>\n",
       "      <td>NaN</td>\n",
       "      <td>NaN</td>\n",
       "      <td>NaN</td>\n",
       "      <td>...</td>\n",
       "      <td>NaN</td>\n",
       "      <td>NaN</td>\n",
       "      <td>NaN</td>\n",
       "      <td>NaN</td>\n",
       "      <td>NaN</td>\n",
       "      <td>NaN</td>\n",
       "      <td>NaN</td>\n",
       "      <td>NaN</td>\n",
       "      <td>NaN</td>\n",
       "      <td>NaN</td>\n",
       "    </tr>\n",
       "    <tr>\n",
       "      <th>02deuce</th>\n",
       "      <td>NaN</td>\n",
       "      <td>NaN</td>\n",
       "      <td>NaN</td>\n",
       "      <td>NaN</td>\n",
       "      <td>NaN</td>\n",
       "      <td>NaN</td>\n",
       "      <td>NaN</td>\n",
       "      <td>NaN</td>\n",
       "      <td>NaN</td>\n",
       "      <td>NaN</td>\n",
       "      <td>...</td>\n",
       "      <td>NaN</td>\n",
       "      <td>NaN</td>\n",
       "      <td>NaN</td>\n",
       "      <td>NaN</td>\n",
       "      <td>NaN</td>\n",
       "      <td>NaN</td>\n",
       "      <td>NaN</td>\n",
       "      <td>NaN</td>\n",
       "      <td>NaN</td>\n",
       "      <td>NaN</td>\n",
       "    </tr>\n",
       "    <tr>\n",
       "      <th>0325home</th>\n",
       "      <td>NaN</td>\n",
       "      <td>NaN</td>\n",
       "      <td>NaN</td>\n",
       "      <td>NaN</td>\n",
       "      <td>NaN</td>\n",
       "      <td>NaN</td>\n",
       "      <td>NaN</td>\n",
       "      <td>NaN</td>\n",
       "      <td>NaN</td>\n",
       "      <td>NaN</td>\n",
       "      <td>...</td>\n",
       "      <td>NaN</td>\n",
       "      <td>NaN</td>\n",
       "      <td>NaN</td>\n",
       "      <td>NaN</td>\n",
       "      <td>NaN</td>\n",
       "      <td>NaN</td>\n",
       "      <td>NaN</td>\n",
       "      <td>NaN</td>\n",
       "      <td>NaN</td>\n",
       "      <td>NaN</td>\n",
       "    </tr>\n",
       "  </tbody>\n",
       "</table>\n",
       "<p>5 rows × 252 columns</p>\n",
       "</div>"
      ],
      "text/plain": [
       "name              0.6 Cu. Ft. Letter A4 Size Waterproof 30 Min. Fire File Chest  \\\n",
       "reviews_username                                                                  \n",
       "00dog3                                                          NaN               \n",
       "00sab00                                                         NaN               \n",
       "01impala                                                        NaN               \n",
       "02deuce                                                         NaN               \n",
       "0325home                                                        NaN               \n",
       "\n",
       "name              100:Complete First Season (blu-Ray)  \\\n",
       "reviews_username                                        \n",
       "00dog3                                            NaN   \n",
       "00sab00                                           NaN   \n",
       "01impala                                          NaN   \n",
       "02deuce                                           NaN   \n",
       "0325home                                          NaN   \n",
       "\n",
       "name              2017-2018 Brownline174 Duraflex 14-Month Planner 8 1/2 X 11 Black  \\\n",
       "reviews_username                                                                      \n",
       "00dog3                                                          NaN                   \n",
       "00sab00                                                         NaN                   \n",
       "01impala                                                        NaN                   \n",
       "02deuce                                                         NaN                   \n",
       "0325home                                                        NaN                   \n",
       "\n",
       "name              2x Ultra Era with Oxi Booster, 50fl oz  \\\n",
       "reviews_username                                           \n",
       "00dog3                                               NaN   \n",
       "00sab00                                              NaN   \n",
       "01impala                                             NaN   \n",
       "02deuce                                              NaN   \n",
       "0325home                                             NaN   \n",
       "\n",
       "name              42 Dual Drop Leaf Table with 2 Madrid Chairs\"  \\\n",
       "reviews_username                                                  \n",
       "00dog3                                                      NaN   \n",
       "00sab00                                                     NaN   \n",
       "01impala                                                    NaN   \n",
       "02deuce                                                     NaN   \n",
       "0325home                                                    NaN   \n",
       "\n",
       "name              4C Grated Parmesan Cheese 100% Natural 8oz Shaker  \\\n",
       "reviews_username                                                      \n",
       "00dog3                                                          NaN   \n",
       "00sab00                                                         NaN   \n",
       "01impala                                                        NaN   \n",
       "02deuce                                                         NaN   \n",
       "0325home                                                        NaN   \n",
       "\n",
       "name              5302050 15/16 FCT/HOSE ADAPTOR  \\\n",
       "reviews_username                                   \n",
       "00dog3                                       NaN   \n",
       "00sab00                                      NaN   \n",
       "01impala                                     NaN   \n",
       "02deuce                                      NaN   \n",
       "0325home                                     NaN   \n",
       "\n",
       "name              Africa's Best No-Lye Dual Conditioning Relaxer System Super  \\\n",
       "reviews_username                                                                \n",
       "00dog3                                                          NaN             \n",
       "00sab00                                                         NaN             \n",
       "01impala                                                        NaN             \n",
       "02deuce                                                         NaN             \n",
       "0325home                                                        NaN             \n",
       "\n",
       "name              Alberto VO5 Salon Series Smooth Plus Sleek Shampoo  \\\n",
       "reviews_username                                                       \n",
       "00dog3                                                          NaN    \n",
       "00sab00                                                         NaN    \n",
       "01impala                                                        NaN    \n",
       "02deuce                                                         NaN    \n",
       "0325home                                                        NaN    \n",
       "\n",
       "name              Alex Cross (dvdvideo)  ...  \\\n",
       "reviews_username                         ...   \n",
       "00dog3                              NaN  ...   \n",
       "00sab00                             NaN  ...   \n",
       "01impala                            NaN  ...   \n",
       "02deuce                             NaN  ...   \n",
       "0325home                            NaN  ...   \n",
       "\n",
       "name              Wagan Smartac 80watt Inverter With Usb  \\\n",
       "reviews_username                                           \n",
       "00dog3                                               NaN   \n",
       "00sab00                                              NaN   \n",
       "01impala                                             NaN   \n",
       "02deuce                                              NaN   \n",
       "0325home                                             NaN   \n",
       "\n",
       "name              Walkers Stem Ginger Shortbread  \\\n",
       "reviews_username                                   \n",
       "00dog3                                       NaN   \n",
       "00sab00                                      NaN   \n",
       "01impala                                     NaN   \n",
       "02deuce                                      NaN   \n",
       "0325home                                     NaN   \n",
       "\n",
       "name              Way Basics 3-Shelf Eco Narrow Bookcase Storage Shelf, Espresso - Formaldehyde Free - Lifetime Guarantee  \\\n",
       "reviews_username                                                                                                            \n",
       "00dog3                                                          NaN                                                         \n",
       "00sab00                                                         NaN                                                         \n",
       "01impala                                                        NaN                                                         \n",
       "02deuce                                                         NaN                                                         \n",
       "0325home                                                        NaN                                                         \n",
       "\n",
       "name              WeatherTech 40647 14-15 Outlander Cargo Liners Behind 2nd Row, Black  \\\n",
       "reviews_username                                                                         \n",
       "00dog3                                                          NaN                      \n",
       "00sab00                                                         NaN                      \n",
       "01impala                                                        NaN                      \n",
       "02deuce                                                         NaN                      \n",
       "0325home                                                        NaN                      \n",
       "\n",
       "name              Wedding Wishes Wedding Guest Book  Weleda Everon Lip Balm  \\\n",
       "reviews_username                                                              \n",
       "00dog3                                          NaN                     NaN   \n",
       "00sab00                                         NaN                     NaN   \n",
       "01impala                                        NaN                     NaN   \n",
       "02deuce                                         NaN                     NaN   \n",
       "0325home                                        NaN                     NaN   \n",
       "\n",
       "name              Wilton Black Dots Standard Baking Cups  \\\n",
       "reviews_username                                           \n",
       "00dog3                                               NaN   \n",
       "00sab00                                              NaN   \n",
       "01impala                                             NaN   \n",
       "02deuce                                              NaN   \n",
       "0325home                                             NaN   \n",
       "\n",
       "name              Windex Original Glass Cleaner Refill 67.6oz (2 Liter)  \\\n",
       "reviews_username                                                          \n",
       "00dog3                                                          NaN       \n",
       "00sab00                                                         NaN       \n",
       "01impala                                                        NaN       \n",
       "02deuce                                                         NaN       \n",
       "0325home                                                        NaN       \n",
       "\n",
       "name              Yes To Carrots Nourishing Body Wash  \\\n",
       "reviews_username                                        \n",
       "00dog3                                            NaN   \n",
       "00sab00                                           NaN   \n",
       "01impala                                          NaN   \n",
       "02deuce                                           NaN   \n",
       "0325home                                          NaN   \n",
       "\n",
       "name              Yes To Grapefruit Rejuvenating Body Wash  \n",
       "reviews_username                                            \n",
       "00dog3                                                 NaN  \n",
       "00sab00                                                NaN  \n",
       "01impala                                               NaN  \n",
       "02deuce                                                NaN  \n",
       "0325home                                               NaN  \n",
       "\n",
       "[5 rows x 252 columns]"
      ]
     },
     "execution_count": 69,
     "metadata": {},
     "output_type": "execute_result"
    }
   ],
   "source": [
    "# pivoting the train ratings' dataset into matrix format in which columns are products and the rows are usernames.\n",
    "df_pivot = train.pivot(index='reviews_username',\n",
    "                       columns='name',\n",
    "                       values='reviews_rating')\n",
    "df_pivot.head()"
   ]
  },
  {
   "cell_type": "code",
   "execution_count": 70,
   "metadata": {
    "id": "DBjO2tozGHyX"
   },
   "outputs": [],
   "source": [
    "# copying the train dataset into dummy_train\n",
    "dummy_train = train.copy()"
   ]
  },
  {
   "cell_type": "code",
   "execution_count": 71,
   "metadata": {
    "id": "2N28Gn5iGHyX"
   },
   "outputs": [],
   "source": [
    "# the products not rated by user is marked as 1 for prediction and those already rated are marked 0\n",
    "dummy_train['reviews_rating'] = dummy_train['reviews_rating'].apply(lambda x: 0 if x>=1 else 1)"
   ]
  },
  {
   "cell_type": "code",
   "execution_count": 72,
   "metadata": {
    "colab": {
     "base_uri": "https://localhost:8080/",
     "height": 382
    },
    "id": "sCyZj0myGHyY",
    "outputId": "b1f40aa1-9688-413d-b10a-fdf111fba0af"
   },
   "outputs": [
    {
     "data": {
      "text/html": [
       "<div>\n",
       "<style scoped>\n",
       "    .dataframe tbody tr th:only-of-type {\n",
       "        vertical-align: middle;\n",
       "    }\n",
       "\n",
       "    .dataframe tbody tr th {\n",
       "        vertical-align: top;\n",
       "    }\n",
       "\n",
       "    .dataframe thead th {\n",
       "        text-align: right;\n",
       "    }\n",
       "</style>\n",
       "<table border=\"1\" class=\"dataframe\">\n",
       "  <thead>\n",
       "    <tr style=\"text-align: right;\">\n",
       "      <th>name</th>\n",
       "      <th>0.6 Cu. Ft. Letter A4 Size Waterproof 30 Min. Fire File Chest</th>\n",
       "      <th>100:Complete First Season (blu-Ray)</th>\n",
       "      <th>2017-2018 Brownline174 Duraflex 14-Month Planner 8 1/2 X 11 Black</th>\n",
       "      <th>2x Ultra Era with Oxi Booster, 50fl oz</th>\n",
       "      <th>42 Dual Drop Leaf Table with 2 Madrid Chairs\"</th>\n",
       "      <th>4C Grated Parmesan Cheese 100% Natural 8oz Shaker</th>\n",
       "      <th>5302050 15/16 FCT/HOSE ADAPTOR</th>\n",
       "      <th>Africa's Best No-Lye Dual Conditioning Relaxer System Super</th>\n",
       "      <th>Alberto VO5 Salon Series Smooth Plus Sleek Shampoo</th>\n",
       "      <th>Alex Cross (dvdvideo)</th>\n",
       "      <th>...</th>\n",
       "      <th>Wagan Smartac 80watt Inverter With Usb</th>\n",
       "      <th>Walkers Stem Ginger Shortbread</th>\n",
       "      <th>Way Basics 3-Shelf Eco Narrow Bookcase Storage Shelf, Espresso - Formaldehyde Free - Lifetime Guarantee</th>\n",
       "      <th>WeatherTech 40647 14-15 Outlander Cargo Liners Behind 2nd Row, Black</th>\n",
       "      <th>Wedding Wishes Wedding Guest Book</th>\n",
       "      <th>Weleda Everon Lip Balm</th>\n",
       "      <th>Wilton Black Dots Standard Baking Cups</th>\n",
       "      <th>Windex Original Glass Cleaner Refill 67.6oz (2 Liter)</th>\n",
       "      <th>Yes To Carrots Nourishing Body Wash</th>\n",
       "      <th>Yes To Grapefruit Rejuvenating Body Wash</th>\n",
       "    </tr>\n",
       "    <tr>\n",
       "      <th>reviews_username</th>\n",
       "      <th></th>\n",
       "      <th></th>\n",
       "      <th></th>\n",
       "      <th></th>\n",
       "      <th></th>\n",
       "      <th></th>\n",
       "      <th></th>\n",
       "      <th></th>\n",
       "      <th></th>\n",
       "      <th></th>\n",
       "      <th></th>\n",
       "      <th></th>\n",
       "      <th></th>\n",
       "      <th></th>\n",
       "      <th></th>\n",
       "      <th></th>\n",
       "      <th></th>\n",
       "      <th></th>\n",
       "      <th></th>\n",
       "      <th></th>\n",
       "      <th></th>\n",
       "    </tr>\n",
       "  </thead>\n",
       "  <tbody>\n",
       "    <tr>\n",
       "      <th>00dog3</th>\n",
       "      <td>1.0</td>\n",
       "      <td>1.0</td>\n",
       "      <td>1.0</td>\n",
       "      <td>1.0</td>\n",
       "      <td>1.0</td>\n",
       "      <td>1.0</td>\n",
       "      <td>1.0</td>\n",
       "      <td>1.0</td>\n",
       "      <td>1.0</td>\n",
       "      <td>1.0</td>\n",
       "      <td>...</td>\n",
       "      <td>1.0</td>\n",
       "      <td>1.0</td>\n",
       "      <td>1.0</td>\n",
       "      <td>1.0</td>\n",
       "      <td>1.0</td>\n",
       "      <td>1.0</td>\n",
       "      <td>1.0</td>\n",
       "      <td>1.0</td>\n",
       "      <td>1.0</td>\n",
       "      <td>1.0</td>\n",
       "    </tr>\n",
       "    <tr>\n",
       "      <th>00sab00</th>\n",
       "      <td>1.0</td>\n",
       "      <td>1.0</td>\n",
       "      <td>1.0</td>\n",
       "      <td>1.0</td>\n",
       "      <td>1.0</td>\n",
       "      <td>1.0</td>\n",
       "      <td>1.0</td>\n",
       "      <td>1.0</td>\n",
       "      <td>1.0</td>\n",
       "      <td>1.0</td>\n",
       "      <td>...</td>\n",
       "      <td>1.0</td>\n",
       "      <td>1.0</td>\n",
       "      <td>1.0</td>\n",
       "      <td>1.0</td>\n",
       "      <td>1.0</td>\n",
       "      <td>1.0</td>\n",
       "      <td>1.0</td>\n",
       "      <td>1.0</td>\n",
       "      <td>1.0</td>\n",
       "      <td>1.0</td>\n",
       "    </tr>\n",
       "    <tr>\n",
       "      <th>01impala</th>\n",
       "      <td>1.0</td>\n",
       "      <td>1.0</td>\n",
       "      <td>1.0</td>\n",
       "      <td>1.0</td>\n",
       "      <td>1.0</td>\n",
       "      <td>1.0</td>\n",
       "      <td>1.0</td>\n",
       "      <td>1.0</td>\n",
       "      <td>1.0</td>\n",
       "      <td>1.0</td>\n",
       "      <td>...</td>\n",
       "      <td>1.0</td>\n",
       "      <td>1.0</td>\n",
       "      <td>1.0</td>\n",
       "      <td>1.0</td>\n",
       "      <td>1.0</td>\n",
       "      <td>1.0</td>\n",
       "      <td>1.0</td>\n",
       "      <td>1.0</td>\n",
       "      <td>1.0</td>\n",
       "      <td>1.0</td>\n",
       "    </tr>\n",
       "  </tbody>\n",
       "</table>\n",
       "<p>3 rows × 252 columns</p>\n",
       "</div>"
      ],
      "text/plain": [
       "name              0.6 Cu. Ft. Letter A4 Size Waterproof 30 Min. Fire File Chest  \\\n",
       "reviews_username                                                                  \n",
       "00dog3                                                          1.0               \n",
       "00sab00                                                         1.0               \n",
       "01impala                                                        1.0               \n",
       "\n",
       "name              100:Complete First Season (blu-Ray)  \\\n",
       "reviews_username                                        \n",
       "00dog3                                            1.0   \n",
       "00sab00                                           1.0   \n",
       "01impala                                          1.0   \n",
       "\n",
       "name              2017-2018 Brownline174 Duraflex 14-Month Planner 8 1/2 X 11 Black  \\\n",
       "reviews_username                                                                      \n",
       "00dog3                                                          1.0                   \n",
       "00sab00                                                         1.0                   \n",
       "01impala                                                        1.0                   \n",
       "\n",
       "name              2x Ultra Era with Oxi Booster, 50fl oz  \\\n",
       "reviews_username                                           \n",
       "00dog3                                               1.0   \n",
       "00sab00                                              1.0   \n",
       "01impala                                             1.0   \n",
       "\n",
       "name              42 Dual Drop Leaf Table with 2 Madrid Chairs\"  \\\n",
       "reviews_username                                                  \n",
       "00dog3                                                      1.0   \n",
       "00sab00                                                     1.0   \n",
       "01impala                                                    1.0   \n",
       "\n",
       "name              4C Grated Parmesan Cheese 100% Natural 8oz Shaker  \\\n",
       "reviews_username                                                      \n",
       "00dog3                                                          1.0   \n",
       "00sab00                                                         1.0   \n",
       "01impala                                                        1.0   \n",
       "\n",
       "name              5302050 15/16 FCT/HOSE ADAPTOR  \\\n",
       "reviews_username                                   \n",
       "00dog3                                       1.0   \n",
       "00sab00                                      1.0   \n",
       "01impala                                     1.0   \n",
       "\n",
       "name              Africa's Best No-Lye Dual Conditioning Relaxer System Super  \\\n",
       "reviews_username                                                                \n",
       "00dog3                                                          1.0             \n",
       "00sab00                                                         1.0             \n",
       "01impala                                                        1.0             \n",
       "\n",
       "name              Alberto VO5 Salon Series Smooth Plus Sleek Shampoo  \\\n",
       "reviews_username                                                       \n",
       "00dog3                                                          1.0    \n",
       "00sab00                                                         1.0    \n",
       "01impala                                                        1.0    \n",
       "\n",
       "name              Alex Cross (dvdvideo)  ...  \\\n",
       "reviews_username                         ...   \n",
       "00dog3                              1.0  ...   \n",
       "00sab00                             1.0  ...   \n",
       "01impala                            1.0  ...   \n",
       "\n",
       "name              Wagan Smartac 80watt Inverter With Usb  \\\n",
       "reviews_username                                           \n",
       "00dog3                                               1.0   \n",
       "00sab00                                              1.0   \n",
       "01impala                                             1.0   \n",
       "\n",
       "name              Walkers Stem Ginger Shortbread  \\\n",
       "reviews_username                                   \n",
       "00dog3                                       1.0   \n",
       "00sab00                                      1.0   \n",
       "01impala                                     1.0   \n",
       "\n",
       "name              Way Basics 3-Shelf Eco Narrow Bookcase Storage Shelf, Espresso - Formaldehyde Free - Lifetime Guarantee  \\\n",
       "reviews_username                                                                                                            \n",
       "00dog3                                                          1.0                                                         \n",
       "00sab00                                                         1.0                                                         \n",
       "01impala                                                        1.0                                                         \n",
       "\n",
       "name              WeatherTech 40647 14-15 Outlander Cargo Liners Behind 2nd Row, Black  \\\n",
       "reviews_username                                                                         \n",
       "00dog3                                                          1.0                      \n",
       "00sab00                                                         1.0                      \n",
       "01impala                                                        1.0                      \n",
       "\n",
       "name              Wedding Wishes Wedding Guest Book  Weleda Everon Lip Balm  \\\n",
       "reviews_username                                                              \n",
       "00dog3                                          1.0                     1.0   \n",
       "00sab00                                         1.0                     1.0   \n",
       "01impala                                        1.0                     1.0   \n",
       "\n",
       "name              Wilton Black Dots Standard Baking Cups  \\\n",
       "reviews_username                                           \n",
       "00dog3                                               1.0   \n",
       "00sab00                                              1.0   \n",
       "01impala                                             1.0   \n",
       "\n",
       "name              Windex Original Glass Cleaner Refill 67.6oz (2 Liter)  \\\n",
       "reviews_username                                                          \n",
       "00dog3                                                          1.0       \n",
       "00sab00                                                         1.0       \n",
       "01impala                                                        1.0       \n",
       "\n",
       "name              Yes To Carrots Nourishing Body Wash  \\\n",
       "reviews_username                                        \n",
       "00dog3                                            1.0   \n",
       "00sab00                                           1.0   \n",
       "01impala                                          1.0   \n",
       "\n",
       "name              Yes To Grapefruit Rejuvenating Body Wash  \n",
       "reviews_username                                            \n",
       "00dog3                                                 1.0  \n",
       "00sab00                                                1.0  \n",
       "01impala                                               1.0  \n",
       "\n",
       "[3 rows x 252 columns]"
      ]
     },
     "execution_count": 72,
     "metadata": {},
     "output_type": "execute_result"
    }
   ],
   "source": [
    "# Convert the dummy train dataset into matrix format in which columns are products and the rows are usernames\n",
    "dummy_train = dummy_train.pivot(index='reviews_username',\n",
    "                                columns='name',\n",
    "                                values='reviews_rating').fillna(1)\n",
    "dummy_train.head(3)"
   ]
  },
  {
   "cell_type": "code",
   "execution_count": 73,
   "metadata": {
    "id": "1lmtMdJsGHyZ"
   },
   "outputs": [],
   "source": [
    "# subtracting the ratings from their respective mean for each user\n",
    "mean = np.nanmean(df_pivot, axis=1)\n",
    "df_subtracted = (df_pivot.T-mean).T"
   ]
  },
  {
   "cell_type": "code",
   "execution_count": 74,
   "metadata": {
    "colab": {
     "base_uri": "https://localhost:8080/"
    },
    "id": "JBT77zUMGHyb",
    "outputId": "2bf6924a-22b2-4b6a-da2c-b0f4ff02f076"
   },
   "outputs": [
    {
     "name": "stdout",
     "output_type": "stream",
     "text": [
      "[[0. 0. 0. ... 0. 0. 0.]\n",
      " [0. 1. 0. ... 0. 0. 0.]\n",
      " [0. 0. 0. ... 0. 0. 0.]\n",
      " ...\n",
      " [0. 0. 0. ... 0. 0. 0.]\n",
      " [0. 0. 0. ... 0. 0. 0.]\n",
      " [0. 0. 0. ... 0. 0. 0.]]\n"
     ]
    }
   ],
   "source": [
    "# calculating user correlation using adjusted cosine\n",
    "user_correlation = 1 - pairwise_distances(df_subtracted.fillna(0), metric='cosine')\n",
    "# replacing the NaN correlation values by 0\n",
    "user_correlation[np.isnan(user_correlation)] = 0\n",
    "print(user_correlation)"
   ]
  },
  {
   "cell_type": "code",
   "execution_count": 75,
   "metadata": {
    "colab": {
     "base_uri": "https://localhost:8080/"
    },
    "id": "3l43mYXFGHyb",
    "outputId": "77ca738d-4a17-44e6-8f35-c11d34098700"
   },
   "outputs": [
    {
     "data": {
      "text/plain": [
       "array([[0., 0., 0., ..., 0., 0., 0.],\n",
       "       [0., 1., 0., ..., 0., 0., 0.],\n",
       "       [0., 0., 0., ..., 0., 0., 0.],\n",
       "       ...,\n",
       "       [0., 0., 0., ..., 0., 0., 0.],\n",
       "       [0., 0., 0., ..., 0., 0., 0.],\n",
       "       [0., 0., 0., ..., 0., 0., 0.]])"
      ]
     },
     "execution_count": 75,
     "metadata": {},
     "output_type": "execute_result"
    }
   ],
   "source": [
    "# replacing the negative correlation values by 0\n",
    "user_correlation[user_correlation<0]=0\n",
    "user_correlation"
   ]
  },
  {
   "cell_type": "code",
   "execution_count": 76,
   "metadata": {
    "colab": {
     "base_uri": "https://localhost:8080/"
    },
    "id": "yySUCyp7GHyc",
    "outputId": "ec750dbc-1fba-4537-ea70-d5a87e379eb9"
   },
   "outputs": [
    {
     "data": {
      "text/plain": [
       "array([[0.        , 0.        , 0.        , ..., 0.        , 0.        ,\n",
       "        0.        ],\n",
       "       [0.        , 5.72687113, 0.        , ..., 5.08496515, 0.        ,\n",
       "        0.        ],\n",
       "       [0.        , 0.        , 0.        , ..., 0.        , 0.        ,\n",
       "        0.        ],\n",
       "       ...,\n",
       "       [0.        , 0.        , 0.        , ..., 0.        , 0.        ,\n",
       "        0.        ],\n",
       "       [0.        , 0.        , 0.        , ..., 0.        , 0.        ,\n",
       "        0.        ],\n",
       "       [0.        , 0.        , 0.        , ..., 0.        , 0.        ,\n",
       "        0.        ]])"
      ]
     },
     "execution_count": 76,
     "metadata": {},
     "output_type": "execute_result"
    }
   ],
   "source": [
    "# predicting user ratings\n",
    "user_predicted_ratings = np.dot(user_correlation, df_pivot.fillna(0))\n",
    "user_predicted_ratings"
   ]
  },
  {
   "cell_type": "code",
   "execution_count": 77,
   "metadata": {
    "colab": {
     "base_uri": "https://localhost:8080/",
     "height": 442
    },
    "id": "B5iJnPNsJwqN",
    "outputId": "feec57a4-3eb4-4499-fd46-c8a24ebc34c6"
   },
   "outputs": [
    {
     "data": {
      "text/html": [
       "<div>\n",
       "<style scoped>\n",
       "    .dataframe tbody tr th:only-of-type {\n",
       "        vertical-align: middle;\n",
       "    }\n",
       "\n",
       "    .dataframe tbody tr th {\n",
       "        vertical-align: top;\n",
       "    }\n",
       "\n",
       "    .dataframe thead th {\n",
       "        text-align: right;\n",
       "    }\n",
       "</style>\n",
       "<table border=\"1\" class=\"dataframe\">\n",
       "  <thead>\n",
       "    <tr style=\"text-align: right;\">\n",
       "      <th>name</th>\n",
       "      <th>0.6 Cu. Ft. Letter A4 Size Waterproof 30 Min. Fire File Chest</th>\n",
       "      <th>100:Complete First Season (blu-Ray)</th>\n",
       "      <th>2017-2018 Brownline174 Duraflex 14-Month Planner 8 1/2 X 11 Black</th>\n",
       "      <th>2x Ultra Era with Oxi Booster, 50fl oz</th>\n",
       "      <th>42 Dual Drop Leaf Table with 2 Madrid Chairs\"</th>\n",
       "      <th>4C Grated Parmesan Cheese 100% Natural 8oz Shaker</th>\n",
       "      <th>5302050 15/16 FCT/HOSE ADAPTOR</th>\n",
       "      <th>Africa's Best No-Lye Dual Conditioning Relaxer System Super</th>\n",
       "      <th>Alberto VO5 Salon Series Smooth Plus Sleek Shampoo</th>\n",
       "      <th>Alex Cross (dvdvideo)</th>\n",
       "      <th>...</th>\n",
       "      <th>Wagan Smartac 80watt Inverter With Usb</th>\n",
       "      <th>Walkers Stem Ginger Shortbread</th>\n",
       "      <th>Way Basics 3-Shelf Eco Narrow Bookcase Storage Shelf, Espresso - Formaldehyde Free - Lifetime Guarantee</th>\n",
       "      <th>WeatherTech 40647 14-15 Outlander Cargo Liners Behind 2nd Row, Black</th>\n",
       "      <th>Wedding Wishes Wedding Guest Book</th>\n",
       "      <th>Weleda Everon Lip Balm</th>\n",
       "      <th>Wilton Black Dots Standard Baking Cups</th>\n",
       "      <th>Windex Original Glass Cleaner Refill 67.6oz (2 Liter)</th>\n",
       "      <th>Yes To Carrots Nourishing Body Wash</th>\n",
       "      <th>Yes To Grapefruit Rejuvenating Body Wash</th>\n",
       "    </tr>\n",
       "    <tr>\n",
       "      <th>reviews_username</th>\n",
       "      <th></th>\n",
       "      <th></th>\n",
       "      <th></th>\n",
       "      <th></th>\n",
       "      <th></th>\n",
       "      <th></th>\n",
       "      <th></th>\n",
       "      <th></th>\n",
       "      <th></th>\n",
       "      <th></th>\n",
       "      <th></th>\n",
       "      <th></th>\n",
       "      <th></th>\n",
       "      <th></th>\n",
       "      <th></th>\n",
       "      <th></th>\n",
       "      <th></th>\n",
       "      <th></th>\n",
       "      <th></th>\n",
       "      <th></th>\n",
       "      <th></th>\n",
       "    </tr>\n",
       "  </thead>\n",
       "  <tbody>\n",
       "    <tr>\n",
       "      <th>00dog3</th>\n",
       "      <td>0.0</td>\n",
       "      <td>0.000000</td>\n",
       "      <td>0.0</td>\n",
       "      <td>0.0</td>\n",
       "      <td>0.0</td>\n",
       "      <td>0.0</td>\n",
       "      <td>0.0</td>\n",
       "      <td>0.0</td>\n",
       "      <td>0.0</td>\n",
       "      <td>0.000000</td>\n",
       "      <td>...</td>\n",
       "      <td>0.000000</td>\n",
       "      <td>0.0</td>\n",
       "      <td>0.0</td>\n",
       "      <td>0.0</td>\n",
       "      <td>0.0</td>\n",
       "      <td>0.0</td>\n",
       "      <td>0.0</td>\n",
       "      <td>0.000000</td>\n",
       "      <td>0.0</td>\n",
       "      <td>0.0</td>\n",
       "    </tr>\n",
       "    <tr>\n",
       "      <th>00sab00</th>\n",
       "      <td>0.0</td>\n",
       "      <td>5.726871</td>\n",
       "      <td>0.0</td>\n",
       "      <td>0.0</td>\n",
       "      <td>0.0</td>\n",
       "      <td>0.0</td>\n",
       "      <td>0.0</td>\n",
       "      <td>0.0</td>\n",
       "      <td>0.0</td>\n",
       "      <td>1.414214</td>\n",
       "      <td>...</td>\n",
       "      <td>0.816497</td>\n",
       "      <td>0.0</td>\n",
       "      <td>0.0</td>\n",
       "      <td>0.0</td>\n",
       "      <td>0.0</td>\n",
       "      <td>0.0</td>\n",
       "      <td>0.0</td>\n",
       "      <td>5.084965</td>\n",
       "      <td>0.0</td>\n",
       "      <td>0.0</td>\n",
       "    </tr>\n",
       "    <tr>\n",
       "      <th>01impala</th>\n",
       "      <td>0.0</td>\n",
       "      <td>0.000000</td>\n",
       "      <td>0.0</td>\n",
       "      <td>0.0</td>\n",
       "      <td>0.0</td>\n",
       "      <td>0.0</td>\n",
       "      <td>0.0</td>\n",
       "      <td>0.0</td>\n",
       "      <td>0.0</td>\n",
       "      <td>0.000000</td>\n",
       "      <td>...</td>\n",
       "      <td>0.000000</td>\n",
       "      <td>0.0</td>\n",
       "      <td>0.0</td>\n",
       "      <td>0.0</td>\n",
       "      <td>0.0</td>\n",
       "      <td>0.0</td>\n",
       "      <td>0.0</td>\n",
       "      <td>0.000000</td>\n",
       "      <td>0.0</td>\n",
       "      <td>0.0</td>\n",
       "    </tr>\n",
       "    <tr>\n",
       "      <th>02deuce</th>\n",
       "      <td>0.0</td>\n",
       "      <td>0.000000</td>\n",
       "      <td>0.0</td>\n",
       "      <td>0.0</td>\n",
       "      <td>0.0</td>\n",
       "      <td>0.0</td>\n",
       "      <td>0.0</td>\n",
       "      <td>0.0</td>\n",
       "      <td>0.0</td>\n",
       "      <td>0.000000</td>\n",
       "      <td>...</td>\n",
       "      <td>0.000000</td>\n",
       "      <td>0.0</td>\n",
       "      <td>0.0</td>\n",
       "      <td>0.0</td>\n",
       "      <td>0.0</td>\n",
       "      <td>0.0</td>\n",
       "      <td>0.0</td>\n",
       "      <td>0.000000</td>\n",
       "      <td>0.0</td>\n",
       "      <td>0.0</td>\n",
       "    </tr>\n",
       "    <tr>\n",
       "      <th>0325home</th>\n",
       "      <td>0.0</td>\n",
       "      <td>0.000000</td>\n",
       "      <td>0.0</td>\n",
       "      <td>0.0</td>\n",
       "      <td>0.0</td>\n",
       "      <td>0.0</td>\n",
       "      <td>0.0</td>\n",
       "      <td>0.0</td>\n",
       "      <td>0.0</td>\n",
       "      <td>0.000000</td>\n",
       "      <td>...</td>\n",
       "      <td>0.000000</td>\n",
       "      <td>0.0</td>\n",
       "      <td>0.0</td>\n",
       "      <td>0.0</td>\n",
       "      <td>0.0</td>\n",
       "      <td>0.0</td>\n",
       "      <td>0.0</td>\n",
       "      <td>0.000000</td>\n",
       "      <td>0.0</td>\n",
       "      <td>0.0</td>\n",
       "    </tr>\n",
       "  </tbody>\n",
       "</table>\n",
       "<p>5 rows × 252 columns</p>\n",
       "</div>"
      ],
      "text/plain": [
       "name              0.6 Cu. Ft. Letter A4 Size Waterproof 30 Min. Fire File Chest  \\\n",
       "reviews_username                                                                  \n",
       "00dog3                                                          0.0               \n",
       "00sab00                                                         0.0               \n",
       "01impala                                                        0.0               \n",
       "02deuce                                                         0.0               \n",
       "0325home                                                        0.0               \n",
       "\n",
       "name              100:Complete First Season (blu-Ray)  \\\n",
       "reviews_username                                        \n",
       "00dog3                                       0.000000   \n",
       "00sab00                                      5.726871   \n",
       "01impala                                     0.000000   \n",
       "02deuce                                      0.000000   \n",
       "0325home                                     0.000000   \n",
       "\n",
       "name              2017-2018 Brownline174 Duraflex 14-Month Planner 8 1/2 X 11 Black  \\\n",
       "reviews_username                                                                      \n",
       "00dog3                                                          0.0                   \n",
       "00sab00                                                         0.0                   \n",
       "01impala                                                        0.0                   \n",
       "02deuce                                                         0.0                   \n",
       "0325home                                                        0.0                   \n",
       "\n",
       "name              2x Ultra Era with Oxi Booster, 50fl oz  \\\n",
       "reviews_username                                           \n",
       "00dog3                                               0.0   \n",
       "00sab00                                              0.0   \n",
       "01impala                                             0.0   \n",
       "02deuce                                              0.0   \n",
       "0325home                                             0.0   \n",
       "\n",
       "name              42 Dual Drop Leaf Table with 2 Madrid Chairs\"  \\\n",
       "reviews_username                                                  \n",
       "00dog3                                                      0.0   \n",
       "00sab00                                                     0.0   \n",
       "01impala                                                    0.0   \n",
       "02deuce                                                     0.0   \n",
       "0325home                                                    0.0   \n",
       "\n",
       "name              4C Grated Parmesan Cheese 100% Natural 8oz Shaker  \\\n",
       "reviews_username                                                      \n",
       "00dog3                                                          0.0   \n",
       "00sab00                                                         0.0   \n",
       "01impala                                                        0.0   \n",
       "02deuce                                                         0.0   \n",
       "0325home                                                        0.0   \n",
       "\n",
       "name              5302050 15/16 FCT/HOSE ADAPTOR  \\\n",
       "reviews_username                                   \n",
       "00dog3                                       0.0   \n",
       "00sab00                                      0.0   \n",
       "01impala                                     0.0   \n",
       "02deuce                                      0.0   \n",
       "0325home                                     0.0   \n",
       "\n",
       "name              Africa's Best No-Lye Dual Conditioning Relaxer System Super  \\\n",
       "reviews_username                                                                \n",
       "00dog3                                                          0.0             \n",
       "00sab00                                                         0.0             \n",
       "01impala                                                        0.0             \n",
       "02deuce                                                         0.0             \n",
       "0325home                                                        0.0             \n",
       "\n",
       "name              Alberto VO5 Salon Series Smooth Plus Sleek Shampoo  \\\n",
       "reviews_username                                                       \n",
       "00dog3                                                          0.0    \n",
       "00sab00                                                         0.0    \n",
       "01impala                                                        0.0    \n",
       "02deuce                                                         0.0    \n",
       "0325home                                                        0.0    \n",
       "\n",
       "name              Alex Cross (dvdvideo)  ...  \\\n",
       "reviews_username                         ...   \n",
       "00dog3                         0.000000  ...   \n",
       "00sab00                        1.414214  ...   \n",
       "01impala                       0.000000  ...   \n",
       "02deuce                        0.000000  ...   \n",
       "0325home                       0.000000  ...   \n",
       "\n",
       "name              Wagan Smartac 80watt Inverter With Usb  \\\n",
       "reviews_username                                           \n",
       "00dog3                                          0.000000   \n",
       "00sab00                                         0.816497   \n",
       "01impala                                        0.000000   \n",
       "02deuce                                         0.000000   \n",
       "0325home                                        0.000000   \n",
       "\n",
       "name              Walkers Stem Ginger Shortbread  \\\n",
       "reviews_username                                   \n",
       "00dog3                                       0.0   \n",
       "00sab00                                      0.0   \n",
       "01impala                                     0.0   \n",
       "02deuce                                      0.0   \n",
       "0325home                                     0.0   \n",
       "\n",
       "name              Way Basics 3-Shelf Eco Narrow Bookcase Storage Shelf, Espresso - Formaldehyde Free - Lifetime Guarantee  \\\n",
       "reviews_username                                                                                                            \n",
       "00dog3                                                          0.0                                                         \n",
       "00sab00                                                         0.0                                                         \n",
       "01impala                                                        0.0                                                         \n",
       "02deuce                                                         0.0                                                         \n",
       "0325home                                                        0.0                                                         \n",
       "\n",
       "name              WeatherTech 40647 14-15 Outlander Cargo Liners Behind 2nd Row, Black  \\\n",
       "reviews_username                                                                         \n",
       "00dog3                                                          0.0                      \n",
       "00sab00                                                         0.0                      \n",
       "01impala                                                        0.0                      \n",
       "02deuce                                                         0.0                      \n",
       "0325home                                                        0.0                      \n",
       "\n",
       "name              Wedding Wishes Wedding Guest Book  Weleda Everon Lip Balm  \\\n",
       "reviews_username                                                              \n",
       "00dog3                                          0.0                     0.0   \n",
       "00sab00                                         0.0                     0.0   \n",
       "01impala                                        0.0                     0.0   \n",
       "02deuce                                         0.0                     0.0   \n",
       "0325home                                        0.0                     0.0   \n",
       "\n",
       "name              Wilton Black Dots Standard Baking Cups  \\\n",
       "reviews_username                                           \n",
       "00dog3                                               0.0   \n",
       "00sab00                                              0.0   \n",
       "01impala                                             0.0   \n",
       "02deuce                                              0.0   \n",
       "0325home                                             0.0   \n",
       "\n",
       "name              Windex Original Glass Cleaner Refill 67.6oz (2 Liter)  \\\n",
       "reviews_username                                                          \n",
       "00dog3                                                     0.000000       \n",
       "00sab00                                                    5.084965       \n",
       "01impala                                                   0.000000       \n",
       "02deuce                                                    0.000000       \n",
       "0325home                                                   0.000000       \n",
       "\n",
       "name              Yes To Carrots Nourishing Body Wash  \\\n",
       "reviews_username                                        \n",
       "00dog3                                            0.0   \n",
       "00sab00                                           0.0   \n",
       "01impala                                          0.0   \n",
       "02deuce                                           0.0   \n",
       "0325home                                          0.0   \n",
       "\n",
       "name              Yes To Grapefruit Rejuvenating Body Wash  \n",
       "reviews_username                                            \n",
       "00dog3                                                 0.0  \n",
       "00sab00                                                0.0  \n",
       "01impala                                               0.0  \n",
       "02deuce                                                0.0  \n",
       "0325home                                               0.0  \n",
       "\n",
       "[5 rows x 252 columns]"
      ]
     },
     "execution_count": 77,
     "metadata": {},
     "output_type": "execute_result"
    }
   ],
   "source": [
    "# getting the final user predicted ratings\n",
    "user_final_rating = np.multiply(user_predicted_ratings, dummy_train)\n",
    "user_final_rating.head()"
   ]
  },
  {
   "cell_type": "code",
   "execution_count": 78,
   "metadata": {
    "colab": {
     "base_uri": "https://localhost:8080/"
    },
    "id": "AUTZnJ3LGHyd",
    "outputId": "75b949d0-5bdb-4334-a5b3-9fe5da938e54"
   },
   "outputs": [
    {
     "name": "stdout",
     "output_type": "stream",
     "text": [
      "Enter your username: rebecca\n"
     ]
    }
   ],
   "source": [
    "# taking the username as input\n",
    "user_input = input(\"Enter your username: \")"
   ]
  },
  {
   "cell_type": "code",
   "execution_count": 79,
   "metadata": {
    "colab": {
     "base_uri": "https://localhost:8080/"
    },
    "id": "Voqo6FXLGHye",
    "outputId": "25a1b070-1aa4-4581-cb89-30040b65b5dd"
   },
   "outputs": [
    {
     "data": {
      "text/plain": [
       "name\n",
       "Godzilla 3d Includes Digital Copy Ultraviolet 3d/2d Blu-Ray/dvd    17.746552\n",
       "Mike Dave Need Wedding Dates (dvd + Digital)                       11.882965\n",
       "My Big Fat Greek Wedding 2 (blu-Ray + Dvd + Digital)                6.788884\n",
       "Clorox Disinfecting Bathroom Cleaner                                6.118116\n",
       "Coty Airspun Face Powder, Translucent Extra Coverage                5.235344\n",
       "Name: rebecca, dtype: float64"
      ]
     },
     "execution_count": 79,
     "metadata": {},
     "output_type": "execute_result"
    }
   ],
   "source": [
    "# recommending top 5 products to the user \n",
    "user_final_rating.loc[user_input].sort_values(ascending=False)[0:5]"
   ]
  },
  {
   "cell_type": "markdown",
   "metadata": {
    "id": "L1iQv_V1GHyf"
   },
   "source": [
    "### Evaluation of User-User Recommender Model"
   ]
  },
  {
   "cell_type": "code",
   "execution_count": 80,
   "metadata": {
    "colab": {
     "base_uri": "https://localhost:8080/"
    },
    "id": "oZfhtD_ZGHyf",
    "outputId": "cf9b28a1-e934-44b6-807b-109c4a210f71"
   },
   "outputs": [
    {
     "data": {
      "text/plain": [
       "(1066, 3)"
      ]
     },
     "execution_count": 80,
     "metadata": {},
     "output_type": "execute_result"
    }
   ],
   "source": [
    "# finding out the users common to test and train dataset\n",
    "common = test[test.reviews_username.isin(train.reviews_username)]\n",
    "common.shape"
   ]
  },
  {
   "cell_type": "code",
   "execution_count": 81,
   "metadata": {
    "colab": {
     "base_uri": "https://localhost:8080/",
     "height": 195
    },
    "id": "RH_krkeLGHyg",
    "outputId": "0236e334-8f79-4984-a007-93389d495337"
   },
   "outputs": [
    {
     "data": {
      "text/html": [
       "<div>\n",
       "<style scoped>\n",
       "    .dataframe tbody tr th:only-of-type {\n",
       "        vertical-align: middle;\n",
       "    }\n",
       "\n",
       "    .dataframe tbody tr th {\n",
       "        vertical-align: top;\n",
       "    }\n",
       "\n",
       "    .dataframe thead th {\n",
       "        text-align: right;\n",
       "    }\n",
       "</style>\n",
       "<table border=\"1\" class=\"dataframe\">\n",
       "  <thead>\n",
       "    <tr style=\"text-align: right;\">\n",
       "      <th></th>\n",
       "      <th>reviews_username</th>\n",
       "      <th>name</th>\n",
       "      <th>reviews_rating</th>\n",
       "    </tr>\n",
       "  </thead>\n",
       "  <tbody>\n",
       "    <tr>\n",
       "      <th>20430</th>\n",
       "      <td>peanut</td>\n",
       "      <td>My Big Fat Greek Wedding 2 (blu-Ray + Dvd + Di...</td>\n",
       "      <td>4.000000</td>\n",
       "    </tr>\n",
       "    <tr>\n",
       "      <th>18519</th>\n",
       "      <td>mouse</td>\n",
       "      <td>My Big Fat Greek Wedding 2 (blu-Ray + Dvd + Di...</td>\n",
       "      <td>5.000000</td>\n",
       "    </tr>\n",
       "    <tr>\n",
       "      <th>18553</th>\n",
       "      <td>moviegoer</td>\n",
       "      <td>Mike Dave Need Wedding Dates (dvd + Digital)</td>\n",
       "      <td>3.000000</td>\n",
       "    </tr>\n",
       "    <tr>\n",
       "      <th>3742</th>\n",
       "      <td>byamazon customer</td>\n",
       "      <td>Lundberg Wehani Rice, 25lb</td>\n",
       "      <td>4.578947</td>\n",
       "    </tr>\n",
       "    <tr>\n",
       "      <th>24377</th>\n",
       "      <td>steve</td>\n",
       "      <td>Red (special Edition) (dvdvideo)</td>\n",
       "      <td>5.000000</td>\n",
       "    </tr>\n",
       "  </tbody>\n",
       "</table>\n",
       "</div>"
      ],
      "text/plain": [
       "        reviews_username                                               name  \\\n",
       "20430             peanut  My Big Fat Greek Wedding 2 (blu-Ray + Dvd + Di...   \n",
       "18519              mouse  My Big Fat Greek Wedding 2 (blu-Ray + Dvd + Di...   \n",
       "18553          moviegoer       Mike Dave Need Wedding Dates (dvd + Digital)   \n",
       "3742   byamazon customer                         Lundberg Wehani Rice, 25lb   \n",
       "24377              steve                   Red (special Edition) (dvdvideo)   \n",
       "\n",
       "       reviews_rating  \n",
       "20430        4.000000  \n",
       "18519        5.000000  \n",
       "18553        3.000000  \n",
       "3742         4.578947  \n",
       "24377        5.000000  "
      ]
     },
     "execution_count": 81,
     "metadata": {},
     "output_type": "execute_result"
    }
   ],
   "source": [
    "common.head()"
   ]
  },
  {
   "cell_type": "code",
   "execution_count": 82,
   "metadata": {
    "id": "g3GjOY30GHyg"
   },
   "outputs": [],
   "source": [
    "# converting into the user-product matrix.\n",
    "common_user_based_matrix = common.pivot_table(index='reviews_username', columns='name', values='reviews_rating')"
   ]
  },
  {
   "cell_type": "code",
   "execution_count": 83,
   "metadata": {
    "colab": {
     "base_uri": "https://localhost:8080/"
    },
    "id": "jjSejQ6yGHyh",
    "outputId": "15f9b649-fdfe-4118-a9c4-9c64908f5302"
   },
   "outputs": [
    {
     "data": {
      "text/plain": [
       "(871, 122)"
      ]
     },
     "execution_count": 83,
     "metadata": {},
     "output_type": "execute_result"
    }
   ],
   "source": [
    "common_user_based_matrix.shape"
   ]
  },
  {
   "cell_type": "markdown",
   "metadata": {
    "id": "evYRDJu7GHyh"
   },
   "source": [
    "### converting the user_correlation matrix into dataframe and getting the correlations for users common to training and test set"
   ]
  },
  {
   "cell_type": "code",
   "execution_count": 84,
   "metadata": {
    "id": "A-o_eMOxGHyi"
   },
   "outputs": [],
   "source": [
    "user_correlation_df = pd.DataFrame(user_correlation)"
   ]
  },
  {
   "cell_type": "code",
   "execution_count": 85,
   "metadata": {
    "colab": {
     "base_uri": "https://localhost:8080/",
     "height": 274
    },
    "id": "e3yzJgkcGHyk",
    "outputId": "68ad9a84-a29d-49d4-febe-7774e546c258"
   },
   "outputs": [
    {
     "data": {
      "text/html": [
       "<div>\n",
       "<style scoped>\n",
       "    .dataframe tbody tr th:only-of-type {\n",
       "        vertical-align: middle;\n",
       "    }\n",
       "\n",
       "    .dataframe tbody tr th {\n",
       "        vertical-align: top;\n",
       "    }\n",
       "\n",
       "    .dataframe thead th {\n",
       "        text-align: right;\n",
       "    }\n",
       "</style>\n",
       "<table border=\"1\" class=\"dataframe\">\n",
       "  <thead>\n",
       "    <tr style=\"text-align: right;\">\n",
       "      <th></th>\n",
       "      <th>0</th>\n",
       "      <th>1</th>\n",
       "      <th>2</th>\n",
       "      <th>3</th>\n",
       "      <th>4</th>\n",
       "      <th>5</th>\n",
       "      <th>6</th>\n",
       "      <th>7</th>\n",
       "      <th>8</th>\n",
       "      <th>9</th>\n",
       "      <th>...</th>\n",
       "      <th>17839</th>\n",
       "      <th>17840</th>\n",
       "      <th>17841</th>\n",
       "      <th>17842</th>\n",
       "      <th>17843</th>\n",
       "      <th>17844</th>\n",
       "      <th>17845</th>\n",
       "      <th>17846</th>\n",
       "      <th>17847</th>\n",
       "      <th>17848</th>\n",
       "    </tr>\n",
       "    <tr>\n",
       "      <th>reviews_username</th>\n",
       "      <th></th>\n",
       "      <th></th>\n",
       "      <th></th>\n",
       "      <th></th>\n",
       "      <th></th>\n",
       "      <th></th>\n",
       "      <th></th>\n",
       "      <th></th>\n",
       "      <th></th>\n",
       "      <th></th>\n",
       "      <th></th>\n",
       "      <th></th>\n",
       "      <th></th>\n",
       "      <th></th>\n",
       "      <th></th>\n",
       "      <th></th>\n",
       "      <th></th>\n",
       "      <th></th>\n",
       "      <th></th>\n",
       "      <th></th>\n",
       "      <th></th>\n",
       "    </tr>\n",
       "  </thead>\n",
       "  <tbody>\n",
       "    <tr>\n",
       "      <th>00dog3</th>\n",
       "      <td>0.0</td>\n",
       "      <td>0.0</td>\n",
       "      <td>0.0</td>\n",
       "      <td>0.0</td>\n",
       "      <td>0.0</td>\n",
       "      <td>0.0</td>\n",
       "      <td>0.0</td>\n",
       "      <td>0.0</td>\n",
       "      <td>0.0</td>\n",
       "      <td>0.0</td>\n",
       "      <td>...</td>\n",
       "      <td>0.0</td>\n",
       "      <td>0.0</td>\n",
       "      <td>0.0</td>\n",
       "      <td>0.0</td>\n",
       "      <td>0.0</td>\n",
       "      <td>0.0</td>\n",
       "      <td>0.0</td>\n",
       "      <td>0.0</td>\n",
       "      <td>0.0</td>\n",
       "      <td>0.0</td>\n",
       "    </tr>\n",
       "    <tr>\n",
       "      <th>00sab00</th>\n",
       "      <td>0.0</td>\n",
       "      <td>1.0</td>\n",
       "      <td>0.0</td>\n",
       "      <td>0.0</td>\n",
       "      <td>0.0</td>\n",
       "      <td>0.0</td>\n",
       "      <td>0.0</td>\n",
       "      <td>0.0</td>\n",
       "      <td>0.0</td>\n",
       "      <td>0.0</td>\n",
       "      <td>...</td>\n",
       "      <td>0.0</td>\n",
       "      <td>0.0</td>\n",
       "      <td>0.0</td>\n",
       "      <td>0.0</td>\n",
       "      <td>0.0</td>\n",
       "      <td>0.0</td>\n",
       "      <td>0.0</td>\n",
       "      <td>0.0</td>\n",
       "      <td>0.0</td>\n",
       "      <td>0.0</td>\n",
       "    </tr>\n",
       "    <tr>\n",
       "      <th>01impala</th>\n",
       "      <td>0.0</td>\n",
       "      <td>0.0</td>\n",
       "      <td>0.0</td>\n",
       "      <td>0.0</td>\n",
       "      <td>0.0</td>\n",
       "      <td>0.0</td>\n",
       "      <td>0.0</td>\n",
       "      <td>0.0</td>\n",
       "      <td>0.0</td>\n",
       "      <td>0.0</td>\n",
       "      <td>...</td>\n",
       "      <td>0.0</td>\n",
       "      <td>0.0</td>\n",
       "      <td>0.0</td>\n",
       "      <td>0.0</td>\n",
       "      <td>0.0</td>\n",
       "      <td>0.0</td>\n",
       "      <td>0.0</td>\n",
       "      <td>0.0</td>\n",
       "      <td>0.0</td>\n",
       "      <td>0.0</td>\n",
       "    </tr>\n",
       "    <tr>\n",
       "      <th>02deuce</th>\n",
       "      <td>0.0</td>\n",
       "      <td>0.0</td>\n",
       "      <td>0.0</td>\n",
       "      <td>0.0</td>\n",
       "      <td>0.0</td>\n",
       "      <td>0.0</td>\n",
       "      <td>0.0</td>\n",
       "      <td>0.0</td>\n",
       "      <td>0.0</td>\n",
       "      <td>0.0</td>\n",
       "      <td>...</td>\n",
       "      <td>0.0</td>\n",
       "      <td>0.0</td>\n",
       "      <td>0.0</td>\n",
       "      <td>0.0</td>\n",
       "      <td>0.0</td>\n",
       "      <td>0.0</td>\n",
       "      <td>0.0</td>\n",
       "      <td>0.0</td>\n",
       "      <td>0.0</td>\n",
       "      <td>0.0</td>\n",
       "    </tr>\n",
       "    <tr>\n",
       "      <th>0325home</th>\n",
       "      <td>0.0</td>\n",
       "      <td>0.0</td>\n",
       "      <td>0.0</td>\n",
       "      <td>0.0</td>\n",
       "      <td>0.0</td>\n",
       "      <td>0.0</td>\n",
       "      <td>0.0</td>\n",
       "      <td>0.0</td>\n",
       "      <td>0.0</td>\n",
       "      <td>0.0</td>\n",
       "      <td>...</td>\n",
       "      <td>0.0</td>\n",
       "      <td>0.0</td>\n",
       "      <td>0.0</td>\n",
       "      <td>0.0</td>\n",
       "      <td>0.0</td>\n",
       "      <td>0.0</td>\n",
       "      <td>0.0</td>\n",
       "      <td>0.0</td>\n",
       "      <td>0.0</td>\n",
       "      <td>0.0</td>\n",
       "    </tr>\n",
       "  </tbody>\n",
       "</table>\n",
       "<p>5 rows × 17849 columns</p>\n",
       "</div>"
      ],
      "text/plain": [
       "                  0      1      2      3      4      5      6      7      \\\n",
       "reviews_username                                                           \n",
       "00dog3              0.0    0.0    0.0    0.0    0.0    0.0    0.0    0.0   \n",
       "00sab00             0.0    1.0    0.0    0.0    0.0    0.0    0.0    0.0   \n",
       "01impala            0.0    0.0    0.0    0.0    0.0    0.0    0.0    0.0   \n",
       "02deuce             0.0    0.0    0.0    0.0    0.0    0.0    0.0    0.0   \n",
       "0325home            0.0    0.0    0.0    0.0    0.0    0.0    0.0    0.0   \n",
       "\n",
       "                  8      9      ...  17839  17840  17841  17842  17843  17844  \\\n",
       "reviews_username                ...                                             \n",
       "00dog3              0.0    0.0  ...    0.0    0.0    0.0    0.0    0.0    0.0   \n",
       "00sab00             0.0    0.0  ...    0.0    0.0    0.0    0.0    0.0    0.0   \n",
       "01impala            0.0    0.0  ...    0.0    0.0    0.0    0.0    0.0    0.0   \n",
       "02deuce             0.0    0.0  ...    0.0    0.0    0.0    0.0    0.0    0.0   \n",
       "0325home            0.0    0.0  ...    0.0    0.0    0.0    0.0    0.0    0.0   \n",
       "\n",
       "                  17845  17846  17847  17848  \n",
       "reviews_username                              \n",
       "00dog3              0.0    0.0    0.0    0.0  \n",
       "00sab00             0.0    0.0    0.0    0.0  \n",
       "01impala            0.0    0.0    0.0    0.0  \n",
       "02deuce             0.0    0.0    0.0    0.0  \n",
       "0325home            0.0    0.0    0.0    0.0  \n",
       "\n",
       "[5 rows x 17849 columns]"
      ]
     },
     "execution_count": 85,
     "metadata": {},
     "output_type": "execute_result"
    }
   ],
   "source": [
    "user_correlation_df['reviews_username'] = df_subtracted.index\n",
    "user_correlation_df.set_index('reviews_username',inplace=True)\n",
    "user_correlation_df.head()"
   ]
  },
  {
   "cell_type": "code",
   "execution_count": 86,
   "metadata": {
    "colab": {
     "base_uri": "https://localhost:8080/",
     "height": 77
    },
    "id": "CWzse5dJGHyk",
    "outputId": "05ac3e9b-bf2c-4990-d35d-4d9e677e716f"
   },
   "outputs": [
    {
     "data": {
      "text/html": [
       "<div>\n",
       "<style scoped>\n",
       "    .dataframe tbody tr th:only-of-type {\n",
       "        vertical-align: middle;\n",
       "    }\n",
       "\n",
       "    .dataframe tbody tr th {\n",
       "        vertical-align: top;\n",
       "    }\n",
       "\n",
       "    .dataframe thead th {\n",
       "        text-align: right;\n",
       "    }\n",
       "</style>\n",
       "<table border=\"1\" class=\"dataframe\">\n",
       "  <thead>\n",
       "    <tr style=\"text-align: right;\">\n",
       "      <th></th>\n",
       "      <th>reviews_username</th>\n",
       "      <th>name</th>\n",
       "      <th>reviews_rating</th>\n",
       "    </tr>\n",
       "  </thead>\n",
       "  <tbody>\n",
       "    <tr>\n",
       "      <th>20430</th>\n",
       "      <td>peanut</td>\n",
       "      <td>My Big Fat Greek Wedding 2 (blu-Ray + Dvd + Di...</td>\n",
       "      <td>4.0</td>\n",
       "    </tr>\n",
       "  </tbody>\n",
       "</table>\n",
       "</div>"
      ],
      "text/plain": [
       "      reviews_username                                               name  \\\n",
       "20430           peanut  My Big Fat Greek Wedding 2 (blu-Ray + Dvd + Di...   \n",
       "\n",
       "       reviews_rating  \n",
       "20430             4.0  "
      ]
     },
     "execution_count": 86,
     "metadata": {},
     "output_type": "execute_result"
    }
   ],
   "source": [
    "common.head(1)"
   ]
  },
  {
   "cell_type": "code",
   "execution_count": 87,
   "metadata": {
    "id": "GZwfEYrAGHyl"
   },
   "outputs": [],
   "source": [
    "list_name = common.reviews_username.tolist()\n",
    "\n",
    "user_correlation_df.columns = df_subtracted.index.tolist()\n",
    "\n",
    "user_correlation_df_1 =  user_correlation_df[user_correlation_df.index.isin(list_name)]"
   ]
  },
  {
   "cell_type": "code",
   "execution_count": 88,
   "metadata": {
    "colab": {
     "base_uri": "https://localhost:8080/"
    },
    "id": "in8ymUTtGHyl",
    "outputId": "deacdaea-d4ff-4bce-e95c-4a0c468c2c48"
   },
   "outputs": [
    {
     "data": {
      "text/plain": [
       "(871, 17849)"
      ]
     },
     "execution_count": 88,
     "metadata": {},
     "output_type": "execute_result"
    }
   ],
   "source": [
    "user_correlation_df_1.shape"
   ]
  },
  {
   "cell_type": "code",
   "execution_count": 89,
   "metadata": {
    "id": "ZqyP7-6nGHym"
   },
   "outputs": [],
   "source": [
    "user_correlation_df_2 = user_correlation_df_1.T[user_correlation_df_1.T.index.isin(list_name)]"
   ]
  },
  {
   "cell_type": "code",
   "execution_count": 90,
   "metadata": {
    "id": "SvwUW3_HGHyn"
   },
   "outputs": [],
   "source": [
    "user_correlation_df_3 = user_correlation_df_2.T"
   ]
  },
  {
   "cell_type": "code",
   "execution_count": 91,
   "metadata": {
    "colab": {
     "base_uri": "https://localhost:8080/",
     "height": 290
    },
    "id": "2oWL7UKhGHyn",
    "outputId": "20fbb7c5-80c7-44bb-ad9b-25b511d00bb8"
   },
   "outputs": [
    {
     "data": {
      "text/html": [
       "<div>\n",
       "<style scoped>\n",
       "    .dataframe tbody tr th:only-of-type {\n",
       "        vertical-align: middle;\n",
       "    }\n",
       "\n",
       "    .dataframe tbody tr th {\n",
       "        vertical-align: top;\n",
       "    }\n",
       "\n",
       "    .dataframe thead th {\n",
       "        text-align: right;\n",
       "    }\n",
       "</style>\n",
       "<table border=\"1\" class=\"dataframe\">\n",
       "  <thead>\n",
       "    <tr style=\"text-align: right;\">\n",
       "      <th></th>\n",
       "      <th>1234</th>\n",
       "      <th>1witch</th>\n",
       "      <th>abbi</th>\n",
       "      <th>abby</th>\n",
       "      <th>acjuarez08</th>\n",
       "      <th>actionaction</th>\n",
       "      <th>adam</th>\n",
       "      <th>adrienne</th>\n",
       "      <th>ah78</th>\n",
       "      <th>ajay</th>\n",
       "      <th>...</th>\n",
       "      <th>wildman</th>\n",
       "      <th>winniepoo2</th>\n",
       "      <th>wizard</th>\n",
       "      <th>wolfie</th>\n",
       "      <th>wonderwoman</th>\n",
       "      <th>woody</th>\n",
       "      <th>woottos</th>\n",
       "      <th>woowoo</th>\n",
       "      <th>xstr8edgex</th>\n",
       "      <th>yeyo</th>\n",
       "    </tr>\n",
       "    <tr>\n",
       "      <th>reviews_username</th>\n",
       "      <th></th>\n",
       "      <th></th>\n",
       "      <th></th>\n",
       "      <th></th>\n",
       "      <th></th>\n",
       "      <th></th>\n",
       "      <th></th>\n",
       "      <th></th>\n",
       "      <th></th>\n",
       "      <th></th>\n",
       "      <th></th>\n",
       "      <th></th>\n",
       "      <th></th>\n",
       "      <th></th>\n",
       "      <th></th>\n",
       "      <th></th>\n",
       "      <th></th>\n",
       "      <th></th>\n",
       "      <th></th>\n",
       "      <th></th>\n",
       "      <th></th>\n",
       "    </tr>\n",
       "  </thead>\n",
       "  <tbody>\n",
       "    <tr>\n",
       "      <th>1234</th>\n",
       "      <td>0.0</td>\n",
       "      <td>0.0</td>\n",
       "      <td>0.0</td>\n",
       "      <td>0.0</td>\n",
       "      <td>0.0</td>\n",
       "      <td>0.0</td>\n",
       "      <td>0.0</td>\n",
       "      <td>0.0</td>\n",
       "      <td>0.0</td>\n",
       "      <td>0.0</td>\n",
       "      <td>...</td>\n",
       "      <td>0.0</td>\n",
       "      <td>0.0</td>\n",
       "      <td>0.0</td>\n",
       "      <td>0.0</td>\n",
       "      <td>0.0</td>\n",
       "      <td>0.0</td>\n",
       "      <td>0.0</td>\n",
       "      <td>0.0</td>\n",
       "      <td>0.0</td>\n",
       "      <td>0.0</td>\n",
       "    </tr>\n",
       "    <tr>\n",
       "      <th>1witch</th>\n",
       "      <td>0.0</td>\n",
       "      <td>0.0</td>\n",
       "      <td>0.0</td>\n",
       "      <td>0.0</td>\n",
       "      <td>0.0</td>\n",
       "      <td>0.0</td>\n",
       "      <td>0.0</td>\n",
       "      <td>0.0</td>\n",
       "      <td>0.0</td>\n",
       "      <td>0.0</td>\n",
       "      <td>...</td>\n",
       "      <td>0.0</td>\n",
       "      <td>0.0</td>\n",
       "      <td>0.0</td>\n",
       "      <td>0.0</td>\n",
       "      <td>0.0</td>\n",
       "      <td>0.0</td>\n",
       "      <td>0.0</td>\n",
       "      <td>0.0</td>\n",
       "      <td>0.0</td>\n",
       "      <td>0.0</td>\n",
       "    </tr>\n",
       "    <tr>\n",
       "      <th>abbi</th>\n",
       "      <td>0.0</td>\n",
       "      <td>0.0</td>\n",
       "      <td>0.0</td>\n",
       "      <td>0.0</td>\n",
       "      <td>0.0</td>\n",
       "      <td>0.0</td>\n",
       "      <td>0.0</td>\n",
       "      <td>0.0</td>\n",
       "      <td>0.0</td>\n",
       "      <td>0.0</td>\n",
       "      <td>...</td>\n",
       "      <td>0.0</td>\n",
       "      <td>0.0</td>\n",
       "      <td>0.0</td>\n",
       "      <td>0.0</td>\n",
       "      <td>0.0</td>\n",
       "      <td>0.0</td>\n",
       "      <td>0.0</td>\n",
       "      <td>0.0</td>\n",
       "      <td>0.0</td>\n",
       "      <td>0.0</td>\n",
       "    </tr>\n",
       "    <tr>\n",
       "      <th>abby</th>\n",
       "      <td>0.0</td>\n",
       "      <td>0.0</td>\n",
       "      <td>0.0</td>\n",
       "      <td>1.0</td>\n",
       "      <td>0.0</td>\n",
       "      <td>0.0</td>\n",
       "      <td>0.0</td>\n",
       "      <td>0.0</td>\n",
       "      <td>0.0</td>\n",
       "      <td>0.0</td>\n",
       "      <td>...</td>\n",
       "      <td>0.0</td>\n",
       "      <td>0.0</td>\n",
       "      <td>0.0</td>\n",
       "      <td>0.0</td>\n",
       "      <td>0.0</td>\n",
       "      <td>0.0</td>\n",
       "      <td>0.0</td>\n",
       "      <td>0.0</td>\n",
       "      <td>0.0</td>\n",
       "      <td>0.0</td>\n",
       "    </tr>\n",
       "    <tr>\n",
       "      <th>acjuarez08</th>\n",
       "      <td>0.0</td>\n",
       "      <td>0.0</td>\n",
       "      <td>0.0</td>\n",
       "      <td>0.0</td>\n",
       "      <td>0.0</td>\n",
       "      <td>0.0</td>\n",
       "      <td>0.0</td>\n",
       "      <td>0.0</td>\n",
       "      <td>0.0</td>\n",
       "      <td>0.0</td>\n",
       "      <td>...</td>\n",
       "      <td>0.0</td>\n",
       "      <td>0.0</td>\n",
       "      <td>0.0</td>\n",
       "      <td>0.0</td>\n",
       "      <td>0.0</td>\n",
       "      <td>0.0</td>\n",
       "      <td>0.0</td>\n",
       "      <td>0.0</td>\n",
       "      <td>0.0</td>\n",
       "      <td>0.0</td>\n",
       "    </tr>\n",
       "  </tbody>\n",
       "</table>\n",
       "<p>5 rows × 871 columns</p>\n",
       "</div>"
      ],
      "text/plain": [
       "                  1234  1witch  abbi  abby  acjuarez08  actionaction  adam  \\\n",
       "reviews_username                                                             \n",
       "1234               0.0     0.0   0.0   0.0         0.0           0.0   0.0   \n",
       "1witch             0.0     0.0   0.0   0.0         0.0           0.0   0.0   \n",
       "abbi               0.0     0.0   0.0   0.0         0.0           0.0   0.0   \n",
       "abby               0.0     0.0   0.0   1.0         0.0           0.0   0.0   \n",
       "acjuarez08         0.0     0.0   0.0   0.0         0.0           0.0   0.0   \n",
       "\n",
       "                  adrienne  ah78  ajay  ...  wildman  winniepoo2  wizard  \\\n",
       "reviews_username                        ...                                \n",
       "1234                   0.0   0.0   0.0  ...      0.0         0.0     0.0   \n",
       "1witch                 0.0   0.0   0.0  ...      0.0         0.0     0.0   \n",
       "abbi                   0.0   0.0   0.0  ...      0.0         0.0     0.0   \n",
       "abby                   0.0   0.0   0.0  ...      0.0         0.0     0.0   \n",
       "acjuarez08             0.0   0.0   0.0  ...      0.0         0.0     0.0   \n",
       "\n",
       "                  wolfie  wonderwoman  woody  woottos  woowoo  xstr8edgex  \\\n",
       "reviews_username                                                            \n",
       "1234                 0.0          0.0    0.0      0.0     0.0         0.0   \n",
       "1witch               0.0          0.0    0.0      0.0     0.0         0.0   \n",
       "abbi                 0.0          0.0    0.0      0.0     0.0         0.0   \n",
       "abby                 0.0          0.0    0.0      0.0     0.0         0.0   \n",
       "acjuarez08           0.0          0.0    0.0      0.0     0.0         0.0   \n",
       "\n",
       "                  yeyo  \n",
       "reviews_username        \n",
       "1234               0.0  \n",
       "1witch             0.0  \n",
       "abbi               0.0  \n",
       "abby               0.0  \n",
       "acjuarez08         0.0  \n",
       "\n",
       "[5 rows x 871 columns]"
      ]
     },
     "execution_count": 91,
     "metadata": {},
     "output_type": "execute_result"
    }
   ],
   "source": [
    "user_correlation_df_3.head()"
   ]
  },
  {
   "cell_type": "code",
   "execution_count": 92,
   "metadata": {
    "colab": {
     "base_uri": "https://localhost:8080/"
    },
    "id": "efuq9NmAGHyp",
    "outputId": "64ad1df4-039e-4d5e-9776-6cb06e33ec2a"
   },
   "outputs": [
    {
     "data": {
      "text/plain": [
       "array([[0., 0., 0., ..., 0., 0., 0.],\n",
       "       [0., 0., 0., ..., 0., 0., 0.],\n",
       "       [0., 0., 0., ..., 0., 0., 0.],\n",
       "       ...,\n",
       "       [0., 0., 0., ..., 0., 0., 0.],\n",
       "       [0., 0., 0., ..., 0., 0., 0.],\n",
       "       [0., 0., 0., ..., 0., 0., 0.]])"
      ]
     },
     "execution_count": 92,
     "metadata": {},
     "output_type": "execute_result"
    }
   ],
   "source": [
    "user_correlation_df_3[user_correlation_df_3<0]=0\n",
    "\n",
    "common_user_predicted_ratings = np.dot(user_correlation_df_3, common_user_based_matrix.fillna(0))\n",
    "common_user_predicted_ratings"
   ]
  },
  {
   "cell_type": "code",
   "execution_count": 93,
   "metadata": {
    "id": "2j7OWHP4GHyq"
   },
   "outputs": [],
   "source": [
    "# preparing the dummy test dataset in a way such that for rated products, the rating is 1, else 0\n",
    "\n",
    "dummy_test = common.copy()\n",
    "\n",
    "dummy_test['reviews_rating'] = dummy_test['reviews_rating'].apply(lambda x: 1 if x>=1 else 0)\n",
    "\n",
    "dummy_test = dummy_test.pivot_table(index='reviews_username', columns='name', values='reviews_rating').fillna(0)"
   ]
  },
  {
   "cell_type": "code",
   "execution_count": 94,
   "metadata": {
    "colab": {
     "base_uri": "https://localhost:8080/",
     "height": 442
    },
    "id": "_oNgzHbaGHyr",
    "outputId": "7fd2b6e5-76e7-4fd1-fc4f-1f40da116e07"
   },
   "outputs": [
    {
     "data": {
      "text/html": [
       "<div>\n",
       "<style scoped>\n",
       "    .dataframe tbody tr th:only-of-type {\n",
       "        vertical-align: middle;\n",
       "    }\n",
       "\n",
       "    .dataframe tbody tr th {\n",
       "        vertical-align: top;\n",
       "    }\n",
       "\n",
       "    .dataframe thead th {\n",
       "        text-align: right;\n",
       "    }\n",
       "</style>\n",
       "<table border=\"1\" class=\"dataframe\">\n",
       "  <thead>\n",
       "    <tr style=\"text-align: right;\">\n",
       "      <th>name</th>\n",
       "      <th>100:Complete First Season (blu-Ray)</th>\n",
       "      <th>Alex Cross (dvdvideo)</th>\n",
       "      <th>All,bran Complete Wheat Flakes, 18 Oz.</th>\n",
       "      <th>Arrid Extra Dry Anti-Perspirant Deodorant Spray Regular</th>\n",
       "      <th>Aussie Aussome Volume Shampoo, 13.5 Oz</th>\n",
       "      <th>Australian Gold Exotic Blend Lotion, SPF 4</th>\n",
       "      <th>Aveeno Baby Continuous Protection Lotion Sunscreen with Broad Spectrum SPF 55, 4oz</th>\n",
       "      <th>Avery174 Ready Index Contemporary Table Of Contents Divider, 1-8, Multi, Letter</th>\n",
       "      <th>Banana Boat Sunless Summer Color Self Tanning Lotion, Light To Medium</th>\n",
       "      <th>Barielle Nail Rebuilding Protein</th>\n",
       "      <th>...</th>\n",
       "      <th>Trend Lab Park Nursing Cover - Paisley</th>\n",
       "      <th>Tresemme Kertatin Smooth Infusing Conditioning</th>\n",
       "      <th>Various - Country's Greatest Gospel:Gold Ed (cd)</th>\n",
       "      <th>Vaseline Intensive Care Lip Therapy Cocoa Butter</th>\n",
       "      <th>Vicks Vaporub, Regular, 3.53oz</th>\n",
       "      <th>Way Basics 3-Shelf Eco Narrow Bookcase Storage Shelf, Espresso - Formaldehyde Free - Lifetime Guarantee</th>\n",
       "      <th>WeatherTech 40647 14-15 Outlander Cargo Liners Behind 2nd Row, Black</th>\n",
       "      <th>Windex Original Glass Cleaner Refill 67.6oz (2 Liter)</th>\n",
       "      <th>Yes To Carrots Nourishing Body Wash</th>\n",
       "      <th>Yes To Grapefruit Rejuvenating Body Wash</th>\n",
       "    </tr>\n",
       "    <tr>\n",
       "      <th>reviews_username</th>\n",
       "      <th></th>\n",
       "      <th></th>\n",
       "      <th></th>\n",
       "      <th></th>\n",
       "      <th></th>\n",
       "      <th></th>\n",
       "      <th></th>\n",
       "      <th></th>\n",
       "      <th></th>\n",
       "      <th></th>\n",
       "      <th></th>\n",
       "      <th></th>\n",
       "      <th></th>\n",
       "      <th></th>\n",
       "      <th></th>\n",
       "      <th></th>\n",
       "      <th></th>\n",
       "      <th></th>\n",
       "      <th></th>\n",
       "      <th></th>\n",
       "      <th></th>\n",
       "    </tr>\n",
       "  </thead>\n",
       "  <tbody>\n",
       "    <tr>\n",
       "      <th>1234</th>\n",
       "      <td>0.0</td>\n",
       "      <td>0.0</td>\n",
       "      <td>0.0</td>\n",
       "      <td>0.0</td>\n",
       "      <td>0.0</td>\n",
       "      <td>0.0</td>\n",
       "      <td>0.0</td>\n",
       "      <td>0.0</td>\n",
       "      <td>0.0</td>\n",
       "      <td>0.0</td>\n",
       "      <td>...</td>\n",
       "      <td>0.0</td>\n",
       "      <td>0.0</td>\n",
       "      <td>0.0</td>\n",
       "      <td>0.0</td>\n",
       "      <td>0.0</td>\n",
       "      <td>0.0</td>\n",
       "      <td>0.0</td>\n",
       "      <td>0.0</td>\n",
       "      <td>0.0</td>\n",
       "      <td>0.0</td>\n",
       "    </tr>\n",
       "    <tr>\n",
       "      <th>1witch</th>\n",
       "      <td>0.0</td>\n",
       "      <td>0.0</td>\n",
       "      <td>0.0</td>\n",
       "      <td>0.0</td>\n",
       "      <td>0.0</td>\n",
       "      <td>0.0</td>\n",
       "      <td>0.0</td>\n",
       "      <td>0.0</td>\n",
       "      <td>0.0</td>\n",
       "      <td>0.0</td>\n",
       "      <td>...</td>\n",
       "      <td>0.0</td>\n",
       "      <td>0.0</td>\n",
       "      <td>0.0</td>\n",
       "      <td>0.0</td>\n",
       "      <td>0.0</td>\n",
       "      <td>0.0</td>\n",
       "      <td>0.0</td>\n",
       "      <td>0.0</td>\n",
       "      <td>0.0</td>\n",
       "      <td>0.0</td>\n",
       "    </tr>\n",
       "    <tr>\n",
       "      <th>abbi</th>\n",
       "      <td>0.0</td>\n",
       "      <td>0.0</td>\n",
       "      <td>0.0</td>\n",
       "      <td>0.0</td>\n",
       "      <td>0.0</td>\n",
       "      <td>0.0</td>\n",
       "      <td>0.0</td>\n",
       "      <td>0.0</td>\n",
       "      <td>0.0</td>\n",
       "      <td>0.0</td>\n",
       "      <td>...</td>\n",
       "      <td>0.0</td>\n",
       "      <td>0.0</td>\n",
       "      <td>0.0</td>\n",
       "      <td>0.0</td>\n",
       "      <td>0.0</td>\n",
       "      <td>0.0</td>\n",
       "      <td>0.0</td>\n",
       "      <td>0.0</td>\n",
       "      <td>0.0</td>\n",
       "      <td>0.0</td>\n",
       "    </tr>\n",
       "    <tr>\n",
       "      <th>abby</th>\n",
       "      <td>0.0</td>\n",
       "      <td>0.0</td>\n",
       "      <td>0.0</td>\n",
       "      <td>0.0</td>\n",
       "      <td>0.0</td>\n",
       "      <td>0.0</td>\n",
       "      <td>0.0</td>\n",
       "      <td>1.0</td>\n",
       "      <td>0.0</td>\n",
       "      <td>0.0</td>\n",
       "      <td>...</td>\n",
       "      <td>0.0</td>\n",
       "      <td>0.0</td>\n",
       "      <td>0.0</td>\n",
       "      <td>0.0</td>\n",
       "      <td>0.0</td>\n",
       "      <td>0.0</td>\n",
       "      <td>0.0</td>\n",
       "      <td>0.0</td>\n",
       "      <td>0.0</td>\n",
       "      <td>0.0</td>\n",
       "    </tr>\n",
       "    <tr>\n",
       "      <th>acjuarez08</th>\n",
       "      <td>0.0</td>\n",
       "      <td>0.0</td>\n",
       "      <td>0.0</td>\n",
       "      <td>0.0</td>\n",
       "      <td>0.0</td>\n",
       "      <td>0.0</td>\n",
       "      <td>0.0</td>\n",
       "      <td>0.0</td>\n",
       "      <td>0.0</td>\n",
       "      <td>0.0</td>\n",
       "      <td>...</td>\n",
       "      <td>0.0</td>\n",
       "      <td>0.0</td>\n",
       "      <td>0.0</td>\n",
       "      <td>0.0</td>\n",
       "      <td>0.0</td>\n",
       "      <td>0.0</td>\n",
       "      <td>0.0</td>\n",
       "      <td>0.0</td>\n",
       "      <td>0.0</td>\n",
       "      <td>0.0</td>\n",
       "    </tr>\n",
       "  </tbody>\n",
       "</table>\n",
       "<p>5 rows × 122 columns</p>\n",
       "</div>"
      ],
      "text/plain": [
       "name              100:Complete First Season (blu-Ray)  Alex Cross (dvdvideo)  \\\n",
       "reviews_username                                                               \n",
       "1234                                              0.0                    0.0   \n",
       "1witch                                            0.0                    0.0   \n",
       "abbi                                              0.0                    0.0   \n",
       "abby                                              0.0                    0.0   \n",
       "acjuarez08                                        0.0                    0.0   \n",
       "\n",
       "name              All,bran Complete Wheat Flakes, 18 Oz.  \\\n",
       "reviews_username                                           \n",
       "1234                                                 0.0   \n",
       "1witch                                               0.0   \n",
       "abbi                                                 0.0   \n",
       "abby                                                 0.0   \n",
       "acjuarez08                                           0.0   \n",
       "\n",
       "name              Arrid Extra Dry Anti-Perspirant Deodorant Spray Regular  \\\n",
       "reviews_username                                                            \n",
       "1234                                                            0.0         \n",
       "1witch                                                          0.0         \n",
       "abbi                                                            0.0         \n",
       "abby                                                            0.0         \n",
       "acjuarez08                                                      0.0         \n",
       "\n",
       "name              Aussie Aussome Volume Shampoo, 13.5 Oz  \\\n",
       "reviews_username                                           \n",
       "1234                                                 0.0   \n",
       "1witch                                               0.0   \n",
       "abbi                                                 0.0   \n",
       "abby                                                 0.0   \n",
       "acjuarez08                                           0.0   \n",
       "\n",
       "name              Australian Gold Exotic Blend Lotion, SPF 4  \\\n",
       "reviews_username                                               \n",
       "1234                                                     0.0   \n",
       "1witch                                                   0.0   \n",
       "abbi                                                     0.0   \n",
       "abby                                                     0.0   \n",
       "acjuarez08                                               0.0   \n",
       "\n",
       "name              Aveeno Baby Continuous Protection Lotion Sunscreen with Broad Spectrum SPF 55, 4oz  \\\n",
       "reviews_username                                                                                       \n",
       "1234                                                            0.0                                    \n",
       "1witch                                                          0.0                                    \n",
       "abbi                                                            0.0                                    \n",
       "abby                                                            0.0                                    \n",
       "acjuarez08                                                      0.0                                    \n",
       "\n",
       "name              Avery174 Ready Index Contemporary Table Of Contents Divider, 1-8, Multi, Letter  \\\n",
       "reviews_username                                                                                    \n",
       "1234                                                            0.0                                 \n",
       "1witch                                                          0.0                                 \n",
       "abbi                                                            0.0                                 \n",
       "abby                                                            1.0                                 \n",
       "acjuarez08                                                      0.0                                 \n",
       "\n",
       "name              Banana Boat Sunless Summer Color Self Tanning Lotion, Light To Medium  \\\n",
       "reviews_username                                                                          \n",
       "1234                                                            0.0                       \n",
       "1witch                                                          0.0                       \n",
       "abbi                                                            0.0                       \n",
       "abby                                                            0.0                       \n",
       "acjuarez08                                                      0.0                       \n",
       "\n",
       "name              Barielle Nail Rebuilding Protein  ...  \\\n",
       "reviews_username                                    ...   \n",
       "1234                                           0.0  ...   \n",
       "1witch                                         0.0  ...   \n",
       "abbi                                           0.0  ...   \n",
       "abby                                           0.0  ...   \n",
       "acjuarez08                                     0.0  ...   \n",
       "\n",
       "name              Trend Lab Park Nursing Cover - Paisley  \\\n",
       "reviews_username                                           \n",
       "1234                                                 0.0   \n",
       "1witch                                               0.0   \n",
       "abbi                                                 0.0   \n",
       "abby                                                 0.0   \n",
       "acjuarez08                                           0.0   \n",
       "\n",
       "name              Tresemme Kertatin Smooth Infusing Conditioning  \\\n",
       "reviews_username                                                   \n",
       "1234                                                         0.0   \n",
       "1witch                                                       0.0   \n",
       "abbi                                                         0.0   \n",
       "abby                                                         0.0   \n",
       "acjuarez08                                                   0.0   \n",
       "\n",
       "name              Various - Country's Greatest Gospel:Gold Ed (cd)  \\\n",
       "reviews_username                                                     \n",
       "1234                                                           0.0   \n",
       "1witch                                                         0.0   \n",
       "abbi                                                           0.0   \n",
       "abby                                                           0.0   \n",
       "acjuarez08                                                     0.0   \n",
       "\n",
       "name              Vaseline Intensive Care Lip Therapy Cocoa Butter  \\\n",
       "reviews_username                                                     \n",
       "1234                                                           0.0   \n",
       "1witch                                                         0.0   \n",
       "abbi                                                           0.0   \n",
       "abby                                                           0.0   \n",
       "acjuarez08                                                     0.0   \n",
       "\n",
       "name              Vicks Vaporub, Regular, 3.53oz  \\\n",
       "reviews_username                                   \n",
       "1234                                         0.0   \n",
       "1witch                                       0.0   \n",
       "abbi                                         0.0   \n",
       "abby                                         0.0   \n",
       "acjuarez08                                   0.0   \n",
       "\n",
       "name              Way Basics 3-Shelf Eco Narrow Bookcase Storage Shelf, Espresso - Formaldehyde Free - Lifetime Guarantee  \\\n",
       "reviews_username                                                                                                            \n",
       "1234                                                            0.0                                                         \n",
       "1witch                                                          0.0                                                         \n",
       "abbi                                                            0.0                                                         \n",
       "abby                                                            0.0                                                         \n",
       "acjuarez08                                                      0.0                                                         \n",
       "\n",
       "name              WeatherTech 40647 14-15 Outlander Cargo Liners Behind 2nd Row, Black  \\\n",
       "reviews_username                                                                         \n",
       "1234                                                            0.0                      \n",
       "1witch                                                          0.0                      \n",
       "abbi                                                            0.0                      \n",
       "abby                                                            0.0                      \n",
       "acjuarez08                                                      0.0                      \n",
       "\n",
       "name              Windex Original Glass Cleaner Refill 67.6oz (2 Liter)  \\\n",
       "reviews_username                                                          \n",
       "1234                                                            0.0       \n",
       "1witch                                                          0.0       \n",
       "abbi                                                            0.0       \n",
       "abby                                                            0.0       \n",
       "acjuarez08                                                      0.0       \n",
       "\n",
       "name              Yes To Carrots Nourishing Body Wash  \\\n",
       "reviews_username                                        \n",
       "1234                                              0.0   \n",
       "1witch                                            0.0   \n",
       "abbi                                              0.0   \n",
       "abby                                              0.0   \n",
       "acjuarez08                                        0.0   \n",
       "\n",
       "name              Yes To Grapefruit Rejuvenating Body Wash  \n",
       "reviews_username                                            \n",
       "1234                                                   0.0  \n",
       "1witch                                                 0.0  \n",
       "abbi                                                   0.0  \n",
       "abby                                                   0.0  \n",
       "acjuarez08                                             0.0  \n",
       "\n",
       "[5 rows x 122 columns]"
      ]
     },
     "execution_count": 94,
     "metadata": {},
     "output_type": "execute_result"
    }
   ],
   "source": [
    "dummy_test.head()"
   ]
  },
  {
   "cell_type": "code",
   "execution_count": 95,
   "metadata": {
    "id": "-eMPGecqGHys"
   },
   "outputs": [],
   "source": [
    "# convering the common dataframe into user-product matrix\n",
    "common_user_predicted_ratings = np.multiply(common_user_predicted_ratings,dummy_test)"
   ]
  },
  {
   "cell_type": "code",
   "execution_count": 96,
   "metadata": {
    "colab": {
     "base_uri": "https://localhost:8080/",
     "height": 353
    },
    "id": "OF59lpi2GHys",
    "outputId": "f1abe9da-7071-4529-a163-f776154af1d1"
   },
   "outputs": [
    {
     "data": {
      "text/html": [
       "<div>\n",
       "<style scoped>\n",
       "    .dataframe tbody tr th:only-of-type {\n",
       "        vertical-align: middle;\n",
       "    }\n",
       "\n",
       "    .dataframe tbody tr th {\n",
       "        vertical-align: top;\n",
       "    }\n",
       "\n",
       "    .dataframe thead th {\n",
       "        text-align: right;\n",
       "    }\n",
       "</style>\n",
       "<table border=\"1\" class=\"dataframe\">\n",
       "  <thead>\n",
       "    <tr style=\"text-align: right;\">\n",
       "      <th>name</th>\n",
       "      <th>100:Complete First Season (blu-Ray)</th>\n",
       "      <th>Alex Cross (dvdvideo)</th>\n",
       "      <th>All,bran Complete Wheat Flakes, 18 Oz.</th>\n",
       "      <th>Arrid Extra Dry Anti-Perspirant Deodorant Spray Regular</th>\n",
       "      <th>Aussie Aussome Volume Shampoo, 13.5 Oz</th>\n",
       "      <th>Australian Gold Exotic Blend Lotion, SPF 4</th>\n",
       "      <th>Aveeno Baby Continuous Protection Lotion Sunscreen with Broad Spectrum SPF 55, 4oz</th>\n",
       "      <th>Avery174 Ready Index Contemporary Table Of Contents Divider, 1-8, Multi, Letter</th>\n",
       "      <th>Banana Boat Sunless Summer Color Self Tanning Lotion, Light To Medium</th>\n",
       "      <th>Barielle Nail Rebuilding Protein</th>\n",
       "      <th>...</th>\n",
       "      <th>Trend Lab Park Nursing Cover - Paisley</th>\n",
       "      <th>Tresemme Kertatin Smooth Infusing Conditioning</th>\n",
       "      <th>Various - Country's Greatest Gospel:Gold Ed (cd)</th>\n",
       "      <th>Vaseline Intensive Care Lip Therapy Cocoa Butter</th>\n",
       "      <th>Vicks Vaporub, Regular, 3.53oz</th>\n",
       "      <th>Way Basics 3-Shelf Eco Narrow Bookcase Storage Shelf, Espresso - Formaldehyde Free - Lifetime Guarantee</th>\n",
       "      <th>WeatherTech 40647 14-15 Outlander Cargo Liners Behind 2nd Row, Black</th>\n",
       "      <th>Windex Original Glass Cleaner Refill 67.6oz (2 Liter)</th>\n",
       "      <th>Yes To Carrots Nourishing Body Wash</th>\n",
       "      <th>Yes To Grapefruit Rejuvenating Body Wash</th>\n",
       "    </tr>\n",
       "    <tr>\n",
       "      <th>reviews_username</th>\n",
       "      <th></th>\n",
       "      <th></th>\n",
       "      <th></th>\n",
       "      <th></th>\n",
       "      <th></th>\n",
       "      <th></th>\n",
       "      <th></th>\n",
       "      <th></th>\n",
       "      <th></th>\n",
       "      <th></th>\n",
       "      <th></th>\n",
       "      <th></th>\n",
       "      <th></th>\n",
       "      <th></th>\n",
       "      <th></th>\n",
       "      <th></th>\n",
       "      <th></th>\n",
       "      <th></th>\n",
       "      <th></th>\n",
       "      <th></th>\n",
       "      <th></th>\n",
       "    </tr>\n",
       "  </thead>\n",
       "  <tbody>\n",
       "    <tr>\n",
       "      <th>1234</th>\n",
       "      <td>0.0</td>\n",
       "      <td>0.0</td>\n",
       "      <td>0.0</td>\n",
       "      <td>0.0</td>\n",
       "      <td>0.0</td>\n",
       "      <td>0.0</td>\n",
       "      <td>0.0</td>\n",
       "      <td>0.0</td>\n",
       "      <td>0.0</td>\n",
       "      <td>0.0</td>\n",
       "      <td>...</td>\n",
       "      <td>0.0</td>\n",
       "      <td>0.0</td>\n",
       "      <td>0.0</td>\n",
       "      <td>0.0</td>\n",
       "      <td>0.0</td>\n",
       "      <td>0.0</td>\n",
       "      <td>0.0</td>\n",
       "      <td>0.0</td>\n",
       "      <td>0.0</td>\n",
       "      <td>0.0</td>\n",
       "    </tr>\n",
       "    <tr>\n",
       "      <th>1witch</th>\n",
       "      <td>0.0</td>\n",
       "      <td>0.0</td>\n",
       "      <td>0.0</td>\n",
       "      <td>0.0</td>\n",
       "      <td>0.0</td>\n",
       "      <td>0.0</td>\n",
       "      <td>0.0</td>\n",
       "      <td>0.0</td>\n",
       "      <td>0.0</td>\n",
       "      <td>0.0</td>\n",
       "      <td>...</td>\n",
       "      <td>0.0</td>\n",
       "      <td>0.0</td>\n",
       "      <td>0.0</td>\n",
       "      <td>0.0</td>\n",
       "      <td>0.0</td>\n",
       "      <td>0.0</td>\n",
       "      <td>0.0</td>\n",
       "      <td>0.0</td>\n",
       "      <td>0.0</td>\n",
       "      <td>0.0</td>\n",
       "    </tr>\n",
       "  </tbody>\n",
       "</table>\n",
       "<p>2 rows × 122 columns</p>\n",
       "</div>"
      ],
      "text/plain": [
       "name              100:Complete First Season (blu-Ray)  Alex Cross (dvdvideo)  \\\n",
       "reviews_username                                                               \n",
       "1234                                              0.0                    0.0   \n",
       "1witch                                            0.0                    0.0   \n",
       "\n",
       "name              All,bran Complete Wheat Flakes, 18 Oz.  \\\n",
       "reviews_username                                           \n",
       "1234                                                 0.0   \n",
       "1witch                                               0.0   \n",
       "\n",
       "name              Arrid Extra Dry Anti-Perspirant Deodorant Spray Regular  \\\n",
       "reviews_username                                                            \n",
       "1234                                                            0.0         \n",
       "1witch                                                          0.0         \n",
       "\n",
       "name              Aussie Aussome Volume Shampoo, 13.5 Oz  \\\n",
       "reviews_username                                           \n",
       "1234                                                 0.0   \n",
       "1witch                                               0.0   \n",
       "\n",
       "name              Australian Gold Exotic Blend Lotion, SPF 4  \\\n",
       "reviews_username                                               \n",
       "1234                                                     0.0   \n",
       "1witch                                                   0.0   \n",
       "\n",
       "name              Aveeno Baby Continuous Protection Lotion Sunscreen with Broad Spectrum SPF 55, 4oz  \\\n",
       "reviews_username                                                                                       \n",
       "1234                                                            0.0                                    \n",
       "1witch                                                          0.0                                    \n",
       "\n",
       "name              Avery174 Ready Index Contemporary Table Of Contents Divider, 1-8, Multi, Letter  \\\n",
       "reviews_username                                                                                    \n",
       "1234                                                            0.0                                 \n",
       "1witch                                                          0.0                                 \n",
       "\n",
       "name              Banana Boat Sunless Summer Color Self Tanning Lotion, Light To Medium  \\\n",
       "reviews_username                                                                          \n",
       "1234                                                            0.0                       \n",
       "1witch                                                          0.0                       \n",
       "\n",
       "name              Barielle Nail Rebuilding Protein  ...  \\\n",
       "reviews_username                                    ...   \n",
       "1234                                           0.0  ...   \n",
       "1witch                                         0.0  ...   \n",
       "\n",
       "name              Trend Lab Park Nursing Cover - Paisley  \\\n",
       "reviews_username                                           \n",
       "1234                                                 0.0   \n",
       "1witch                                               0.0   \n",
       "\n",
       "name              Tresemme Kertatin Smooth Infusing Conditioning  \\\n",
       "reviews_username                                                   \n",
       "1234                                                         0.0   \n",
       "1witch                                                       0.0   \n",
       "\n",
       "name              Various - Country's Greatest Gospel:Gold Ed (cd)  \\\n",
       "reviews_username                                                     \n",
       "1234                                                           0.0   \n",
       "1witch                                                         0.0   \n",
       "\n",
       "name              Vaseline Intensive Care Lip Therapy Cocoa Butter  \\\n",
       "reviews_username                                                     \n",
       "1234                                                           0.0   \n",
       "1witch                                                         0.0   \n",
       "\n",
       "name              Vicks Vaporub, Regular, 3.53oz  \\\n",
       "reviews_username                                   \n",
       "1234                                         0.0   \n",
       "1witch                                       0.0   \n",
       "\n",
       "name              Way Basics 3-Shelf Eco Narrow Bookcase Storage Shelf, Espresso - Formaldehyde Free - Lifetime Guarantee  \\\n",
       "reviews_username                                                                                                            \n",
       "1234                                                            0.0                                                         \n",
       "1witch                                                          0.0                                                         \n",
       "\n",
       "name              WeatherTech 40647 14-15 Outlander Cargo Liners Behind 2nd Row, Black  \\\n",
       "reviews_username                                                                         \n",
       "1234                                                            0.0                      \n",
       "1witch                                                          0.0                      \n",
       "\n",
       "name              Windex Original Glass Cleaner Refill 67.6oz (2 Liter)  \\\n",
       "reviews_username                                                          \n",
       "1234                                                            0.0       \n",
       "1witch                                                          0.0       \n",
       "\n",
       "name              Yes To Carrots Nourishing Body Wash  \\\n",
       "reviews_username                                        \n",
       "1234                                              0.0   \n",
       "1witch                                            0.0   \n",
       "\n",
       "name              Yes To Grapefruit Rejuvenating Body Wash  \n",
       "reviews_username                                            \n",
       "1234                                                   0.0  \n",
       "1witch                                                 0.0  \n",
       "\n",
       "[2 rows x 122 columns]"
      ]
     },
     "execution_count": 96,
     "metadata": {},
     "output_type": "execute_result"
    }
   ],
   "source": [
    "common_user_predicted_ratings.head(2)"
   ]
  },
  {
   "cell_type": "code",
   "execution_count": 97,
   "metadata": {
    "colab": {
     "base_uri": "https://localhost:8080/"
    },
    "id": "Yu27FZ0RKfya",
    "outputId": "ea4dfa29-24e6-483a-c1e3-ea7cdff6a689"
   },
   "outputs": [
    {
     "name": "stdout",
     "output_type": "stream",
     "text": [
      "MinMaxScaler(feature_range=(1, 5))\n",
      "[[nan nan nan ... nan nan nan]\n",
      " [nan nan nan ... nan nan nan]\n",
      " [nan nan nan ... nan nan nan]\n",
      " ...\n",
      " [nan nan nan ... nan nan nan]\n",
      " [nan nan nan ... nan nan nan]\n",
      " [nan nan nan ... nan nan nan]]\n"
     ]
    }
   ],
   "source": [
    "# copying the common user predicted ratings\n",
    "X  = common_user_predicted_ratings.copy() \n",
    "X = X[X>0]\n",
    "\n",
    "# copying the common user predicted ratings\n",
    "scaler = MinMaxScaler(feature_range=(1, 5))\n",
    "print(scaler.fit(X))\n",
    "y = (scaler.transform(X))\n",
    "\n",
    "print(y)"
   ]
  },
  {
   "cell_type": "code",
   "execution_count": 98,
   "metadata": {
    "id": "h-qWmyJhKf9F"
   },
   "outputs": [],
   "source": [
    "# convering the common dataframe into user-product matrix\n",
    "common_ = common.pivot_table(index='reviews_username', columns='name', values='reviews_rating')"
   ]
  },
  {
   "cell_type": "code",
   "execution_count": 99,
   "metadata": {
    "id": "N411aPhpKgCw"
   },
   "outputs": [],
   "source": [
    "# Finding total non-NaN value\n",
    "total_non_nan = np.count_nonzero(~np.isnan(y))"
   ]
  },
  {
   "cell_type": "code",
   "execution_count": 100,
   "metadata": {
    "colab": {
     "base_uri": "https://localhost:8080/"
    },
    "id": "AIJhpKVCKgJQ",
    "outputId": "442f17f2-6405-4933-ab49-f8e013d30822"
   },
   "outputs": [
    {
     "name": "stdout",
     "output_type": "stream",
     "text": [
      "Root Mean Square Error of the User-based Recommender:  2.5842040534180777\n"
     ]
    }
   ],
   "source": [
    "# calculating RMSE score\n",
    "rmse = ((((common_ - y)**2).sum(skipna = True)).sum(skipna = True)/total_non_nan)**0.5\n",
    "print('Root Mean Square Error of the User-based Recommender: ', rmse)"
   ]
  },
  {
   "cell_type": "markdown",
   "metadata": {
    "id": "3jnKZVMcGHyt"
   },
   "source": [
    "## Building the Item-Item Recommendation System"
   ]
  },
  {
   "cell_type": "code",
   "execution_count": 101,
   "metadata": {
    "colab": {
     "base_uri": "https://localhost:8080/",
     "height": 509
    },
    "id": "_t2Ji-NgGHyt",
    "outputId": "4e695e0f-19c1-463e-a585-5b16e96bdf5f"
   },
   "outputs": [
    {
     "data": {
      "text/html": [
       "<div>\n",
       "<style scoped>\n",
       "    .dataframe tbody tr th:only-of-type {\n",
       "        vertical-align: middle;\n",
       "    }\n",
       "\n",
       "    .dataframe tbody tr th {\n",
       "        vertical-align: top;\n",
       "    }\n",
       "\n",
       "    .dataframe thead th {\n",
       "        text-align: right;\n",
       "    }\n",
       "</style>\n",
       "<table border=\"1\" class=\"dataframe\">\n",
       "  <thead>\n",
       "    <tr style=\"text-align: right;\">\n",
       "      <th>reviews_username</th>\n",
       "      <th>00dog3</th>\n",
       "      <th>00sab00</th>\n",
       "      <th>01impala</th>\n",
       "      <th>02deuce</th>\n",
       "      <th>0325home</th>\n",
       "      <th>06stidriver</th>\n",
       "      <th>09mommy11</th>\n",
       "      <th>1.11E+24</th>\n",
       "      <th>1085</th>\n",
       "      <th>10ten</th>\n",
       "      <th>...</th>\n",
       "      <th>zt313</th>\n",
       "      <th>zubb</th>\n",
       "      <th>zulaa118</th>\n",
       "      <th>zuttle</th>\n",
       "      <th>zwithanx</th>\n",
       "      <th>zxcsdfd</th>\n",
       "      <th>zxjki</th>\n",
       "      <th>zyiah4</th>\n",
       "      <th>zzdiane</th>\n",
       "      <th>zzz1127</th>\n",
       "    </tr>\n",
       "    <tr>\n",
       "      <th>name</th>\n",
       "      <th></th>\n",
       "      <th></th>\n",
       "      <th></th>\n",
       "      <th></th>\n",
       "      <th></th>\n",
       "      <th></th>\n",
       "      <th></th>\n",
       "      <th></th>\n",
       "      <th></th>\n",
       "      <th></th>\n",
       "      <th></th>\n",
       "      <th></th>\n",
       "      <th></th>\n",
       "      <th></th>\n",
       "      <th></th>\n",
       "      <th></th>\n",
       "      <th></th>\n",
       "      <th></th>\n",
       "      <th></th>\n",
       "      <th></th>\n",
       "      <th></th>\n",
       "    </tr>\n",
       "  </thead>\n",
       "  <tbody>\n",
       "    <tr>\n",
       "      <th>0.6 Cu. Ft. Letter A4 Size Waterproof 30 Min. Fire File Chest</th>\n",
       "      <td>NaN</td>\n",
       "      <td>NaN</td>\n",
       "      <td>NaN</td>\n",
       "      <td>NaN</td>\n",
       "      <td>NaN</td>\n",
       "      <td>NaN</td>\n",
       "      <td>NaN</td>\n",
       "      <td>NaN</td>\n",
       "      <td>NaN</td>\n",
       "      <td>NaN</td>\n",
       "      <td>...</td>\n",
       "      <td>NaN</td>\n",
       "      <td>NaN</td>\n",
       "      <td>NaN</td>\n",
       "      <td>NaN</td>\n",
       "      <td>NaN</td>\n",
       "      <td>NaN</td>\n",
       "      <td>NaN</td>\n",
       "      <td>NaN</td>\n",
       "      <td>NaN</td>\n",
       "      <td>NaN</td>\n",
       "    </tr>\n",
       "    <tr>\n",
       "      <th>100:Complete First Season (blu-Ray)</th>\n",
       "      <td>NaN</td>\n",
       "      <td>NaN</td>\n",
       "      <td>NaN</td>\n",
       "      <td>NaN</td>\n",
       "      <td>NaN</td>\n",
       "      <td>NaN</td>\n",
       "      <td>NaN</td>\n",
       "      <td>NaN</td>\n",
       "      <td>NaN</td>\n",
       "      <td>NaN</td>\n",
       "      <td>...</td>\n",
       "      <td>NaN</td>\n",
       "      <td>NaN</td>\n",
       "      <td>NaN</td>\n",
       "      <td>NaN</td>\n",
       "      <td>NaN</td>\n",
       "      <td>NaN</td>\n",
       "      <td>NaN</td>\n",
       "      <td>NaN</td>\n",
       "      <td>NaN</td>\n",
       "      <td>NaN</td>\n",
       "    </tr>\n",
       "    <tr>\n",
       "      <th>2017-2018 Brownline174 Duraflex 14-Month Planner 8 1/2 X 11 Black</th>\n",
       "      <td>NaN</td>\n",
       "      <td>NaN</td>\n",
       "      <td>NaN</td>\n",
       "      <td>NaN</td>\n",
       "      <td>NaN</td>\n",
       "      <td>NaN</td>\n",
       "      <td>NaN</td>\n",
       "      <td>NaN</td>\n",
       "      <td>NaN</td>\n",
       "      <td>NaN</td>\n",
       "      <td>...</td>\n",
       "      <td>NaN</td>\n",
       "      <td>NaN</td>\n",
       "      <td>NaN</td>\n",
       "      <td>NaN</td>\n",
       "      <td>NaN</td>\n",
       "      <td>NaN</td>\n",
       "      <td>NaN</td>\n",
       "      <td>NaN</td>\n",
       "      <td>NaN</td>\n",
       "      <td>NaN</td>\n",
       "    </tr>\n",
       "    <tr>\n",
       "      <th>2x Ultra Era with Oxi Booster, 50fl oz</th>\n",
       "      <td>NaN</td>\n",
       "      <td>NaN</td>\n",
       "      <td>NaN</td>\n",
       "      <td>NaN</td>\n",
       "      <td>NaN</td>\n",
       "      <td>NaN</td>\n",
       "      <td>NaN</td>\n",
       "      <td>NaN</td>\n",
       "      <td>NaN</td>\n",
       "      <td>NaN</td>\n",
       "      <td>...</td>\n",
       "      <td>NaN</td>\n",
       "      <td>NaN</td>\n",
       "      <td>NaN</td>\n",
       "      <td>NaN</td>\n",
       "      <td>NaN</td>\n",
       "      <td>NaN</td>\n",
       "      <td>NaN</td>\n",
       "      <td>NaN</td>\n",
       "      <td>NaN</td>\n",
       "      <td>NaN</td>\n",
       "    </tr>\n",
       "    <tr>\n",
       "      <th>42 Dual Drop Leaf Table with 2 Madrid Chairs\"</th>\n",
       "      <td>NaN</td>\n",
       "      <td>NaN</td>\n",
       "      <td>NaN</td>\n",
       "      <td>NaN</td>\n",
       "      <td>NaN</td>\n",
       "      <td>NaN</td>\n",
       "      <td>NaN</td>\n",
       "      <td>NaN</td>\n",
       "      <td>NaN</td>\n",
       "      <td>NaN</td>\n",
       "      <td>...</td>\n",
       "      <td>NaN</td>\n",
       "      <td>NaN</td>\n",
       "      <td>NaN</td>\n",
       "      <td>NaN</td>\n",
       "      <td>NaN</td>\n",
       "      <td>NaN</td>\n",
       "      <td>NaN</td>\n",
       "      <td>NaN</td>\n",
       "      <td>NaN</td>\n",
       "      <td>NaN</td>\n",
       "    </tr>\n",
       "  </tbody>\n",
       "</table>\n",
       "<p>5 rows × 17849 columns</p>\n",
       "</div>"
      ],
      "text/plain": [
       "reviews_username                                    00dog3  00sab00  01impala  \\\n",
       "name                                                                            \n",
       "0.6 Cu. Ft. Letter A4 Size Waterproof 30 Min. F...     NaN      NaN       NaN   \n",
       "100:Complete First Season (blu-Ray)                    NaN      NaN       NaN   \n",
       "2017-2018 Brownline174 Duraflex 14-Month Planne...     NaN      NaN       NaN   \n",
       "2x Ultra Era with Oxi Booster, 50fl oz                 NaN      NaN       NaN   \n",
       "42 Dual Drop Leaf Table with 2 Madrid Chairs\"          NaN      NaN       NaN   \n",
       "\n",
       "reviews_username                                    02deuce  0325home  \\\n",
       "name                                                                    \n",
       "0.6 Cu. Ft. Letter A4 Size Waterproof 30 Min. F...      NaN       NaN   \n",
       "100:Complete First Season (blu-Ray)                     NaN       NaN   \n",
       "2017-2018 Brownline174 Duraflex 14-Month Planne...      NaN       NaN   \n",
       "2x Ultra Era with Oxi Booster, 50fl oz                  NaN       NaN   \n",
       "42 Dual Drop Leaf Table with 2 Madrid Chairs\"           NaN       NaN   \n",
       "\n",
       "reviews_username                                    06stidriver  09mommy11  \\\n",
       "name                                                                         \n",
       "0.6 Cu. Ft. Letter A4 Size Waterproof 30 Min. F...          NaN        NaN   \n",
       "100:Complete First Season (blu-Ray)                         NaN        NaN   \n",
       "2017-2018 Brownline174 Duraflex 14-Month Planne...          NaN        NaN   \n",
       "2x Ultra Era with Oxi Booster, 50fl oz                      NaN        NaN   \n",
       "42 Dual Drop Leaf Table with 2 Madrid Chairs\"               NaN        NaN   \n",
       "\n",
       "reviews_username                                    1.11E+24  1085  10ten  \\\n",
       "name                                                                        \n",
       "0.6 Cu. Ft. Letter A4 Size Waterproof 30 Min. F...       NaN   NaN    NaN   \n",
       "100:Complete First Season (blu-Ray)                      NaN   NaN    NaN   \n",
       "2017-2018 Brownline174 Duraflex 14-Month Planne...       NaN   NaN    NaN   \n",
       "2x Ultra Era with Oxi Booster, 50fl oz                   NaN   NaN    NaN   \n",
       "42 Dual Drop Leaf Table with 2 Madrid Chairs\"            NaN   NaN    NaN   \n",
       "\n",
       "reviews_username                                    ...  zt313  zubb  \\\n",
       "name                                                ...                \n",
       "0.6 Cu. Ft. Letter A4 Size Waterproof 30 Min. F...  ...    NaN   NaN   \n",
       "100:Complete First Season (blu-Ray)                 ...    NaN   NaN   \n",
       "2017-2018 Brownline174 Duraflex 14-Month Planne...  ...    NaN   NaN   \n",
       "2x Ultra Era with Oxi Booster, 50fl oz              ...    NaN   NaN   \n",
       "42 Dual Drop Leaf Table with 2 Madrid Chairs\"       ...    NaN   NaN   \n",
       "\n",
       "reviews_username                                    zulaa118  zuttle  \\\n",
       "name                                                                   \n",
       "0.6 Cu. Ft. Letter A4 Size Waterproof 30 Min. F...       NaN     NaN   \n",
       "100:Complete First Season (blu-Ray)                      NaN     NaN   \n",
       "2017-2018 Brownline174 Duraflex 14-Month Planne...       NaN     NaN   \n",
       "2x Ultra Era with Oxi Booster, 50fl oz                   NaN     NaN   \n",
       "42 Dual Drop Leaf Table with 2 Madrid Chairs\"            NaN     NaN   \n",
       "\n",
       "reviews_username                                    zwithanx  zxcsdfd  zxjki  \\\n",
       "name                                                                           \n",
       "0.6 Cu. Ft. Letter A4 Size Waterproof 30 Min. F...       NaN      NaN    NaN   \n",
       "100:Complete First Season (blu-Ray)                      NaN      NaN    NaN   \n",
       "2017-2018 Brownline174 Duraflex 14-Month Planne...       NaN      NaN    NaN   \n",
       "2x Ultra Era with Oxi Booster, 50fl oz                   NaN      NaN    NaN   \n",
       "42 Dual Drop Leaf Table with 2 Madrid Chairs\"            NaN      NaN    NaN   \n",
       "\n",
       "reviews_username                                    zyiah4  zzdiane  zzz1127  \n",
       "name                                                                          \n",
       "0.6 Cu. Ft. Letter A4 Size Waterproof 30 Min. F...     NaN      NaN      NaN  \n",
       "100:Complete First Season (blu-Ray)                    NaN      NaN      NaN  \n",
       "2017-2018 Brownline174 Duraflex 14-Month Planne...     NaN      NaN      NaN  \n",
       "2x Ultra Era with Oxi Booster, 50fl oz                 NaN      NaN      NaN  \n",
       "42 Dual Drop Leaf Table with 2 Madrid Chairs\"          NaN      NaN      NaN  \n",
       "\n",
       "[5 rows x 17849 columns]"
      ]
     },
     "execution_count": 101,
     "metadata": {},
     "output_type": "execute_result"
    }
   ],
   "source": [
    "# Pivoting the train ratings' dataset into matrix format in which columns are usernames and the rows are products.\n",
    "df_pivot = train.pivot(index='reviews_username',\n",
    "                       columns='name',\n",
    "                       values='reviews_rating').T\n",
    "\n",
    "df_pivot.head()"
   ]
  },
  {
   "cell_type": "code",
   "execution_count": 102,
   "metadata": {
    "id": "eCjH8MZWGHyu"
   },
   "outputs": [],
   "source": [
    "# subtracting the ratings from their respective mean for each product\n",
    "mean = np.nanmean(df_pivot, axis=1)\n",
    "df_subtracted = (df_pivot.T-mean).T"
   ]
  },
  {
   "cell_type": "code",
   "execution_count": 103,
   "metadata": {
    "colab": {
     "base_uri": "https://localhost:8080/",
     "height": 509
    },
    "id": "Rztj-6pRGHyv",
    "outputId": "fb7a31f2-d545-45e8-94a2-687a286d0447"
   },
   "outputs": [
    {
     "data": {
      "text/html": [
       "<div>\n",
       "<style scoped>\n",
       "    .dataframe tbody tr th:only-of-type {\n",
       "        vertical-align: middle;\n",
       "    }\n",
       "\n",
       "    .dataframe tbody tr th {\n",
       "        vertical-align: top;\n",
       "    }\n",
       "\n",
       "    .dataframe thead th {\n",
       "        text-align: right;\n",
       "    }\n",
       "</style>\n",
       "<table border=\"1\" class=\"dataframe\">\n",
       "  <thead>\n",
       "    <tr style=\"text-align: right;\">\n",
       "      <th>reviews_username</th>\n",
       "      <th>00dog3</th>\n",
       "      <th>00sab00</th>\n",
       "      <th>01impala</th>\n",
       "      <th>02deuce</th>\n",
       "      <th>0325home</th>\n",
       "      <th>06stidriver</th>\n",
       "      <th>09mommy11</th>\n",
       "      <th>1.11E+24</th>\n",
       "      <th>1085</th>\n",
       "      <th>10ten</th>\n",
       "      <th>...</th>\n",
       "      <th>zt313</th>\n",
       "      <th>zubb</th>\n",
       "      <th>zulaa118</th>\n",
       "      <th>zuttle</th>\n",
       "      <th>zwithanx</th>\n",
       "      <th>zxcsdfd</th>\n",
       "      <th>zxjki</th>\n",
       "      <th>zyiah4</th>\n",
       "      <th>zzdiane</th>\n",
       "      <th>zzz1127</th>\n",
       "    </tr>\n",
       "    <tr>\n",
       "      <th>name</th>\n",
       "      <th></th>\n",
       "      <th></th>\n",
       "      <th></th>\n",
       "      <th></th>\n",
       "      <th></th>\n",
       "      <th></th>\n",
       "      <th></th>\n",
       "      <th></th>\n",
       "      <th></th>\n",
       "      <th></th>\n",
       "      <th></th>\n",
       "      <th></th>\n",
       "      <th></th>\n",
       "      <th></th>\n",
       "      <th></th>\n",
       "      <th></th>\n",
       "      <th></th>\n",
       "      <th></th>\n",
       "      <th></th>\n",
       "      <th></th>\n",
       "      <th></th>\n",
       "    </tr>\n",
       "  </thead>\n",
       "  <tbody>\n",
       "    <tr>\n",
       "      <th>0.6 Cu. Ft. Letter A4 Size Waterproof 30 Min. Fire File Chest</th>\n",
       "      <td>NaN</td>\n",
       "      <td>NaN</td>\n",
       "      <td>NaN</td>\n",
       "      <td>NaN</td>\n",
       "      <td>NaN</td>\n",
       "      <td>NaN</td>\n",
       "      <td>NaN</td>\n",
       "      <td>NaN</td>\n",
       "      <td>NaN</td>\n",
       "      <td>NaN</td>\n",
       "      <td>...</td>\n",
       "      <td>NaN</td>\n",
       "      <td>NaN</td>\n",
       "      <td>NaN</td>\n",
       "      <td>NaN</td>\n",
       "      <td>NaN</td>\n",
       "      <td>NaN</td>\n",
       "      <td>NaN</td>\n",
       "      <td>NaN</td>\n",
       "      <td>NaN</td>\n",
       "      <td>NaN</td>\n",
       "    </tr>\n",
       "    <tr>\n",
       "      <th>100:Complete First Season (blu-Ray)</th>\n",
       "      <td>NaN</td>\n",
       "      <td>NaN</td>\n",
       "      <td>NaN</td>\n",
       "      <td>NaN</td>\n",
       "      <td>NaN</td>\n",
       "      <td>NaN</td>\n",
       "      <td>NaN</td>\n",
       "      <td>NaN</td>\n",
       "      <td>NaN</td>\n",
       "      <td>NaN</td>\n",
       "      <td>...</td>\n",
       "      <td>NaN</td>\n",
       "      <td>NaN</td>\n",
       "      <td>NaN</td>\n",
       "      <td>NaN</td>\n",
       "      <td>NaN</td>\n",
       "      <td>NaN</td>\n",
       "      <td>NaN</td>\n",
       "      <td>NaN</td>\n",
       "      <td>NaN</td>\n",
       "      <td>NaN</td>\n",
       "    </tr>\n",
       "    <tr>\n",
       "      <th>2017-2018 Brownline174 Duraflex 14-Month Planner 8 1/2 X 11 Black</th>\n",
       "      <td>NaN</td>\n",
       "      <td>NaN</td>\n",
       "      <td>NaN</td>\n",
       "      <td>NaN</td>\n",
       "      <td>NaN</td>\n",
       "      <td>NaN</td>\n",
       "      <td>NaN</td>\n",
       "      <td>NaN</td>\n",
       "      <td>NaN</td>\n",
       "      <td>NaN</td>\n",
       "      <td>...</td>\n",
       "      <td>NaN</td>\n",
       "      <td>NaN</td>\n",
       "      <td>NaN</td>\n",
       "      <td>NaN</td>\n",
       "      <td>NaN</td>\n",
       "      <td>NaN</td>\n",
       "      <td>NaN</td>\n",
       "      <td>NaN</td>\n",
       "      <td>NaN</td>\n",
       "      <td>NaN</td>\n",
       "    </tr>\n",
       "    <tr>\n",
       "      <th>2x Ultra Era with Oxi Booster, 50fl oz</th>\n",
       "      <td>NaN</td>\n",
       "      <td>NaN</td>\n",
       "      <td>NaN</td>\n",
       "      <td>NaN</td>\n",
       "      <td>NaN</td>\n",
       "      <td>NaN</td>\n",
       "      <td>NaN</td>\n",
       "      <td>NaN</td>\n",
       "      <td>NaN</td>\n",
       "      <td>NaN</td>\n",
       "      <td>...</td>\n",
       "      <td>NaN</td>\n",
       "      <td>NaN</td>\n",
       "      <td>NaN</td>\n",
       "      <td>NaN</td>\n",
       "      <td>NaN</td>\n",
       "      <td>NaN</td>\n",
       "      <td>NaN</td>\n",
       "      <td>NaN</td>\n",
       "      <td>NaN</td>\n",
       "      <td>NaN</td>\n",
       "    </tr>\n",
       "    <tr>\n",
       "      <th>42 Dual Drop Leaf Table with 2 Madrid Chairs\"</th>\n",
       "      <td>NaN</td>\n",
       "      <td>NaN</td>\n",
       "      <td>NaN</td>\n",
       "      <td>NaN</td>\n",
       "      <td>NaN</td>\n",
       "      <td>NaN</td>\n",
       "      <td>NaN</td>\n",
       "      <td>NaN</td>\n",
       "      <td>NaN</td>\n",
       "      <td>NaN</td>\n",
       "      <td>...</td>\n",
       "      <td>NaN</td>\n",
       "      <td>NaN</td>\n",
       "      <td>NaN</td>\n",
       "      <td>NaN</td>\n",
       "      <td>NaN</td>\n",
       "      <td>NaN</td>\n",
       "      <td>NaN</td>\n",
       "      <td>NaN</td>\n",
       "      <td>NaN</td>\n",
       "      <td>NaN</td>\n",
       "    </tr>\n",
       "  </tbody>\n",
       "</table>\n",
       "<p>5 rows × 17849 columns</p>\n",
       "</div>"
      ],
      "text/plain": [
       "reviews_username                                    00dog3  00sab00  01impala  \\\n",
       "name                                                                            \n",
       "0.6 Cu. Ft. Letter A4 Size Waterproof 30 Min. F...     NaN      NaN       NaN   \n",
       "100:Complete First Season (blu-Ray)                    NaN      NaN       NaN   \n",
       "2017-2018 Brownline174 Duraflex 14-Month Planne...     NaN      NaN       NaN   \n",
       "2x Ultra Era with Oxi Booster, 50fl oz                 NaN      NaN       NaN   \n",
       "42 Dual Drop Leaf Table with 2 Madrid Chairs\"          NaN      NaN       NaN   \n",
       "\n",
       "reviews_username                                    02deuce  0325home  \\\n",
       "name                                                                    \n",
       "0.6 Cu. Ft. Letter A4 Size Waterproof 30 Min. F...      NaN       NaN   \n",
       "100:Complete First Season (blu-Ray)                     NaN       NaN   \n",
       "2017-2018 Brownline174 Duraflex 14-Month Planne...      NaN       NaN   \n",
       "2x Ultra Era with Oxi Booster, 50fl oz                  NaN       NaN   \n",
       "42 Dual Drop Leaf Table with 2 Madrid Chairs\"           NaN       NaN   \n",
       "\n",
       "reviews_username                                    06stidriver  09mommy11  \\\n",
       "name                                                                         \n",
       "0.6 Cu. Ft. Letter A4 Size Waterproof 30 Min. F...          NaN        NaN   \n",
       "100:Complete First Season (blu-Ray)                         NaN        NaN   \n",
       "2017-2018 Brownline174 Duraflex 14-Month Planne...          NaN        NaN   \n",
       "2x Ultra Era with Oxi Booster, 50fl oz                      NaN        NaN   \n",
       "42 Dual Drop Leaf Table with 2 Madrid Chairs\"               NaN        NaN   \n",
       "\n",
       "reviews_username                                    1.11E+24  1085  10ten  \\\n",
       "name                                                                        \n",
       "0.6 Cu. Ft. Letter A4 Size Waterproof 30 Min. F...       NaN   NaN    NaN   \n",
       "100:Complete First Season (blu-Ray)                      NaN   NaN    NaN   \n",
       "2017-2018 Brownline174 Duraflex 14-Month Planne...       NaN   NaN    NaN   \n",
       "2x Ultra Era with Oxi Booster, 50fl oz                   NaN   NaN    NaN   \n",
       "42 Dual Drop Leaf Table with 2 Madrid Chairs\"            NaN   NaN    NaN   \n",
       "\n",
       "reviews_username                                    ...  zt313  zubb  \\\n",
       "name                                                ...                \n",
       "0.6 Cu. Ft. Letter A4 Size Waterproof 30 Min. F...  ...    NaN   NaN   \n",
       "100:Complete First Season (blu-Ray)                 ...    NaN   NaN   \n",
       "2017-2018 Brownline174 Duraflex 14-Month Planne...  ...    NaN   NaN   \n",
       "2x Ultra Era with Oxi Booster, 50fl oz              ...    NaN   NaN   \n",
       "42 Dual Drop Leaf Table with 2 Madrid Chairs\"       ...    NaN   NaN   \n",
       "\n",
       "reviews_username                                    zulaa118  zuttle  \\\n",
       "name                                                                   \n",
       "0.6 Cu. Ft. Letter A4 Size Waterproof 30 Min. F...       NaN     NaN   \n",
       "100:Complete First Season (blu-Ray)                      NaN     NaN   \n",
       "2017-2018 Brownline174 Duraflex 14-Month Planne...       NaN     NaN   \n",
       "2x Ultra Era with Oxi Booster, 50fl oz                   NaN     NaN   \n",
       "42 Dual Drop Leaf Table with 2 Madrid Chairs\"            NaN     NaN   \n",
       "\n",
       "reviews_username                                    zwithanx  zxcsdfd  zxjki  \\\n",
       "name                                                                           \n",
       "0.6 Cu. Ft. Letter A4 Size Waterproof 30 Min. F...       NaN      NaN    NaN   \n",
       "100:Complete First Season (blu-Ray)                      NaN      NaN    NaN   \n",
       "2017-2018 Brownline174 Duraflex 14-Month Planne...       NaN      NaN    NaN   \n",
       "2x Ultra Era with Oxi Booster, 50fl oz                   NaN      NaN    NaN   \n",
       "42 Dual Drop Leaf Table with 2 Madrid Chairs\"            NaN      NaN    NaN   \n",
       "\n",
       "reviews_username                                    zyiah4  zzdiane  zzz1127  \n",
       "name                                                                          \n",
       "0.6 Cu. Ft. Letter A4 Size Waterproof 30 Min. F...     NaN      NaN      NaN  \n",
       "100:Complete First Season (blu-Ray)                    NaN      NaN      NaN  \n",
       "2017-2018 Brownline174 Duraflex 14-Month Planne...     NaN      NaN      NaN  \n",
       "2x Ultra Era with Oxi Booster, 50fl oz                 NaN      NaN      NaN  \n",
       "42 Dual Drop Leaf Table with 2 Madrid Chairs\"          NaN      NaN      NaN  \n",
       "\n",
       "[5 rows x 17849 columns]"
      ]
     },
     "execution_count": 103,
     "metadata": {},
     "output_type": "execute_result"
    }
   ],
   "source": [
    "df_subtracted.head()"
   ]
  },
  {
   "cell_type": "code",
   "execution_count": 104,
   "metadata": {
    "colab": {
     "base_uri": "https://localhost:8080/"
    },
    "id": "N0QlC704GHyv",
    "outputId": "64aba4a0-7b6d-417a-d0c0-ecd36fc8b91f"
   },
   "outputs": [
    {
     "name": "stdout",
     "output_type": "stream",
     "text": [
      "[[1. 0. 0. ... 0. 0. 0.]\n",
      " [0. 1. 0. ... 0. 0. 0.]\n",
      " [0. 0. 0. ... 0. 0. 0.]\n",
      " ...\n",
      " [0. 0. 0. ... 1. 0. 0.]\n",
      " [0. 0. 0. ... 0. 1. 0.]\n",
      " [0. 0. 0. ... 0. 0. 1.]]\n"
     ]
    }
   ],
   "source": [
    "# calculating item correlation using adjusted cosine\n",
    "item_correlation = 1 - pairwise_distances(df_subtracted.fillna(0), metric='cosine')\n",
    "item_correlation[np.isnan(item_correlation)] = 0\n",
    "print(item_correlation)"
   ]
  },
  {
   "cell_type": "code",
   "execution_count": 105,
   "metadata": {
    "colab": {
     "base_uri": "https://localhost:8080/"
    },
    "id": "uadnxfRfGHyw",
    "outputId": "169efd2b-ad92-45dc-8356-fad64dcb0da2"
   },
   "outputs": [
    {
     "data": {
      "text/plain": [
       "array([[1., 0., 0., ..., 0., 0., 0.],\n",
       "       [0., 1., 0., ..., 0., 0., 0.],\n",
       "       [0., 0., 0., ..., 0., 0., 0.],\n",
       "       ...,\n",
       "       [0., 0., 0., ..., 1., 0., 0.],\n",
       "       [0., 0., 0., ..., 0., 1., 0.],\n",
       "       [0., 0., 0., ..., 0., 0., 1.]])"
      ]
     },
     "execution_count": 105,
     "metadata": {},
     "output_type": "execute_result"
    }
   ],
   "source": [
    "# replacing the negative correlation values by 0\n",
    "item_correlation[item_correlation<0]=0\n",
    "item_correlation"
   ]
  },
  {
   "cell_type": "code",
   "execution_count": 106,
   "metadata": {
    "colab": {
     "base_uri": "https://localhost:8080/"
    },
    "id": "LE-ZIdcYGHyw",
    "outputId": "8420dd1a-1a50-4dab-c7a1-99671d542eef"
   },
   "outputs": [
    {
     "data": {
      "text/plain": [
       "array([[0.        , 0.        , 0.        , ..., 0.        , 0.        ,\n",
       "        0.        ],\n",
       "       [0.        , 0.        , 0.        , ..., 0.01144148, 0.00435427,\n",
       "        0.        ],\n",
       "       [0.        , 0.        , 0.        , ..., 0.        , 0.0040878 ,\n",
       "        0.        ],\n",
       "       ...,\n",
       "       [0.        , 0.        , 0.        , ..., 0.0019102 , 0.        ,\n",
       "        0.        ],\n",
       "       [0.        , 0.        , 0.        , ..., 0.01063105, 0.00725712,\n",
       "        0.        ],\n",
       "       [0.        , 0.        , 0.        , ..., 0.00152816, 0.        ,\n",
       "        0.        ]])"
      ]
     },
     "execution_count": 106,
     "metadata": {},
     "output_type": "execute_result"
    }
   ],
   "source": [
    "# predicting item ratings\n",
    "item_predicted_ratings = np.dot((df_pivot.fillna(0).T),item_correlation)\n",
    "item_predicted_ratings"
   ]
  },
  {
   "cell_type": "code",
   "execution_count": 107,
   "metadata": {
    "colab": {
     "base_uri": "https://localhost:8080/",
     "height": 442
    },
    "id": "UPLibw73GHyx",
    "outputId": "4c17861d-3a1d-4550-a4c7-92d7099b0cf4"
   },
   "outputs": [
    {
     "data": {
      "text/html": [
       "<div>\n",
       "<style scoped>\n",
       "    .dataframe tbody tr th:only-of-type {\n",
       "        vertical-align: middle;\n",
       "    }\n",
       "\n",
       "    .dataframe tbody tr th {\n",
       "        vertical-align: top;\n",
       "    }\n",
       "\n",
       "    .dataframe thead th {\n",
       "        text-align: right;\n",
       "    }\n",
       "</style>\n",
       "<table border=\"1\" class=\"dataframe\">\n",
       "  <thead>\n",
       "    <tr style=\"text-align: right;\">\n",
       "      <th>name</th>\n",
       "      <th>0.6 Cu. Ft. Letter A4 Size Waterproof 30 Min. Fire File Chest</th>\n",
       "      <th>100:Complete First Season (blu-Ray)</th>\n",
       "      <th>2017-2018 Brownline174 Duraflex 14-Month Planner 8 1/2 X 11 Black</th>\n",
       "      <th>2x Ultra Era with Oxi Booster, 50fl oz</th>\n",
       "      <th>42 Dual Drop Leaf Table with 2 Madrid Chairs\"</th>\n",
       "      <th>4C Grated Parmesan Cheese 100% Natural 8oz Shaker</th>\n",
       "      <th>5302050 15/16 FCT/HOSE ADAPTOR</th>\n",
       "      <th>Africa's Best No-Lye Dual Conditioning Relaxer System Super</th>\n",
       "      <th>Alberto VO5 Salon Series Smooth Plus Sleek Shampoo</th>\n",
       "      <th>Alex Cross (dvdvideo)</th>\n",
       "      <th>...</th>\n",
       "      <th>Wagan Smartac 80watt Inverter With Usb</th>\n",
       "      <th>Walkers Stem Ginger Shortbread</th>\n",
       "      <th>Way Basics 3-Shelf Eco Narrow Bookcase Storage Shelf, Espresso - Formaldehyde Free - Lifetime Guarantee</th>\n",
       "      <th>WeatherTech 40647 14-15 Outlander Cargo Liners Behind 2nd Row, Black</th>\n",
       "      <th>Wedding Wishes Wedding Guest Book</th>\n",
       "      <th>Weleda Everon Lip Balm</th>\n",
       "      <th>Wilton Black Dots Standard Baking Cups</th>\n",
       "      <th>Windex Original Glass Cleaner Refill 67.6oz (2 Liter)</th>\n",
       "      <th>Yes To Carrots Nourishing Body Wash</th>\n",
       "      <th>Yes To Grapefruit Rejuvenating Body Wash</th>\n",
       "    </tr>\n",
       "    <tr>\n",
       "      <th>reviews_username</th>\n",
       "      <th></th>\n",
       "      <th></th>\n",
       "      <th></th>\n",
       "      <th></th>\n",
       "      <th></th>\n",
       "      <th></th>\n",
       "      <th></th>\n",
       "      <th></th>\n",
       "      <th></th>\n",
       "      <th></th>\n",
       "      <th></th>\n",
       "      <th></th>\n",
       "      <th></th>\n",
       "      <th></th>\n",
       "      <th></th>\n",
       "      <th></th>\n",
       "      <th></th>\n",
       "      <th></th>\n",
       "      <th></th>\n",
       "      <th></th>\n",
       "      <th></th>\n",
       "    </tr>\n",
       "  </thead>\n",
       "  <tbody>\n",
       "    <tr>\n",
       "      <th>00dog3</th>\n",
       "      <td>0.0</td>\n",
       "      <td>0.0</td>\n",
       "      <td>0.0</td>\n",
       "      <td>0.0</td>\n",
       "      <td>0.0</td>\n",
       "      <td>0.0</td>\n",
       "      <td>0.0</td>\n",
       "      <td>0.0</td>\n",
       "      <td>0.0</td>\n",
       "      <td>0.000000</td>\n",
       "      <td>...</td>\n",
       "      <td>0.000000</td>\n",
       "      <td>0.0</td>\n",
       "      <td>0.0</td>\n",
       "      <td>0.0</td>\n",
       "      <td>0.0</td>\n",
       "      <td>0.0</td>\n",
       "      <td>0.0</td>\n",
       "      <td>0.000000</td>\n",
       "      <td>0.000000</td>\n",
       "      <td>0.0</td>\n",
       "    </tr>\n",
       "    <tr>\n",
       "      <th>00sab00</th>\n",
       "      <td>0.0</td>\n",
       "      <td>0.0</td>\n",
       "      <td>0.0</td>\n",
       "      <td>0.0</td>\n",
       "      <td>0.0</td>\n",
       "      <td>0.0</td>\n",
       "      <td>0.0</td>\n",
       "      <td>0.0</td>\n",
       "      <td>0.0</td>\n",
       "      <td>0.000666</td>\n",
       "      <td>...</td>\n",
       "      <td>0.046752</td>\n",
       "      <td>0.0</td>\n",
       "      <td>0.0</td>\n",
       "      <td>0.0</td>\n",
       "      <td>0.0</td>\n",
       "      <td>0.0</td>\n",
       "      <td>0.0</td>\n",
       "      <td>0.011441</td>\n",
       "      <td>0.004354</td>\n",
       "      <td>0.0</td>\n",
       "    </tr>\n",
       "    <tr>\n",
       "      <th>01impala</th>\n",
       "      <td>0.0</td>\n",
       "      <td>0.0</td>\n",
       "      <td>0.0</td>\n",
       "      <td>0.0</td>\n",
       "      <td>0.0</td>\n",
       "      <td>0.0</td>\n",
       "      <td>0.0</td>\n",
       "      <td>0.0</td>\n",
       "      <td>0.0</td>\n",
       "      <td>0.000072</td>\n",
       "      <td>...</td>\n",
       "      <td>0.011394</td>\n",
       "      <td>0.0</td>\n",
       "      <td>0.0</td>\n",
       "      <td>0.0</td>\n",
       "      <td>0.0</td>\n",
       "      <td>0.0</td>\n",
       "      <td>0.0</td>\n",
       "      <td>0.000000</td>\n",
       "      <td>0.004088</td>\n",
       "      <td>0.0</td>\n",
       "    </tr>\n",
       "    <tr>\n",
       "      <th>02deuce</th>\n",
       "      <td>0.0</td>\n",
       "      <td>0.0</td>\n",
       "      <td>0.0</td>\n",
       "      <td>0.0</td>\n",
       "      <td>0.0</td>\n",
       "      <td>0.0</td>\n",
       "      <td>0.0</td>\n",
       "      <td>0.0</td>\n",
       "      <td>0.0</td>\n",
       "      <td>0.000096</td>\n",
       "      <td>...</td>\n",
       "      <td>0.015192</td>\n",
       "      <td>0.0</td>\n",
       "      <td>0.0</td>\n",
       "      <td>0.0</td>\n",
       "      <td>0.0</td>\n",
       "      <td>0.0</td>\n",
       "      <td>0.0</td>\n",
       "      <td>0.000000</td>\n",
       "      <td>0.005450</td>\n",
       "      <td>0.0</td>\n",
       "    </tr>\n",
       "    <tr>\n",
       "      <th>0325home</th>\n",
       "      <td>0.0</td>\n",
       "      <td>0.0</td>\n",
       "      <td>0.0</td>\n",
       "      <td>0.0</td>\n",
       "      <td>0.0</td>\n",
       "      <td>0.0</td>\n",
       "      <td>0.0</td>\n",
       "      <td>0.0</td>\n",
       "      <td>0.0</td>\n",
       "      <td>0.000000</td>\n",
       "      <td>...</td>\n",
       "      <td>0.000000</td>\n",
       "      <td>0.0</td>\n",
       "      <td>0.0</td>\n",
       "      <td>0.0</td>\n",
       "      <td>0.0</td>\n",
       "      <td>0.0</td>\n",
       "      <td>0.0</td>\n",
       "      <td>0.001910</td>\n",
       "      <td>0.000000</td>\n",
       "      <td>0.0</td>\n",
       "    </tr>\n",
       "  </tbody>\n",
       "</table>\n",
       "<p>5 rows × 252 columns</p>\n",
       "</div>"
      ],
      "text/plain": [
       "name              0.6 Cu. Ft. Letter A4 Size Waterproof 30 Min. Fire File Chest  \\\n",
       "reviews_username                                                                  \n",
       "00dog3                                                          0.0               \n",
       "00sab00                                                         0.0               \n",
       "01impala                                                        0.0               \n",
       "02deuce                                                         0.0               \n",
       "0325home                                                        0.0               \n",
       "\n",
       "name              100:Complete First Season (blu-Ray)  \\\n",
       "reviews_username                                        \n",
       "00dog3                                            0.0   \n",
       "00sab00                                           0.0   \n",
       "01impala                                          0.0   \n",
       "02deuce                                           0.0   \n",
       "0325home                                          0.0   \n",
       "\n",
       "name              2017-2018 Brownline174 Duraflex 14-Month Planner 8 1/2 X 11 Black  \\\n",
       "reviews_username                                                                      \n",
       "00dog3                                                          0.0                   \n",
       "00sab00                                                         0.0                   \n",
       "01impala                                                        0.0                   \n",
       "02deuce                                                         0.0                   \n",
       "0325home                                                        0.0                   \n",
       "\n",
       "name              2x Ultra Era with Oxi Booster, 50fl oz  \\\n",
       "reviews_username                                           \n",
       "00dog3                                               0.0   \n",
       "00sab00                                              0.0   \n",
       "01impala                                             0.0   \n",
       "02deuce                                              0.0   \n",
       "0325home                                             0.0   \n",
       "\n",
       "name              42 Dual Drop Leaf Table with 2 Madrid Chairs\"  \\\n",
       "reviews_username                                                  \n",
       "00dog3                                                      0.0   \n",
       "00sab00                                                     0.0   \n",
       "01impala                                                    0.0   \n",
       "02deuce                                                     0.0   \n",
       "0325home                                                    0.0   \n",
       "\n",
       "name              4C Grated Parmesan Cheese 100% Natural 8oz Shaker  \\\n",
       "reviews_username                                                      \n",
       "00dog3                                                          0.0   \n",
       "00sab00                                                         0.0   \n",
       "01impala                                                        0.0   \n",
       "02deuce                                                         0.0   \n",
       "0325home                                                        0.0   \n",
       "\n",
       "name              5302050 15/16 FCT/HOSE ADAPTOR  \\\n",
       "reviews_username                                   \n",
       "00dog3                                       0.0   \n",
       "00sab00                                      0.0   \n",
       "01impala                                     0.0   \n",
       "02deuce                                      0.0   \n",
       "0325home                                     0.0   \n",
       "\n",
       "name              Africa's Best No-Lye Dual Conditioning Relaxer System Super  \\\n",
       "reviews_username                                                                \n",
       "00dog3                                                          0.0             \n",
       "00sab00                                                         0.0             \n",
       "01impala                                                        0.0             \n",
       "02deuce                                                         0.0             \n",
       "0325home                                                        0.0             \n",
       "\n",
       "name              Alberto VO5 Salon Series Smooth Plus Sleek Shampoo  \\\n",
       "reviews_username                                                       \n",
       "00dog3                                                          0.0    \n",
       "00sab00                                                         0.0    \n",
       "01impala                                                        0.0    \n",
       "02deuce                                                         0.0    \n",
       "0325home                                                        0.0    \n",
       "\n",
       "name              Alex Cross (dvdvideo)  ...  \\\n",
       "reviews_username                         ...   \n",
       "00dog3                         0.000000  ...   \n",
       "00sab00                        0.000666  ...   \n",
       "01impala                       0.000072  ...   \n",
       "02deuce                        0.000096  ...   \n",
       "0325home                       0.000000  ...   \n",
       "\n",
       "name              Wagan Smartac 80watt Inverter With Usb  \\\n",
       "reviews_username                                           \n",
       "00dog3                                          0.000000   \n",
       "00sab00                                         0.046752   \n",
       "01impala                                        0.011394   \n",
       "02deuce                                         0.015192   \n",
       "0325home                                        0.000000   \n",
       "\n",
       "name              Walkers Stem Ginger Shortbread  \\\n",
       "reviews_username                                   \n",
       "00dog3                                       0.0   \n",
       "00sab00                                      0.0   \n",
       "01impala                                     0.0   \n",
       "02deuce                                      0.0   \n",
       "0325home                                     0.0   \n",
       "\n",
       "name              Way Basics 3-Shelf Eco Narrow Bookcase Storage Shelf, Espresso - Formaldehyde Free - Lifetime Guarantee  \\\n",
       "reviews_username                                                                                                            \n",
       "00dog3                                                          0.0                                                         \n",
       "00sab00                                                         0.0                                                         \n",
       "01impala                                                        0.0                                                         \n",
       "02deuce                                                         0.0                                                         \n",
       "0325home                                                        0.0                                                         \n",
       "\n",
       "name              WeatherTech 40647 14-15 Outlander Cargo Liners Behind 2nd Row, Black  \\\n",
       "reviews_username                                                                         \n",
       "00dog3                                                          0.0                      \n",
       "00sab00                                                         0.0                      \n",
       "01impala                                                        0.0                      \n",
       "02deuce                                                         0.0                      \n",
       "0325home                                                        0.0                      \n",
       "\n",
       "name              Wedding Wishes Wedding Guest Book  Weleda Everon Lip Balm  \\\n",
       "reviews_username                                                              \n",
       "00dog3                                          0.0                     0.0   \n",
       "00sab00                                         0.0                     0.0   \n",
       "01impala                                        0.0                     0.0   \n",
       "02deuce                                         0.0                     0.0   \n",
       "0325home                                        0.0                     0.0   \n",
       "\n",
       "name              Wilton Black Dots Standard Baking Cups  \\\n",
       "reviews_username                                           \n",
       "00dog3                                               0.0   \n",
       "00sab00                                              0.0   \n",
       "01impala                                             0.0   \n",
       "02deuce                                              0.0   \n",
       "0325home                                             0.0   \n",
       "\n",
       "name              Windex Original Glass Cleaner Refill 67.6oz (2 Liter)  \\\n",
       "reviews_username                                                          \n",
       "00dog3                                                     0.000000       \n",
       "00sab00                                                    0.011441       \n",
       "01impala                                                   0.000000       \n",
       "02deuce                                                    0.000000       \n",
       "0325home                                                   0.001910       \n",
       "\n",
       "name              Yes To Carrots Nourishing Body Wash  \\\n",
       "reviews_username                                        \n",
       "00dog3                                       0.000000   \n",
       "00sab00                                      0.004354   \n",
       "01impala                                     0.004088   \n",
       "02deuce                                      0.005450   \n",
       "0325home                                     0.000000   \n",
       "\n",
       "name              Yes To Grapefruit Rejuvenating Body Wash  \n",
       "reviews_username                                            \n",
       "00dog3                                                 0.0  \n",
       "00sab00                                                0.0  \n",
       "01impala                                               0.0  \n",
       "02deuce                                                0.0  \n",
       "0325home                                               0.0  \n",
       "\n",
       "[5 rows x 252 columns]"
      ]
     },
     "execution_count": 107,
     "metadata": {},
     "output_type": "execute_result"
    }
   ],
   "source": [
    "# getting the final item predicted ratings \n",
    "item_final_rating = np.multiply(item_predicted_ratings,dummy_train)\n",
    "item_final_rating.head()"
   ]
  },
  {
   "cell_type": "code",
   "execution_count": 108,
   "metadata": {
    "colab": {
     "base_uri": "https://localhost:8080/"
    },
    "id": "l110TkxPGHyy",
    "outputId": "4174ada9-3124-4c7c-88d0-5148f993859d"
   },
   "outputs": [
    {
     "name": "stdout",
     "output_type": "stream",
     "text": [
      "Enter your username: rebecca\n"
     ]
    }
   ],
   "source": [
    "# taking the username as input\n",
    "user_input = input(\"Enter your username: \")"
   ]
  },
  {
   "cell_type": "code",
   "execution_count": 109,
   "metadata": {
    "colab": {
     "base_uri": "https://localhost:8080/"
    },
    "id": "tY71x9lQGHyy",
    "outputId": "ce0de6ee-e9bb-4682-9d4f-a5f2e50bb45a"
   },
   "outputs": [
    {
     "data": {
      "text/plain": [
       "name\n",
       "Clorox Disinfecting Bathroom Cleaner                            0.845140\n",
       "Boraam Sonoma Kitchen Cart With Wire Brush Gray - Maaya Home    0.421607\n",
       "Windex Original Glass Cleaner Refill 67.6oz (2 Liter)           0.230212\n",
       "Stacy's Simply Naked Bagel Chips                                0.221337\n",
       "Just For Men Touch Of Gray Gray Hair Treatment, Black T-55      0.215650\n",
       "Name: rebecca, dtype: float64"
      ]
     },
     "execution_count": 109,
     "metadata": {},
     "output_type": "execute_result"
    }
   ],
   "source": [
    "# recommending top 5 products to the user \n",
    "item_final_rating.loc[user_input].sort_values(ascending=False)[0:5]"
   ]
  },
  {
   "cell_type": "markdown",
   "metadata": {
    "id": "CNrEfX-3GHyz"
   },
   "source": [
    "### Evaluation of Item-Item Recommender Model"
   ]
  },
  {
   "cell_type": "code",
   "execution_count": 110,
   "metadata": {
    "colab": {
     "base_uri": "https://localhost:8080/"
    },
    "id": "HCcC-InXGHyz",
    "outputId": "fe8a0c53-8d14-48ea-88b8-6217278bde21"
   },
   "outputs": [
    {
     "data": {
      "text/plain": [
       "(8255, 3)"
      ]
     },
     "execution_count": 110,
     "metadata": {},
     "output_type": "execute_result"
    }
   ],
   "source": [
    "# finding out the products common to test and train dataset\n",
    "common =  test[test.name.isin(train.name)]\n",
    "common.shape"
   ]
  },
  {
   "cell_type": "code",
   "execution_count": 111,
   "metadata": {
    "colab": {
     "base_uri": "https://localhost:8080/",
     "height": 195
    },
    "id": "MetmA2A3GHy0",
    "outputId": "0aec0efa-f5d4-4dc0-b46c-abd167160c9b"
   },
   "outputs": [
    {
     "data": {
      "text/html": [
       "<div>\n",
       "<style scoped>\n",
       "    .dataframe tbody tr th:only-of-type {\n",
       "        vertical-align: middle;\n",
       "    }\n",
       "\n",
       "    .dataframe tbody tr th {\n",
       "        vertical-align: top;\n",
       "    }\n",
       "\n",
       "    .dataframe thead th {\n",
       "        text-align: right;\n",
       "    }\n",
       "</style>\n",
       "<table border=\"1\" class=\"dataframe\">\n",
       "  <thead>\n",
       "    <tr style=\"text-align: right;\">\n",
       "      <th></th>\n",
       "      <th>reviews_username</th>\n",
       "      <th>name</th>\n",
       "      <th>reviews_rating</th>\n",
       "    </tr>\n",
       "  </thead>\n",
       "  <tbody>\n",
       "    <tr>\n",
       "      <th>20430</th>\n",
       "      <td>peanut</td>\n",
       "      <td>My Big Fat Greek Wedding 2 (blu-Ray + Dvd + Di...</td>\n",
       "      <td>4.0</td>\n",
       "    </tr>\n",
       "    <tr>\n",
       "      <th>27262</th>\n",
       "      <td>wyoshopgril</td>\n",
       "      <td>Storkcraft Tuscany Glider and Ottoman, Beige C...</td>\n",
       "      <td>5.0</td>\n",
       "    </tr>\n",
       "    <tr>\n",
       "      <th>18519</th>\n",
       "      <td>mouse</td>\n",
       "      <td>My Big Fat Greek Wedding 2 (blu-Ray + Dvd + Di...</td>\n",
       "      <td>5.0</td>\n",
       "    </tr>\n",
       "    <tr>\n",
       "      <th>22266</th>\n",
       "      <td>ryan21121</td>\n",
       "      <td>Red (special Edition) (dvdvideo)</td>\n",
       "      <td>5.0</td>\n",
       "    </tr>\n",
       "    <tr>\n",
       "      <th>6927</th>\n",
       "      <td>deb in hr</td>\n",
       "      <td>Pendaflex174 Divide It Up File Folder, Multi S...</td>\n",
       "      <td>5.0</td>\n",
       "    </tr>\n",
       "  </tbody>\n",
       "</table>\n",
       "</div>"
      ],
      "text/plain": [
       "      reviews_username                                               name  \\\n",
       "20430           peanut  My Big Fat Greek Wedding 2 (blu-Ray + Dvd + Di...   \n",
       "27262      wyoshopgril  Storkcraft Tuscany Glider and Ottoman, Beige C...   \n",
       "18519            mouse  My Big Fat Greek Wedding 2 (blu-Ray + Dvd + Di...   \n",
       "22266        ryan21121                   Red (special Edition) (dvdvideo)   \n",
       "6927         deb in hr  Pendaflex174 Divide It Up File Folder, Multi S...   \n",
       "\n",
       "       reviews_rating  \n",
       "20430             4.0  \n",
       "27262             5.0  \n",
       "18519             5.0  \n",
       "22266             5.0  \n",
       "6927              5.0  "
      ]
     },
     "execution_count": 111,
     "metadata": {},
     "output_type": "execute_result"
    }
   ],
   "source": [
    "common.head()"
   ]
  },
  {
   "cell_type": "code",
   "execution_count": 112,
   "metadata": {
    "id": "7zhBPoUAGHy0"
   },
   "outputs": [],
   "source": [
    "# converting into the product-user matrix.\n",
    "common_item_based_matrix = common.pivot_table(index='reviews_username', columns='name', values='reviews_rating').T"
   ]
  },
  {
   "cell_type": "markdown",
   "metadata": {
    "id": "Gea8hujHGHy1"
   },
   "source": [
    "### converting the item_correlation matrix into dataframe and getting the correlations for items common to training and test set"
   ]
  },
  {
   "cell_type": "code",
   "execution_count": 113,
   "metadata": {
    "id": "sv2H8QgYGHy1"
   },
   "outputs": [],
   "source": [
    "item_correlation_df = pd.DataFrame(item_correlation)"
   ]
  },
  {
   "cell_type": "code",
   "execution_count": 114,
   "metadata": {
    "colab": {
     "base_uri": "https://localhost:8080/",
     "height": 559
    },
    "id": "m8ED_8AqGHy2",
    "outputId": "ef13bc2a-12ca-4861-f4be-fd3c0fb0052b"
   },
   "outputs": [
    {
     "data": {
      "text/html": [
       "<div>\n",
       "<style scoped>\n",
       "    .dataframe tbody tr th:only-of-type {\n",
       "        vertical-align: middle;\n",
       "    }\n",
       "\n",
       "    .dataframe tbody tr th {\n",
       "        vertical-align: top;\n",
       "    }\n",
       "\n",
       "    .dataframe thead th {\n",
       "        text-align: right;\n",
       "    }\n",
       "</style>\n",
       "<table border=\"1\" class=\"dataframe\">\n",
       "  <thead>\n",
       "    <tr style=\"text-align: right;\">\n",
       "      <th></th>\n",
       "      <th>0</th>\n",
       "      <th>1</th>\n",
       "      <th>2</th>\n",
       "      <th>3</th>\n",
       "      <th>4</th>\n",
       "      <th>5</th>\n",
       "      <th>6</th>\n",
       "      <th>7</th>\n",
       "      <th>8</th>\n",
       "      <th>9</th>\n",
       "      <th>...</th>\n",
       "      <th>242</th>\n",
       "      <th>243</th>\n",
       "      <th>244</th>\n",
       "      <th>245</th>\n",
       "      <th>246</th>\n",
       "      <th>247</th>\n",
       "      <th>248</th>\n",
       "      <th>249</th>\n",
       "      <th>250</th>\n",
       "      <th>251</th>\n",
       "    </tr>\n",
       "    <tr>\n",
       "      <th>name</th>\n",
       "      <th></th>\n",
       "      <th></th>\n",
       "      <th></th>\n",
       "      <th></th>\n",
       "      <th></th>\n",
       "      <th></th>\n",
       "      <th></th>\n",
       "      <th></th>\n",
       "      <th></th>\n",
       "      <th></th>\n",
       "      <th></th>\n",
       "      <th></th>\n",
       "      <th></th>\n",
       "      <th></th>\n",
       "      <th></th>\n",
       "      <th></th>\n",
       "      <th></th>\n",
       "      <th></th>\n",
       "      <th></th>\n",
       "      <th></th>\n",
       "      <th></th>\n",
       "    </tr>\n",
       "  </thead>\n",
       "  <tbody>\n",
       "    <tr>\n",
       "      <th>0.6 Cu. Ft. Letter A4 Size Waterproof 30 Min. Fire File Chest</th>\n",
       "      <td>1.0</td>\n",
       "      <td>0.0</td>\n",
       "      <td>0.0</td>\n",
       "      <td>0.0</td>\n",
       "      <td>0.0</td>\n",
       "      <td>0.0</td>\n",
       "      <td>0.0</td>\n",
       "      <td>0.0</td>\n",
       "      <td>0.0</td>\n",
       "      <td>0.0</td>\n",
       "      <td>...</td>\n",
       "      <td>0.0</td>\n",
       "      <td>0.0</td>\n",
       "      <td>0.0</td>\n",
       "      <td>0.0</td>\n",
       "      <td>0.0</td>\n",
       "      <td>0.0</td>\n",
       "      <td>0.0</td>\n",
       "      <td>0.0</td>\n",
       "      <td>0.0</td>\n",
       "      <td>0.0</td>\n",
       "    </tr>\n",
       "    <tr>\n",
       "      <th>100:Complete First Season (blu-Ray)</th>\n",
       "      <td>0.0</td>\n",
       "      <td>1.0</td>\n",
       "      <td>0.0</td>\n",
       "      <td>0.0</td>\n",
       "      <td>0.0</td>\n",
       "      <td>0.0</td>\n",
       "      <td>0.0</td>\n",
       "      <td>0.0</td>\n",
       "      <td>0.0</td>\n",
       "      <td>0.0</td>\n",
       "      <td>...</td>\n",
       "      <td>0.0</td>\n",
       "      <td>0.0</td>\n",
       "      <td>0.0</td>\n",
       "      <td>0.0</td>\n",
       "      <td>0.0</td>\n",
       "      <td>0.0</td>\n",
       "      <td>0.0</td>\n",
       "      <td>0.0</td>\n",
       "      <td>0.0</td>\n",
       "      <td>0.0</td>\n",
       "    </tr>\n",
       "    <tr>\n",
       "      <th>2017-2018 Brownline174 Duraflex 14-Month Planner 8 1/2 X 11 Black</th>\n",
       "      <td>0.0</td>\n",
       "      <td>0.0</td>\n",
       "      <td>0.0</td>\n",
       "      <td>0.0</td>\n",
       "      <td>0.0</td>\n",
       "      <td>0.0</td>\n",
       "      <td>0.0</td>\n",
       "      <td>0.0</td>\n",
       "      <td>0.0</td>\n",
       "      <td>0.0</td>\n",
       "      <td>...</td>\n",
       "      <td>0.0</td>\n",
       "      <td>0.0</td>\n",
       "      <td>0.0</td>\n",
       "      <td>0.0</td>\n",
       "      <td>0.0</td>\n",
       "      <td>0.0</td>\n",
       "      <td>0.0</td>\n",
       "      <td>0.0</td>\n",
       "      <td>0.0</td>\n",
       "      <td>0.0</td>\n",
       "    </tr>\n",
       "    <tr>\n",
       "      <th>2x Ultra Era with Oxi Booster, 50fl oz</th>\n",
       "      <td>0.0</td>\n",
       "      <td>0.0</td>\n",
       "      <td>0.0</td>\n",
       "      <td>0.0</td>\n",
       "      <td>0.0</td>\n",
       "      <td>0.0</td>\n",
       "      <td>0.0</td>\n",
       "      <td>0.0</td>\n",
       "      <td>0.0</td>\n",
       "      <td>0.0</td>\n",
       "      <td>...</td>\n",
       "      <td>0.0</td>\n",
       "      <td>0.0</td>\n",
       "      <td>0.0</td>\n",
       "      <td>0.0</td>\n",
       "      <td>0.0</td>\n",
       "      <td>0.0</td>\n",
       "      <td>0.0</td>\n",
       "      <td>0.0</td>\n",
       "      <td>0.0</td>\n",
       "      <td>0.0</td>\n",
       "    </tr>\n",
       "    <tr>\n",
       "      <th>42 Dual Drop Leaf Table with 2 Madrid Chairs\"</th>\n",
       "      <td>0.0</td>\n",
       "      <td>0.0</td>\n",
       "      <td>0.0</td>\n",
       "      <td>0.0</td>\n",
       "      <td>0.0</td>\n",
       "      <td>0.0</td>\n",
       "      <td>0.0</td>\n",
       "      <td>0.0</td>\n",
       "      <td>0.0</td>\n",
       "      <td>0.0</td>\n",
       "      <td>...</td>\n",
       "      <td>0.0</td>\n",
       "      <td>0.0</td>\n",
       "      <td>0.0</td>\n",
       "      <td>0.0</td>\n",
       "      <td>0.0</td>\n",
       "      <td>0.0</td>\n",
       "      <td>0.0</td>\n",
       "      <td>0.0</td>\n",
       "      <td>0.0</td>\n",
       "      <td>0.0</td>\n",
       "    </tr>\n",
       "  </tbody>\n",
       "</table>\n",
       "<p>5 rows × 252 columns</p>\n",
       "</div>"
      ],
      "text/plain": [
       "                                                    0    1    2    3    4    \\\n",
       "name                                                                          \n",
       "0.6 Cu. Ft. Letter A4 Size Waterproof 30 Min. F...  1.0  0.0  0.0  0.0  0.0   \n",
       "100:Complete First Season (blu-Ray)                 0.0  1.0  0.0  0.0  0.0   \n",
       "2017-2018 Brownline174 Duraflex 14-Month Planne...  0.0  0.0  0.0  0.0  0.0   \n",
       "2x Ultra Era with Oxi Booster, 50fl oz              0.0  0.0  0.0  0.0  0.0   \n",
       "42 Dual Drop Leaf Table with 2 Madrid Chairs\"       0.0  0.0  0.0  0.0  0.0   \n",
       "\n",
       "                                                    5    6    7    8    9    \\\n",
       "name                                                                          \n",
       "0.6 Cu. Ft. Letter A4 Size Waterproof 30 Min. F...  0.0  0.0  0.0  0.0  0.0   \n",
       "100:Complete First Season (blu-Ray)                 0.0  0.0  0.0  0.0  0.0   \n",
       "2017-2018 Brownline174 Duraflex 14-Month Planne...  0.0  0.0  0.0  0.0  0.0   \n",
       "2x Ultra Era with Oxi Booster, 50fl oz              0.0  0.0  0.0  0.0  0.0   \n",
       "42 Dual Drop Leaf Table with 2 Madrid Chairs\"       0.0  0.0  0.0  0.0  0.0   \n",
       "\n",
       "                                                    ...  242  243  244  245  \\\n",
       "name                                                ...                       \n",
       "0.6 Cu. Ft. Letter A4 Size Waterproof 30 Min. F...  ...  0.0  0.0  0.0  0.0   \n",
       "100:Complete First Season (blu-Ray)                 ...  0.0  0.0  0.0  0.0   \n",
       "2017-2018 Brownline174 Duraflex 14-Month Planne...  ...  0.0  0.0  0.0  0.0   \n",
       "2x Ultra Era with Oxi Booster, 50fl oz              ...  0.0  0.0  0.0  0.0   \n",
       "42 Dual Drop Leaf Table with 2 Madrid Chairs\"       ...  0.0  0.0  0.0  0.0   \n",
       "\n",
       "                                                    246  247  248  249  250  \\\n",
       "name                                                                          \n",
       "0.6 Cu. Ft. Letter A4 Size Waterproof 30 Min. F...  0.0  0.0  0.0  0.0  0.0   \n",
       "100:Complete First Season (blu-Ray)                 0.0  0.0  0.0  0.0  0.0   \n",
       "2017-2018 Brownline174 Duraflex 14-Month Planne...  0.0  0.0  0.0  0.0  0.0   \n",
       "2x Ultra Era with Oxi Booster, 50fl oz              0.0  0.0  0.0  0.0  0.0   \n",
       "42 Dual Drop Leaf Table with 2 Madrid Chairs\"       0.0  0.0  0.0  0.0  0.0   \n",
       "\n",
       "                                                    251  \n",
       "name                                                     \n",
       "0.6 Cu. Ft. Letter A4 Size Waterproof 30 Min. F...  0.0  \n",
       "100:Complete First Season (blu-Ray)                 0.0  \n",
       "2017-2018 Brownline174 Duraflex 14-Month Planne...  0.0  \n",
       "2x Ultra Era with Oxi Booster, 50fl oz              0.0  \n",
       "42 Dual Drop Leaf Table with 2 Madrid Chairs\"       0.0  \n",
       "\n",
       "[5 rows x 252 columns]"
      ]
     },
     "execution_count": 114,
     "metadata": {},
     "output_type": "execute_result"
    }
   ],
   "source": [
    "item_correlation_df['name'] = df_subtracted.index\n",
    "item_correlation_df.set_index('name',inplace=True)\n",
    "item_correlation_df.head()"
   ]
  },
  {
   "cell_type": "code",
   "execution_count": 115,
   "metadata": {
    "id": "JHxzRgQLGHy2"
   },
   "outputs": [],
   "source": [
    "list_name = common.name.tolist()"
   ]
  },
  {
   "cell_type": "code",
   "execution_count": 116,
   "metadata": {
    "id": "HWP18eWzGHy3"
   },
   "outputs": [],
   "source": [
    "item_correlation_df.columns = df_subtracted.index.tolist()\n",
    "\n",
    "item_correlation_df_1 =  item_correlation_df[item_correlation_df.index.isin(list_name)]"
   ]
  },
  {
   "cell_type": "code",
   "execution_count": 117,
   "metadata": {
    "id": "aAmQFpAZGHy3"
   },
   "outputs": [],
   "source": [
    "item_correlation_df_2 = item_correlation_df_1.T[item_correlation_df_1.T.index.isin(list_name)]\n",
    "\n",
    "item_correlation_df_3 = item_correlation_df_2.T"
   ]
  },
  {
   "cell_type": "code",
   "execution_count": 118,
   "metadata": {
    "colab": {
     "base_uri": "https://localhost:8080/",
     "height": 761
    },
    "id": "DUuEtopqGHy4",
    "outputId": "b403d0c5-3984-4517-9ba9-cc2432266bc5"
   },
   "outputs": [
    {
     "data": {
      "text/html": [
       "<div>\n",
       "<style scoped>\n",
       "    .dataframe tbody tr th:only-of-type {\n",
       "        vertical-align: middle;\n",
       "    }\n",
       "\n",
       "    .dataframe tbody tr th {\n",
       "        vertical-align: top;\n",
       "    }\n",
       "\n",
       "    .dataframe thead th {\n",
       "        text-align: right;\n",
       "    }\n",
       "</style>\n",
       "<table border=\"1\" class=\"dataframe\">\n",
       "  <thead>\n",
       "    <tr style=\"text-align: right;\">\n",
       "      <th></th>\n",
       "      <th>100:Complete First Season (blu-Ray)</th>\n",
       "      <th>2017-2018 Brownline174 Duraflex 14-Month Planner 8 1/2 X 11 Black</th>\n",
       "      <th>2x Ultra Era with Oxi Booster, 50fl oz</th>\n",
       "      <th>4C Grated Parmesan Cheese 100% Natural 8oz Shaker</th>\n",
       "      <th>Africa's Best No-Lye Dual Conditioning Relaxer System Super</th>\n",
       "      <th>Alberto VO5 Salon Series Smooth Plus Sleek Shampoo</th>\n",
       "      <th>Alex Cross (dvdvideo)</th>\n",
       "      <th>All,bran Complete Wheat Flakes, 18 Oz.</th>\n",
       "      <th>Ambi Complexion Cleansing Bar</th>\n",
       "      <th>Annie's Homegrown Gluten Free Double Chocolate Chip Granola Bars</th>\n",
       "      <th>...</th>\n",
       "      <th>Vaseline Intensive Care Healthy Hands Stronger Nails</th>\n",
       "      <th>Vaseline Intensive Care Lip Therapy Cocoa Butter</th>\n",
       "      <th>Vicks Vaporub, Regular, 3.53oz</th>\n",
       "      <th>Wagan Smartac 80watt Inverter With Usb</th>\n",
       "      <th>Way Basics 3-Shelf Eco Narrow Bookcase Storage Shelf, Espresso - Formaldehyde Free - Lifetime Guarantee</th>\n",
       "      <th>WeatherTech 40647 14-15 Outlander Cargo Liners Behind 2nd Row, Black</th>\n",
       "      <th>Weleda Everon Lip Balm</th>\n",
       "      <th>Windex Original Glass Cleaner Refill 67.6oz (2 Liter)</th>\n",
       "      <th>Yes To Carrots Nourishing Body Wash</th>\n",
       "      <th>Yes To Grapefruit Rejuvenating Body Wash</th>\n",
       "    </tr>\n",
       "    <tr>\n",
       "      <th>name</th>\n",
       "      <th></th>\n",
       "      <th></th>\n",
       "      <th></th>\n",
       "      <th></th>\n",
       "      <th></th>\n",
       "      <th></th>\n",
       "      <th></th>\n",
       "      <th></th>\n",
       "      <th></th>\n",
       "      <th></th>\n",
       "      <th></th>\n",
       "      <th></th>\n",
       "      <th></th>\n",
       "      <th></th>\n",
       "      <th></th>\n",
       "      <th></th>\n",
       "      <th></th>\n",
       "      <th></th>\n",
       "      <th></th>\n",
       "      <th></th>\n",
       "      <th></th>\n",
       "    </tr>\n",
       "  </thead>\n",
       "  <tbody>\n",
       "    <tr>\n",
       "      <th>100:Complete First Season (blu-Ray)</th>\n",
       "      <td>1.0</td>\n",
       "      <td>0.0</td>\n",
       "      <td>0.0</td>\n",
       "      <td>0.0</td>\n",
       "      <td>0.0</td>\n",
       "      <td>0.0</td>\n",
       "      <td>0.0</td>\n",
       "      <td>0.0</td>\n",
       "      <td>0.0</td>\n",
       "      <td>0.0</td>\n",
       "      <td>...</td>\n",
       "      <td>0.0</td>\n",
       "      <td>0.0</td>\n",
       "      <td>0.0</td>\n",
       "      <td>0.0</td>\n",
       "      <td>0.0</td>\n",
       "      <td>0.0</td>\n",
       "      <td>0.0</td>\n",
       "      <td>0.0</td>\n",
       "      <td>0.0</td>\n",
       "      <td>0.0</td>\n",
       "    </tr>\n",
       "    <tr>\n",
       "      <th>2017-2018 Brownline174 Duraflex 14-Month Planner 8 1/2 X 11 Black</th>\n",
       "      <td>0.0</td>\n",
       "      <td>0.0</td>\n",
       "      <td>0.0</td>\n",
       "      <td>0.0</td>\n",
       "      <td>0.0</td>\n",
       "      <td>0.0</td>\n",
       "      <td>0.0</td>\n",
       "      <td>0.0</td>\n",
       "      <td>0.0</td>\n",
       "      <td>0.0</td>\n",
       "      <td>...</td>\n",
       "      <td>0.0</td>\n",
       "      <td>0.0</td>\n",
       "      <td>0.0</td>\n",
       "      <td>0.0</td>\n",
       "      <td>0.0</td>\n",
       "      <td>0.0</td>\n",
       "      <td>0.0</td>\n",
       "      <td>0.0</td>\n",
       "      <td>0.0</td>\n",
       "      <td>0.0</td>\n",
       "    </tr>\n",
       "    <tr>\n",
       "      <th>2x Ultra Era with Oxi Booster, 50fl oz</th>\n",
       "      <td>0.0</td>\n",
       "      <td>0.0</td>\n",
       "      <td>0.0</td>\n",
       "      <td>0.0</td>\n",
       "      <td>0.0</td>\n",
       "      <td>0.0</td>\n",
       "      <td>0.0</td>\n",
       "      <td>0.0</td>\n",
       "      <td>0.0</td>\n",
       "      <td>0.0</td>\n",
       "      <td>...</td>\n",
       "      <td>0.0</td>\n",
       "      <td>0.0</td>\n",
       "      <td>0.0</td>\n",
       "      <td>0.0</td>\n",
       "      <td>0.0</td>\n",
       "      <td>0.0</td>\n",
       "      <td>0.0</td>\n",
       "      <td>0.0</td>\n",
       "      <td>0.0</td>\n",
       "      <td>0.0</td>\n",
       "    </tr>\n",
       "    <tr>\n",
       "      <th>4C Grated Parmesan Cheese 100% Natural 8oz Shaker</th>\n",
       "      <td>0.0</td>\n",
       "      <td>0.0</td>\n",
       "      <td>0.0</td>\n",
       "      <td>0.0</td>\n",
       "      <td>0.0</td>\n",
       "      <td>0.0</td>\n",
       "      <td>0.0</td>\n",
       "      <td>0.0</td>\n",
       "      <td>0.0</td>\n",
       "      <td>0.0</td>\n",
       "      <td>...</td>\n",
       "      <td>0.0</td>\n",
       "      <td>0.0</td>\n",
       "      <td>0.0</td>\n",
       "      <td>0.0</td>\n",
       "      <td>0.0</td>\n",
       "      <td>0.0</td>\n",
       "      <td>0.0</td>\n",
       "      <td>0.0</td>\n",
       "      <td>0.0</td>\n",
       "      <td>0.0</td>\n",
       "    </tr>\n",
       "    <tr>\n",
       "      <th>Africa's Best No-Lye Dual Conditioning Relaxer System Super</th>\n",
       "      <td>0.0</td>\n",
       "      <td>0.0</td>\n",
       "      <td>0.0</td>\n",
       "      <td>0.0</td>\n",
       "      <td>1.0</td>\n",
       "      <td>0.0</td>\n",
       "      <td>0.0</td>\n",
       "      <td>0.0</td>\n",
       "      <td>0.0</td>\n",
       "      <td>0.0</td>\n",
       "      <td>...</td>\n",
       "      <td>0.0</td>\n",
       "      <td>0.0</td>\n",
       "      <td>0.0</td>\n",
       "      <td>0.0</td>\n",
       "      <td>0.0</td>\n",
       "      <td>0.0</td>\n",
       "      <td>0.0</td>\n",
       "      <td>0.0</td>\n",
       "      <td>0.0</td>\n",
       "      <td>0.0</td>\n",
       "    </tr>\n",
       "  </tbody>\n",
       "</table>\n",
       "<p>5 rows × 202 columns</p>\n",
       "</div>"
      ],
      "text/plain": [
       "                                                    100:Complete First Season (blu-Ray)  \\\n",
       "name                                                                                      \n",
       "100:Complete First Season (blu-Ray)                                                 1.0   \n",
       "2017-2018 Brownline174 Duraflex 14-Month Planne...                                  0.0   \n",
       "2x Ultra Era with Oxi Booster, 50fl oz                                              0.0   \n",
       "4C Grated Parmesan Cheese 100% Natural 8oz Shaker                                   0.0   \n",
       "Africa's Best No-Lye Dual Conditioning Relaxer ...                                  0.0   \n",
       "\n",
       "                                                    2017-2018 Brownline174 Duraflex 14-Month Planner 8 1/2 X 11 Black  \\\n",
       "name                                                                                                                    \n",
       "100:Complete First Season (blu-Ray)                                                               0.0                   \n",
       "2017-2018 Brownline174 Duraflex 14-Month Planne...                                                0.0                   \n",
       "2x Ultra Era with Oxi Booster, 50fl oz                                                            0.0                   \n",
       "4C Grated Parmesan Cheese 100% Natural 8oz Shaker                                                 0.0                   \n",
       "Africa's Best No-Lye Dual Conditioning Relaxer ...                                                0.0                   \n",
       "\n",
       "                                                    2x Ultra Era with Oxi Booster, 50fl oz  \\\n",
       "name                                                                                         \n",
       "100:Complete First Season (blu-Ray)                                                    0.0   \n",
       "2017-2018 Brownline174 Duraflex 14-Month Planne...                                     0.0   \n",
       "2x Ultra Era with Oxi Booster, 50fl oz                                                 0.0   \n",
       "4C Grated Parmesan Cheese 100% Natural 8oz Shaker                                      0.0   \n",
       "Africa's Best No-Lye Dual Conditioning Relaxer ...                                     0.0   \n",
       "\n",
       "                                                    4C Grated Parmesan Cheese 100% Natural 8oz Shaker  \\\n",
       "name                                                                                                    \n",
       "100:Complete First Season (blu-Ray)                                                               0.0   \n",
       "2017-2018 Brownline174 Duraflex 14-Month Planne...                                                0.0   \n",
       "2x Ultra Era with Oxi Booster, 50fl oz                                                            0.0   \n",
       "4C Grated Parmesan Cheese 100% Natural 8oz Shaker                                                 0.0   \n",
       "Africa's Best No-Lye Dual Conditioning Relaxer ...                                                0.0   \n",
       "\n",
       "                                                    Africa's Best No-Lye Dual Conditioning Relaxer System Super  \\\n",
       "name                                                                                                              \n",
       "100:Complete First Season (blu-Ray)                                                               0.0             \n",
       "2017-2018 Brownline174 Duraflex 14-Month Planne...                                                0.0             \n",
       "2x Ultra Era with Oxi Booster, 50fl oz                                                            0.0             \n",
       "4C Grated Parmesan Cheese 100% Natural 8oz Shaker                                                 0.0             \n",
       "Africa's Best No-Lye Dual Conditioning Relaxer ...                                                1.0             \n",
       "\n",
       "                                                    Alberto VO5 Salon Series Smooth Plus Sleek Shampoo  \\\n",
       "name                                                                                                     \n",
       "100:Complete First Season (blu-Ray)                                                               0.0    \n",
       "2017-2018 Brownline174 Duraflex 14-Month Planne...                                                0.0    \n",
       "2x Ultra Era with Oxi Booster, 50fl oz                                                            0.0    \n",
       "4C Grated Parmesan Cheese 100% Natural 8oz Shaker                                                 0.0    \n",
       "Africa's Best No-Lye Dual Conditioning Relaxer ...                                                0.0    \n",
       "\n",
       "                                                    Alex Cross (dvdvideo)  \\\n",
       "name                                                                        \n",
       "100:Complete First Season (blu-Ray)                                   0.0   \n",
       "2017-2018 Brownline174 Duraflex 14-Month Planne...                    0.0   \n",
       "2x Ultra Era with Oxi Booster, 50fl oz                                0.0   \n",
       "4C Grated Parmesan Cheese 100% Natural 8oz Shaker                     0.0   \n",
       "Africa's Best No-Lye Dual Conditioning Relaxer ...                    0.0   \n",
       "\n",
       "                                                    All,bran Complete Wheat Flakes, 18 Oz.  \\\n",
       "name                                                                                         \n",
       "100:Complete First Season (blu-Ray)                                                    0.0   \n",
       "2017-2018 Brownline174 Duraflex 14-Month Planne...                                     0.0   \n",
       "2x Ultra Era with Oxi Booster, 50fl oz                                                 0.0   \n",
       "4C Grated Parmesan Cheese 100% Natural 8oz Shaker                                      0.0   \n",
       "Africa's Best No-Lye Dual Conditioning Relaxer ...                                     0.0   \n",
       "\n",
       "                                                    Ambi Complexion Cleansing Bar  \\\n",
       "name                                                                                \n",
       "100:Complete First Season (blu-Ray)                                           0.0   \n",
       "2017-2018 Brownline174 Duraflex 14-Month Planne...                            0.0   \n",
       "2x Ultra Era with Oxi Booster, 50fl oz                                        0.0   \n",
       "4C Grated Parmesan Cheese 100% Natural 8oz Shaker                             0.0   \n",
       "Africa's Best No-Lye Dual Conditioning Relaxer ...                            0.0   \n",
       "\n",
       "                                                    Annie's Homegrown Gluten Free Double Chocolate Chip Granola Bars  \\\n",
       "name                                                                                                                   \n",
       "100:Complete First Season (blu-Ray)                                                               0.0                  \n",
       "2017-2018 Brownline174 Duraflex 14-Month Planne...                                                0.0                  \n",
       "2x Ultra Era with Oxi Booster, 50fl oz                                                            0.0                  \n",
       "4C Grated Parmesan Cheese 100% Natural 8oz Shaker                                                 0.0                  \n",
       "Africa's Best No-Lye Dual Conditioning Relaxer ...                                                0.0                  \n",
       "\n",
       "                                                    ...  \\\n",
       "name                                                ...   \n",
       "100:Complete First Season (blu-Ray)                 ...   \n",
       "2017-2018 Brownline174 Duraflex 14-Month Planne...  ...   \n",
       "2x Ultra Era with Oxi Booster, 50fl oz              ...   \n",
       "4C Grated Parmesan Cheese 100% Natural 8oz Shaker   ...   \n",
       "Africa's Best No-Lye Dual Conditioning Relaxer ...  ...   \n",
       "\n",
       "                                                    Vaseline Intensive Care Healthy Hands Stronger Nails  \\\n",
       "name                                                                                                       \n",
       "100:Complete First Season (blu-Ray)                                                               0.0      \n",
       "2017-2018 Brownline174 Duraflex 14-Month Planne...                                                0.0      \n",
       "2x Ultra Era with Oxi Booster, 50fl oz                                                            0.0      \n",
       "4C Grated Parmesan Cheese 100% Natural 8oz Shaker                                                 0.0      \n",
       "Africa's Best No-Lye Dual Conditioning Relaxer ...                                                0.0      \n",
       "\n",
       "                                                    Vaseline Intensive Care Lip Therapy Cocoa Butter  \\\n",
       "name                                                                                                   \n",
       "100:Complete First Season (blu-Ray)                                                              0.0   \n",
       "2017-2018 Brownline174 Duraflex 14-Month Planne...                                               0.0   \n",
       "2x Ultra Era with Oxi Booster, 50fl oz                                                           0.0   \n",
       "4C Grated Parmesan Cheese 100% Natural 8oz Shaker                                                0.0   \n",
       "Africa's Best No-Lye Dual Conditioning Relaxer ...                                               0.0   \n",
       "\n",
       "                                                    Vicks Vaporub, Regular, 3.53oz  \\\n",
       "name                                                                                 \n",
       "100:Complete First Season (blu-Ray)                                            0.0   \n",
       "2017-2018 Brownline174 Duraflex 14-Month Planne...                             0.0   \n",
       "2x Ultra Era with Oxi Booster, 50fl oz                                         0.0   \n",
       "4C Grated Parmesan Cheese 100% Natural 8oz Shaker                              0.0   \n",
       "Africa's Best No-Lye Dual Conditioning Relaxer ...                             0.0   \n",
       "\n",
       "                                                    Wagan Smartac 80watt Inverter With Usb  \\\n",
       "name                                                                                         \n",
       "100:Complete First Season (blu-Ray)                                                    0.0   \n",
       "2017-2018 Brownline174 Duraflex 14-Month Planne...                                     0.0   \n",
       "2x Ultra Era with Oxi Booster, 50fl oz                                                 0.0   \n",
       "4C Grated Parmesan Cheese 100% Natural 8oz Shaker                                      0.0   \n",
       "Africa's Best No-Lye Dual Conditioning Relaxer ...                                     0.0   \n",
       "\n",
       "                                                    Way Basics 3-Shelf Eco Narrow Bookcase Storage Shelf, Espresso - Formaldehyde Free - Lifetime Guarantee  \\\n",
       "name                                                                                                                                                          \n",
       "100:Complete First Season (blu-Ray)                                                               0.0                                                         \n",
       "2017-2018 Brownline174 Duraflex 14-Month Planne...                                                0.0                                                         \n",
       "2x Ultra Era with Oxi Booster, 50fl oz                                                            0.0                                                         \n",
       "4C Grated Parmesan Cheese 100% Natural 8oz Shaker                                                 0.0                                                         \n",
       "Africa's Best No-Lye Dual Conditioning Relaxer ...                                                0.0                                                         \n",
       "\n",
       "                                                    WeatherTech 40647 14-15 Outlander Cargo Liners Behind 2nd Row, Black  \\\n",
       "name                                                                                                                       \n",
       "100:Complete First Season (blu-Ray)                                                               0.0                      \n",
       "2017-2018 Brownline174 Duraflex 14-Month Planne...                                                0.0                      \n",
       "2x Ultra Era with Oxi Booster, 50fl oz                                                            0.0                      \n",
       "4C Grated Parmesan Cheese 100% Natural 8oz Shaker                                                 0.0                      \n",
       "Africa's Best No-Lye Dual Conditioning Relaxer ...                                                0.0                      \n",
       "\n",
       "                                                    Weleda Everon Lip Balm  \\\n",
       "name                                                                         \n",
       "100:Complete First Season (blu-Ray)                                    0.0   \n",
       "2017-2018 Brownline174 Duraflex 14-Month Planne...                     0.0   \n",
       "2x Ultra Era with Oxi Booster, 50fl oz                                 0.0   \n",
       "4C Grated Parmesan Cheese 100% Natural 8oz Shaker                      0.0   \n",
       "Africa's Best No-Lye Dual Conditioning Relaxer ...                     0.0   \n",
       "\n",
       "                                                    Windex Original Glass Cleaner Refill 67.6oz (2 Liter)  \\\n",
       "name                                                                                                        \n",
       "100:Complete First Season (blu-Ray)                                                               0.0       \n",
       "2017-2018 Brownline174 Duraflex 14-Month Planne...                                                0.0       \n",
       "2x Ultra Era with Oxi Booster, 50fl oz                                                            0.0       \n",
       "4C Grated Parmesan Cheese 100% Natural 8oz Shaker                                                 0.0       \n",
       "Africa's Best No-Lye Dual Conditioning Relaxer ...                                                0.0       \n",
       "\n",
       "                                                    Yes To Carrots Nourishing Body Wash  \\\n",
       "name                                                                                      \n",
       "100:Complete First Season (blu-Ray)                                                 0.0   \n",
       "2017-2018 Brownline174 Duraflex 14-Month Planne...                                  0.0   \n",
       "2x Ultra Era with Oxi Booster, 50fl oz                                              0.0   \n",
       "4C Grated Parmesan Cheese 100% Natural 8oz Shaker                                   0.0   \n",
       "Africa's Best No-Lye Dual Conditioning Relaxer ...                                  0.0   \n",
       "\n",
       "                                                    Yes To Grapefruit Rejuvenating Body Wash  \n",
       "name                                                                                          \n",
       "100:Complete First Season (blu-Ray)                                                      0.0  \n",
       "2017-2018 Brownline174 Duraflex 14-Month Planne...                                       0.0  \n",
       "2x Ultra Era with Oxi Booster, 50fl oz                                                   0.0  \n",
       "4C Grated Parmesan Cheese 100% Natural 8oz Shaker                                        0.0  \n",
       "Africa's Best No-Lye Dual Conditioning Relaxer ...                                       0.0  \n",
       "\n",
       "[5 rows x 202 columns]"
      ]
     },
     "execution_count": 118,
     "metadata": {},
     "output_type": "execute_result"
    }
   ],
   "source": [
    "item_correlation_df_3.head()"
   ]
  },
  {
   "cell_type": "code",
   "execution_count": 119,
   "metadata": {
    "colab": {
     "base_uri": "https://localhost:8080/"
    },
    "id": "pg2CLrKzGHy4",
    "outputId": "564dabd8-3925-48a9-8ce7-43a70343ee04"
   },
   "outputs": [
    {
     "data": {
      "text/plain": [
       "array([[0.        , 5.        , 0.        , ..., 0.        , 0.        ,\n",
       "        0.        ],\n",
       "       [0.        , 0.        , 0.        , ..., 0.        , 0.        ,\n",
       "        0.        ],\n",
       "       [0.        , 0.        , 0.        , ..., 0.        , 0.        ,\n",
       "        0.        ],\n",
       "       ...,\n",
       "       [0.        , 0.        , 0.        , ..., 0.        , 0.        ,\n",
       "        0.        ],\n",
       "       [0.00681299, 0.        , 0.        , ..., 0.        , 0.        ,\n",
       "        0.        ],\n",
       "       [0.        , 0.        , 0.        , ..., 0.        , 0.        ,\n",
       "        0.        ]])"
      ]
     },
     "execution_count": 119,
     "metadata": {},
     "output_type": "execute_result"
    }
   ],
   "source": [
    "item_correlation_df_3[item_correlation_df_3<0]=0\n",
    "\n",
    "common_item_predicted_ratings = np.dot(item_correlation_df_3, common_item_based_matrix.fillna(0))\n",
    "common_item_predicted_ratings"
   ]
  },
  {
   "cell_type": "code",
   "execution_count": 120,
   "metadata": {
    "id": "DuOTeIcbGHy5"
   },
   "outputs": [],
   "source": [
    "# preparing the dummy test dataset in a way such that for rated products, the marking is 1, else 0\n",
    "\n",
    "dummy_test = common.copy()\n",
    "\n",
    "dummy_test['reviews_rating'] = dummy_test['reviews_rating'].apply(lambda x: 1 if x>=1 else 0)\n",
    "\n",
    "dummy_test = dummy_test.pivot_table(index='reviews_username', columns='name', values='reviews_rating').T.fillna(0)\n",
    "\n",
    "common_item_predicted_ratings = np.multiply(common_item_predicted_ratings,dummy_test)"
   ]
  },
  {
   "cell_type": "code",
   "execution_count": 121,
   "metadata": {
    "id": "RmJZeHkrGHy6"
   },
   "outputs": [],
   "source": [
    "# convering the common dataframe into product-user matrix\n",
    "common_ = common.pivot_table(index='reviews_username', columns='name', values='reviews_rating').T"
   ]
  },
  {
   "cell_type": "code",
   "execution_count": 122,
   "metadata": {
    "colab": {
     "base_uri": "https://localhost:8080/"
    },
    "id": "OzI9RiqsGHy6",
    "outputId": "08452ae8-7be4-433d-a6b5-daf815dd523e"
   },
   "outputs": [
    {
     "name": "stdout",
     "output_type": "stream",
     "text": [
      "MinMaxScaler(feature_range=(1, 5))\n",
      "[[nan  1. nan ... nan nan nan]\n",
      " [nan nan nan ... nan nan nan]\n",
      " [nan nan nan ... nan nan nan]\n",
      " ...\n",
      " [nan nan nan ... nan nan nan]\n",
      " [nan nan nan ... nan nan nan]\n",
      " [nan nan nan ... nan nan nan]]\n"
     ]
    }
   ],
   "source": [
    "# copying the common item predicted ratings\n",
    "X  = common_item_predicted_ratings.copy() \n",
    "X = X[X>0]\n",
    "# scaling the ratings between 1 and 5\n",
    "scaler = MinMaxScaler(feature_range=(1, 5))\n",
    "print(scaler.fit(X))\n",
    "y = (scaler.transform(X))\n",
    "\n",
    "print(y)"
   ]
  },
  {
   "cell_type": "code",
   "execution_count": 123,
   "metadata": {
    "id": "eEuF71raGHy7"
   },
   "outputs": [],
   "source": [
    "# finding total non-NaN value\n",
    "total_non_nan = np.count_nonzero(~np.isnan(y))"
   ]
  },
  {
   "cell_type": "code",
   "execution_count": 124,
   "metadata": {
    "colab": {
     "base_uri": "https://localhost:8080/"
    },
    "id": "Z8DXO-1TGHy7",
    "outputId": "0c341af6-7658-452e-af60-e45e8cad237b"
   },
   "outputs": [
    {
     "name": "stdout",
     "output_type": "stream",
     "text": [
      "Root Mean Square Error of the User-based Recommender:  3.5678352577854886\n"
     ]
    }
   ],
   "source": [
    "# calculating RMSE score\n",
    "rmse = ((((common_ - y)**2).sum(skipna = True)).sum(skipna = True)/total_non_nan)**0.5\n",
    "print('Root Mean Square Error of the User-based Recommender: ', rmse)"
   ]
  },
  {
   "cell_type": "markdown",
   "metadata": {
    "id": "bEDM93YF1Mad"
   },
   "source": [
    "## User-based Recommendation System yielded comparitively less RMSE Score and will recommend a variety of products to the users unlike Item-based. Hence, is selected as the Best Recommender Model"
   ]
  },
  {
   "cell_type": "code",
   "execution_count": 125,
   "metadata": {
    "id": "60SocI5nGHy9"
   },
   "outputs": [],
   "source": [
    "user_final_rating.to_csv('user_final_rating.csv')"
   ]
  },
  {
   "cell_type": "code",
   "execution_count": 126,
   "metadata": {
    "colab": {
     "base_uri": "https://localhost:8080/"
    },
    "id": "seSM0KLbGHy-",
    "outputId": "088079b7-9b28-4327-8758-3a215e411a55"
   },
   "outputs": [
    {
     "name": "stdout",
     "output_type": "stream",
     "text": [
      "Enter your username: rebecca\n"
     ]
    }
   ],
   "source": [
    "# taking the username as input.\n",
    "user_input = input(\"Enter your username: \")\n",
    "if user_input not in list(user_final_rating.index):\n",
    "    print('Sorry !!! The username is not registered !!!')"
   ]
  },
  {
   "cell_type": "code",
   "execution_count": 127,
   "metadata": {
    "id": "OqgoMFNYGHy_"
   },
   "outputs": [],
   "source": [
    "# recommending top 20 products to the user\n",
    "recommended_user_based_products = pd.DataFrame(user_final_rating.loc[user_input].sort_values(ascending=False))[0:20]"
   ]
  },
  {
   "cell_type": "code",
   "execution_count": 128,
   "metadata": {
    "colab": {
     "base_uri": "https://localhost:8080/",
     "height": 669
    },
    "id": "rhcVIgwxGHy_",
    "outputId": "1cfdf58e-d8de-44ad-a3c7-7429cc547eb2"
   },
   "outputs": [
    {
     "data": {
      "text/html": [
       "<div>\n",
       "<style scoped>\n",
       "    .dataframe tbody tr th:only-of-type {\n",
       "        vertical-align: middle;\n",
       "    }\n",
       "\n",
       "    .dataframe tbody tr th {\n",
       "        vertical-align: top;\n",
       "    }\n",
       "\n",
       "    .dataframe thead th {\n",
       "        text-align: right;\n",
       "    }\n",
       "</style>\n",
       "<table border=\"1\" class=\"dataframe\">\n",
       "  <thead>\n",
       "    <tr style=\"text-align: right;\">\n",
       "      <th></th>\n",
       "      <th>rebecca</th>\n",
       "    </tr>\n",
       "    <tr>\n",
       "      <th>name</th>\n",
       "      <th></th>\n",
       "    </tr>\n",
       "  </thead>\n",
       "  <tbody>\n",
       "    <tr>\n",
       "      <th>Godzilla 3d Includes Digital Copy Ultraviolet 3d/2d Blu-Ray/dvd</th>\n",
       "      <td>17.746552</td>\n",
       "    </tr>\n",
       "    <tr>\n",
       "      <th>Mike Dave Need Wedding Dates (dvd + Digital)</th>\n",
       "      <td>11.882965</td>\n",
       "    </tr>\n",
       "    <tr>\n",
       "      <th>My Big Fat Greek Wedding 2 (blu-Ray + Dvd + Digital)</th>\n",
       "      <td>6.788884</td>\n",
       "    </tr>\n",
       "    <tr>\n",
       "      <th>Clorox Disinfecting Bathroom Cleaner</th>\n",
       "      <td>6.118116</td>\n",
       "    </tr>\n",
       "    <tr>\n",
       "      <th>Coty Airspun Face Powder, Translucent Extra Coverage</th>\n",
       "      <td>5.235344</td>\n",
       "    </tr>\n",
       "    <tr>\n",
       "      <th>The Resident Evil Collection 5 Discs (blu-Ray)</th>\n",
       "      <td>4.253583</td>\n",
       "    </tr>\n",
       "    <tr>\n",
       "      <th>Chester's Cheese Flavored Puffcorn Snacks</th>\n",
       "      <td>3.947963</td>\n",
       "    </tr>\n",
       "    <tr>\n",
       "      <th>Burt's Bees Lip Shimmer, Raisin</th>\n",
       "      <td>3.874682</td>\n",
       "    </tr>\n",
       "    <tr>\n",
       "      <th>The Honest Company Laundry Detergent</th>\n",
       "      <td>3.592439</td>\n",
       "    </tr>\n",
       "    <tr>\n",
       "      <th>Boraam Sonoma Kitchen Cart With Wire Brush Gray - Maaya Home</th>\n",
       "      <td>3.457140</td>\n",
       "    </tr>\n",
       "    <tr>\n",
       "      <th>Red (special Edition) (dvdvideo)</th>\n",
       "      <td>3.399965</td>\n",
       "    </tr>\n",
       "    <tr>\n",
       "      <th>Bisquick Original Pancake And Baking Mix - 40oz</th>\n",
       "      <td>3.120303</td>\n",
       "    </tr>\n",
       "    <tr>\n",
       "      <th>Windex Original Glass Cleaner Refill 67.6oz (2 Liter)</th>\n",
       "      <td>2.989291</td>\n",
       "    </tr>\n",
       "    <tr>\n",
       "      <th>Pendaflex174 Divide It Up File Folder, Multi Section, Letter, Assorted, 12/pack</th>\n",
       "      <td>2.813326</td>\n",
       "    </tr>\n",
       "    <tr>\n",
       "      <th>Power Crunch Protein Energy Bar Peanut Butter Creme Original</th>\n",
       "      <td>2.584178</td>\n",
       "    </tr>\n",
       "    <tr>\n",
       "      <th>Vaseline Intensive Care Lip Therapy Cocoa Butter</th>\n",
       "      <td>2.304220</td>\n",
       "    </tr>\n",
       "    <tr>\n",
       "      <th>Cheetos Crunchy Flamin' Hot Cheese Flavored Snacks</th>\n",
       "      <td>2.234380</td>\n",
       "    </tr>\n",
       "    <tr>\n",
       "      <th>Chex Muddy Buddies Brownie Supreme Snack Mix</th>\n",
       "      <td>1.997450</td>\n",
       "    </tr>\n",
       "    <tr>\n",
       "      <th>Ragu Roasted Garlic Parmesan Pasta Sauce</th>\n",
       "      <td>1.839426</td>\n",
       "    </tr>\n",
       "    <tr>\n",
       "      <th>Jolly Time Select Premium Yellow Pop Corn</th>\n",
       "      <td>1.759466</td>\n",
       "    </tr>\n",
       "  </tbody>\n",
       "</table>\n",
       "</div>"
      ],
      "text/plain": [
       "                                                      rebecca\n",
       "name                                                         \n",
       "Godzilla 3d Includes Digital Copy Ultraviolet 3...  17.746552\n",
       "Mike Dave Need Wedding Dates (dvd + Digital)        11.882965\n",
       "My Big Fat Greek Wedding 2 (blu-Ray + Dvd + Dig...   6.788884\n",
       "Clorox Disinfecting Bathroom Cleaner                 6.118116\n",
       "Coty Airspun Face Powder, Translucent Extra Cov...   5.235344\n",
       "The Resident Evil Collection 5 Discs (blu-Ray)       4.253583\n",
       "Chester's Cheese Flavored Puffcorn Snacks            3.947963\n",
       "Burt's Bees Lip Shimmer, Raisin                      3.874682\n",
       "The Honest Company Laundry Detergent                 3.592439\n",
       "Boraam Sonoma Kitchen Cart With Wire Brush Gray...   3.457140\n",
       "Red (special Edition) (dvdvideo)                     3.399965\n",
       "Bisquick Original Pancake And Baking Mix - 40oz      3.120303\n",
       "Windex Original Glass Cleaner Refill 67.6oz (2 ...   2.989291\n",
       "Pendaflex174 Divide It Up File Folder, Multi Se...   2.813326\n",
       "Power Crunch Protein Energy Bar Peanut Butter C...   2.584178\n",
       "Vaseline Intensive Care Lip Therapy Cocoa Butter     2.304220\n",
       "Cheetos Crunchy Flamin' Hot Cheese Flavored Snacks   2.234380\n",
       "Chex Muddy Buddies Brownie Supreme Snack Mix         1.997450\n",
       "Ragu Roasted Garlic Parmesan Pasta Sauce             1.839426\n",
       "Jolly Time Select Premium Yellow Pop Corn            1.759466"
      ]
     },
     "execution_count": 128,
     "metadata": {},
     "output_type": "execute_result"
    }
   ],
   "source": [
    "recommended_user_based_products"
   ]
  },
  {
   "cell_type": "markdown",
   "metadata": {
    "id": "8PLlu94X9jmk"
   },
   "source": [
    "# 3. Fine-tuning the Recommender Model using the Sentiment Analyzer to select top 5 products with mostly positive reviews"
   ]
  },
  {
   "cell_type": "code",
   "execution_count": 129,
   "metadata": {
    "id": "WX0Cz96K1Mae"
   },
   "outputs": [],
   "source": [
    "df_predicted_user_sentiments = pd.read_csv('sample30_final.csv') # reading the dataframe having predicted ratings by sentiment analyzer\n",
    "\n",
    "positive_products = []\n",
    "for product in recommended_user_based_products.index:\n",
    "    predicted_sentiments = np.array(df_predicted_user_sentiments.loc[df_predicted_user_sentiments.name == product, 'predicted_user_sentiment'])\n",
    "    final_sentiment = Counter(predicted_sentiments).most_common()[0][0]\n",
    "    if final_sentiment == 1:\n",
    "        positive_products.append(product)\n",
    "    if len(positive_products) == 5:\n",
    "        break"
   ]
  },
  {
   "cell_type": "code",
   "execution_count": 130,
   "metadata": {
    "id": "rbJiiZATGHzB"
   },
   "outputs": [],
   "source": [
    "# getting the 5 final recommended product details like brand, categories and manufacturer along with the name\n",
    "recommended_user_based_product_details = {}\n",
    "recommended_user_based_product_details['name'] = []\n",
    "recommended_user_based_product_details['brand'] = []\n",
    "recommended_user_based_product_details['categories'] = []\n",
    "recommended_user_based_product_details['manufacturer'] = []\n",
    "\n",
    "for products in positive_products:\n",
    "    recommended_user_based_product_details['brand'].append(df.loc[df.name == products, 'brand'].iloc[0])\n",
    "    recommended_user_based_product_details['categories'].append(df.loc[df.name == products, 'categories'].iloc[0])\n",
    "    recommended_user_based_product_details['manufacturer'].append(df.loc[df.name == products, 'manufacturer'].iloc[0])\n",
    "    recommended_user_based_product_details['name'].append(products)    "
   ]
  },
  {
   "cell_type": "code",
   "execution_count": 131,
   "metadata": {
    "colab": {
     "base_uri": "https://localhost:8080/",
     "height": 195
    },
    "id": "PrpQKLd4GHzC",
    "outputId": "fcd876e9-f67c-4a6f-be91-9453774fec23"
   },
   "outputs": [
    {
     "data": {
      "text/html": [
       "<div>\n",
       "<style scoped>\n",
       "    .dataframe tbody tr th:only-of-type {\n",
       "        vertical-align: middle;\n",
       "    }\n",
       "\n",
       "    .dataframe tbody tr th {\n",
       "        vertical-align: top;\n",
       "    }\n",
       "\n",
       "    .dataframe thead th {\n",
       "        text-align: right;\n",
       "    }\n",
       "</style>\n",
       "<table border=\"1\" class=\"dataframe\">\n",
       "  <thead>\n",
       "    <tr style=\"text-align: right;\">\n",
       "      <th></th>\n",
       "      <th>name</th>\n",
       "      <th>brand</th>\n",
       "      <th>categories</th>\n",
       "      <th>manufacturer</th>\n",
       "    </tr>\n",
       "  </thead>\n",
       "  <tbody>\n",
       "    <tr>\n",
       "      <th>0</th>\n",
       "      <td>Godzilla 3d Includes Digital Copy Ultraviolet ...</td>\n",
       "      <td>Warner Home Video</td>\n",
       "      <td>Movies, Music &amp; Books,Movies,Action &amp; Adventur...</td>\n",
       "      <td>Test</td>\n",
       "    </tr>\n",
       "    <tr>\n",
       "      <th>1</th>\n",
       "      <td>Mike Dave Need Wedding Dates (dvd + Digital)</td>\n",
       "      <td>FOX</td>\n",
       "      <td>Movies &amp; TV Shows,Movies,Romance,Romantic Come...</td>\n",
       "      <td>Twentieth Century Fox</td>\n",
       "    </tr>\n",
       "    <tr>\n",
       "      <th>2</th>\n",
       "      <td>My Big Fat Greek Wedding 2 (blu-Ray + Dvd + Di...</td>\n",
       "      <td>Universal Home Video</td>\n",
       "      <td>Movies, Music &amp; Books,Movies,Comedy,Movies &amp; T...</td>\n",
       "      <td>Universal</td>\n",
       "    </tr>\n",
       "    <tr>\n",
       "      <th>3</th>\n",
       "      <td>Clorox Disinfecting Bathroom Cleaner</td>\n",
       "      <td>Clorox</td>\n",
       "      <td>Household Chemicals,Household Cleaners,Bath &amp; ...</td>\n",
       "      <td>AmazonUs/CLOO7</td>\n",
       "    </tr>\n",
       "    <tr>\n",
       "      <th>4</th>\n",
       "      <td>Coty Airspun Face Powder, Translucent Extra Co...</td>\n",
       "      <td>Coty</td>\n",
       "      <td>Personal Care,Makeup,Concealer &amp; Foundation,Fo...</td>\n",
       "      <td>Coty brands</td>\n",
       "    </tr>\n",
       "  </tbody>\n",
       "</table>\n",
       "</div>"
      ],
      "text/plain": [
       "                                                name                 brand  \\\n",
       "0  Godzilla 3d Includes Digital Copy Ultraviolet ...     Warner Home Video   \n",
       "1       Mike Dave Need Wedding Dates (dvd + Digital)                   FOX   \n",
       "2  My Big Fat Greek Wedding 2 (blu-Ray + Dvd + Di...  Universal Home Video   \n",
       "3               Clorox Disinfecting Bathroom Cleaner                Clorox   \n",
       "4  Coty Airspun Face Powder, Translucent Extra Co...                  Coty   \n",
       "\n",
       "                                          categories           manufacturer  \n",
       "0  Movies, Music & Books,Movies,Action & Adventur...                   Test  \n",
       "1  Movies & TV Shows,Movies,Romance,Romantic Come...  Twentieth Century Fox  \n",
       "2  Movies, Music & Books,Movies,Comedy,Movies & T...              Universal  \n",
       "3  Household Chemicals,Household Cleaners,Bath & ...         AmazonUs/CLOO7  \n",
       "4  Personal Care,Makeup,Concealer & Foundation,Fo...            Coty brands  "
      ]
     },
     "execution_count": 131,
     "metadata": {},
     "output_type": "execute_result"
    }
   ],
   "source": [
    "pd.DataFrame(recommended_user_based_product_details)"
   ]
  },
  {
   "cell_type": "markdown",
   "metadata": {},
   "source": [
    "#### GitHub Repository Link: https://github.com/navoneel1092283/Sentiment_Based_Product_Recommender\n",
    "#### Flask Web Application Link deployed in Heroku: https://sbpr.herokuapp.com/"
   ]
  }
 ],
 "metadata": {
  "colab": {
   "collapsed_sections": [],
   "name": "CAPSTONE_FINAL_COLAB_FINALIZED.ipynb",
   "provenance": [],
   "toc_visible": true
  },
  "kernelspec": {
   "display_name": "Python 3",
   "language": "python",
   "name": "python3"
  },
  "language_info": {
   "codemirror_mode": {
    "name": "ipython",
    "version": 3
   },
   "file_extension": ".py",
   "mimetype": "text/x-python",
   "name": "python",
   "nbconvert_exporter": "python",
   "pygments_lexer": "ipython3",
   "version": "3.8.5"
  }
 },
 "nbformat": 4,
 "nbformat_minor": 1
}
